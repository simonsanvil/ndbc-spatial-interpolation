{
 "cells": [
  {
   "cell_type": "markdown",
   "metadata": {},
   "source": [
    "<img src=\"https://www.ncei.noaa.gov/themes/custom/ncei/logo.svg\" width=\"800\">\n",
    "\n",
    "## Data from NOAA's National Data Buoy Center (NDBC)\n",
    "\n",
    "NOAA (National Oceanic and Atmospheric Administration) is the agency of the United States responsible for the collection, storage, and dissemination of oceanograpphic and atmospheric data.\n",
    "\n",
    "The National Data Buoy Center (NDBC) is a network of buoy stations that monitor the environmental conditions and wave height of the ocean along the coasts of the United States.\n",
    "\n",
    "Sources:\n",
    "- https://www.ncei.noaa.gov/access/metadata/landing-page/bin/iso?id=gov.noaa.nodc:NDBC-CMANWx\n",
    "- https://www.ndbc.noaa.gov/data/historical/stdmet/"
   ]
  },
  {
   "cell_type": "code",
   "execution_count": 1,
   "metadata": {},
   "outputs": [],
   "source": [
    "import pandas as pd\n",
    "import numpy as np\n",
    "import matplotlib.pyplot as plt\n",
    "\n",
    "import os, glob\n",
    "\n",
    "from IPython.display import display\n",
    "\n",
    "from spatial_interpolation import data\n",
    "from spatial_interpolation.pipelines.noaa import metadata_extraction as noaa_metadata\n",
    "from spatial_interpolation.visualization import map_viz\n",
    "\n",
    "%matplotlib inline"
   ]
  },
  {
   "cell_type": "code",
   "execution_count": 35,
   "metadata": {},
   "outputs": [
    {
     "name": "stdout",
     "output_type": "stream",
     "text": [
      "Number of individual buoy stations: 68\n",
      "Number of files available for the corresponding stations: 969\n",
      "Average available buoys at a time: 20.0\n"
     ]
    },
    {
     "data": {
      "text/html": [
       "<div>\n",
       "<style scoped>\n",
       "    .dataframe tbody tr th:only-of-type {\n",
       "        vertical-align: middle;\n",
       "    }\n",
       "\n",
       "    .dataframe tbody tr th {\n",
       "        vertical-align: top;\n",
       "    }\n",
       "\n",
       "    .dataframe thead th {\n",
       "        text-align: right;\n",
       "    }\n",
       "</style>\n",
       "<table border=\"1\" class=\"dataframe\">\n",
       "  <thead>\n",
       "    <tr style=\"text-align: right;\">\n",
       "      <th></th>\n",
       "      <th>filename</th>\n",
       "      <th>Last modified</th>\n",
       "      <th>Size</th>\n",
       "      <th>buoy_id</th>\n",
       "      <th>year</th>\n",
       "      <th>buoy_name</th>\n",
       "      <th>latitude</th>\n",
       "      <th>longitude</th>\n",
       "    </tr>\n",
       "  </thead>\n",
       "  <tbody>\n",
       "    <tr>\n",
       "      <th>124</th>\n",
       "      <td>41001h1976.txt.gz</td>\n",
       "      <td>1998-08-12 19:30:00</td>\n",
       "      <td>18K</td>\n",
       "      <td>41001</td>\n",
       "      <td>1976</td>\n",
       "      <td>41001 150 NM East of Cape HATTERAS</td>\n",
       "      <td>34.724</td>\n",
       "      <td>-72.317</td>\n",
       "    </tr>\n",
       "    <tr>\n",
       "      <th>125</th>\n",
       "      <td>41001h1977.txt.gz</td>\n",
       "      <td>1998-08-12 19:30:00</td>\n",
       "      <td>28K</td>\n",
       "      <td>41001</td>\n",
       "      <td>1977</td>\n",
       "      <td>41001 150 NM East of Cape HATTERAS</td>\n",
       "      <td>34.724</td>\n",
       "      <td>-72.317</td>\n",
       "    </tr>\n",
       "    <tr>\n",
       "      <th>126</th>\n",
       "      <td>41001h1978.txt.gz</td>\n",
       "      <td>1998-08-12 19:30:00</td>\n",
       "      <td>31K</td>\n",
       "      <td>41001</td>\n",
       "      <td>1978</td>\n",
       "      <td>41001 150 NM East of Cape HATTERAS</td>\n",
       "      <td>34.724</td>\n",
       "      <td>-72.317</td>\n",
       "    </tr>\n",
       "    <tr>\n",
       "      <th>127</th>\n",
       "      <td>41001h1979.txt.gz</td>\n",
       "      <td>1998-08-12 19:30:00</td>\n",
       "      <td>14K</td>\n",
       "      <td>41001</td>\n",
       "      <td>1979</td>\n",
       "      <td>41001 150 NM East of Cape HATTERAS</td>\n",
       "      <td>34.724</td>\n",
       "      <td>-72.317</td>\n",
       "    </tr>\n",
       "    <tr>\n",
       "      <th>128</th>\n",
       "      <td>41001h1980.txt.gz</td>\n",
       "      <td>1998-08-12 19:30:00</td>\n",
       "      <td>43K</td>\n",
       "      <td>41001</td>\n",
       "      <td>1980</td>\n",
       "      <td>41001 150 NM East of Cape HATTERAS</td>\n",
       "      <td>34.724</td>\n",
       "      <td>-72.317</td>\n",
       "    </tr>\n",
       "  </tbody>\n",
       "</table>\n",
       "</div>"
      ],
      "text/plain": [
       "              filename       Last modified Size buoy_id  year  \\\n",
       "124  41001h1976.txt.gz 1998-08-12 19:30:00  18K   41001  1976   \n",
       "125  41001h1977.txt.gz 1998-08-12 19:30:00  28K   41001  1977   \n",
       "126  41001h1978.txt.gz 1998-08-12 19:30:00  31K   41001  1978   \n",
       "127  41001h1979.txt.gz 1998-08-12 19:30:00  14K   41001  1979   \n",
       "128  41001h1980.txt.gz 1998-08-12 19:30:00  43K   41001  1980   \n",
       "\n",
       "                              buoy_name  latitude  longitude  \n",
       "124  41001 150 NM East of Cape HATTERAS    34.724    -72.317  \n",
       "125  41001 150 NM East of Cape HATTERAS    34.724    -72.317  \n",
       "126  41001 150 NM East of Cape HATTERAS    34.724    -72.317  \n",
       "127  41001 150 NM East of Cape HATTERAS    34.724    -72.317  \n",
       "128  41001 150 NM East of Cape HATTERAS    34.724    -72.317  "
      ]
     },
     "metadata": {},
     "output_type": "display_data"
    },
    {
     "data": {
      "image/png": "[encoded data removed]",
      "text/plain": [
       "<Figure size 864x432 with 1 Axes>"
      ]
     },
     "metadata": {
      "needs_background": "light"
     },
     "output_type": "display_data"
    }
   ],
   "source": [
    "# https://www.ndbc.noaa.gov/data/historical/stdmet/\n",
    "stmed_data_index_html = open(\"references/stdmet_data_index.html\").read()\n",
    "buoy_locations_info_df = pd.read_csv(\"data/02_interim/buoy_locations.csv\")\n",
    "\n",
    "data_index_df = noaa_metadata.get_buoy_stdmet_index_df(stmed_data_index_html)\n",
    "metadata_df = noaa_metadata.make_ndbc_metadata_df(buoy_locations_info_df, data_index_df)\n",
    "# metadata_df = metadata_df[metadata_df.year>=2011]\n",
    "print(\"Number of individual buoy stations:\", metadata_df.buoy_id.nunique())\n",
    "print(\"Number of files available for the corresponding stations:\",len(metadata_df.filename.unique()))\n",
    "print(\"Average available buoys at a time:\",metadata_df.groupby(\"year\").buoy_id.nunique().mean().round())\n",
    "display(metadata_df.head())\n",
    "metadata_df.year.plot(kind=\"hist\",title=\"Frequency of data per Year\",bins=100, figsize=(12,6));"
   ]
  },
  {
   "cell_type": "code",
   "execution_count": null,
   "metadata": {},
   "outputs": [],
   "source": [
    "# Write the filenames to a txt file to later wget them\n",
    "url_template = \"https://www.ndbc.noaa.gov/data/historical/stdmet/{filename}\"\n",
    "data_urls = [url_template.format(filename=f) for f in metadata_df.filename.unique()]\n",
    "with open(\"../references/ndbc_stdmet_buoy_data_urls.txt\",\"w\") as f:\n",
    "    f.write(\"\\n\".join(data_urls))"
   ]
  },
  {
   "cell_type": "raw",
   "metadata": {},
   "source": [
    "%%bash\n",
    "wget -i ../references/ndbc_stdmet_buoy_data_urls.txt"
   ]
  },
  {
   "cell_type": "markdown",
   "metadata": {},
   "source": [
    "---------"
   ]
  },
  {
   "cell_type": "markdown",
   "metadata": {},
   "source": [
    "### Data Description\n",
    "\n",
    "| Field | Description |\n",
    "| --- | --- |\n",
    "| YY | Year |\n",
    "| MM | Month |\n",
    "| DD | Day |\n",
    "| hh | Hour |\n",
    "| mm | Minute |\n",
    "| WDIR | Wind direction (the direction the wind is coming from in degrees clockwise from true N) |\n",
    "| WSPD | Wind speed, averaged over an eight-minute period (m/s) |\n",
    "| GST | Peak 5 or 8 second gust speed measured during the eight-minute or two-minute period(m/s) |\n",
    "| WVHT | Significant wave height (meters) |\n",
    "| DPD | Dominant wave period (seconds) |\n",
    "| APD | Average wave period (seconds) |\n",
    "| MWD | The direction from which the waves at the dominant period (DPD) are coming. The units are degrees from true North, increasing clockwise, with North as 0 (zero) degrees and East as 90 degrees. |\n",
    "| PRES | Sea level pressure (hPa) |\n",
    "| ATMP | Air temperature (Celsius) |\n",
    "| WTMP | Sea surface temperature (Celsius) |\n",
    "| DEWP | Dewpoint temperature (Celsius) |\n",
    "| VIS | visibility (nautical miles) |\n",
    "| TIDE | Water level in feet above or below Mean Lower Low Water, MLLW (feet) |\n",
    "    \n",
    "Source: https://mgimond.github.io/ES218/Week02d.html"
   ]
  },
  {
   "cell_type": "code",
   "execution_count": 2,
   "metadata": {},
   "outputs": [
    {
     "data": {
      "text/html": [
       "<div>\n",
       "<style scoped>\n",
       "    .dataframe tbody tr th:only-of-type {\n",
       "        vertical-align: middle;\n",
       "    }\n",
       "\n",
       "    .dataframe tbody tr th {\n",
       "        vertical-align: top;\n",
       "    }\n",
       "\n",
       "    .dataframe thead th {\n",
       "        text-align: right;\n",
       "    }\n",
       "</style>\n",
       "<table border=\"1\" class=\"dataframe\">\n",
       "  <thead>\n",
       "    <tr style=\"text-align: right;\">\n",
       "      <th></th>\n",
       "      <th>time</th>\n",
       "      <th>buoy_id</th>\n",
       "      <th>wind_dir</th>\n",
       "      <th>wind_speed</th>\n",
       "      <th>wave_height</th>\n",
       "      <th>wave_period</th>\n",
       "    </tr>\n",
       "  </thead>\n",
       "  <tbody>\n",
       "    <tr>\n",
       "      <th>0</th>\n",
       "      <td>2016-12-31 23:50:00</td>\n",
       "      <td>41008</td>\n",
       "      <td>50.0</td>\n",
       "      <td>3.7</td>\n",
       "      <td>0.3</td>\n",
       "      <td>10.0</td>\n",
       "    </tr>\n",
       "    <tr>\n",
       "      <th>1</th>\n",
       "      <td>2017-01-01 00:50:00</td>\n",
       "      <td>41008</td>\n",
       "      <td>67.0</td>\n",
       "      <td>2.5</td>\n",
       "      <td>0.3</td>\n",
       "      <td>9.1</td>\n",
       "    </tr>\n",
       "    <tr>\n",
       "      <th>2</th>\n",
       "      <td>2017-01-01 01:50:00</td>\n",
       "      <td>41008</td>\n",
       "      <td>55.0</td>\n",
       "      <td>2.6</td>\n",
       "      <td>0.3</td>\n",
       "      <td>10.8</td>\n",
       "    </tr>\n",
       "    <tr>\n",
       "      <th>3</th>\n",
       "      <td>2017-01-01 02:50:00</td>\n",
       "      <td>41008</td>\n",
       "      <td>30.0</td>\n",
       "      <td>1.9</td>\n",
       "      <td>0.4</td>\n",
       "      <td>11.4</td>\n",
       "    </tr>\n",
       "    <tr>\n",
       "      <th>4</th>\n",
       "      <td>2017-01-01 03:50:00</td>\n",
       "      <td>41008</td>\n",
       "      <td>103.0</td>\n",
       "      <td>2.8</td>\n",
       "      <td>0.4</td>\n",
       "      <td>10.0</td>\n",
       "    </tr>\n",
       "  </tbody>\n",
       "</table>\n",
       "</div>"
      ],
      "text/plain": [
       "                 time buoy_id  wind_dir  wind_speed  wave_height  wave_period\n",
       "0 2016-12-31 23:50:00   41008      50.0         3.7          0.3         10.0\n",
       "1 2017-01-01 00:50:00   41008      67.0         2.5          0.3          9.1\n",
       "2 2017-01-01 01:50:00   41008      55.0         2.6          0.3         10.8\n",
       "3 2017-01-01 02:50:00   41008      30.0         1.9          0.4         11.4\n",
       "4 2017-01-01 03:50:00   41008     103.0         2.8          0.4         10.0"
      ]
     },
     "metadata": {},
     "output_type": "display_data"
    }
   ],
   "source": [
    "from spatial_interpolation.pipelines.noaa import data_processing as dp\n",
    "from spatial_interpolation.pipelines.noaa.utils.datasets import RawBuoyDataSet\n",
    "\n",
    "import logging\n",
    "logging.basicConfig()\n",
    "raw_files = glob.glob(\"data/01_raw/ndbc_stdmet_buoy_data/*.txt.gz\")[-2:-1]\n",
    "raw_df = RawBuoyDataSet(raw_files[0]).load()\n",
    "processed_df = dp.process_raw_stdmet_df(raw_df.drop(columns=[\"VIS\",\"GST\",\"TIDE\",\"APD\",\"PRES\"]))\n",
    "# parsed_dfs = dp.parse_raw_buoy_files(raw_files, num_cores=3)\n",
    "# parsed_dfs[0]\n",
    "# WDIR WSPD WVHT DPD MWD ATMP WTMP DEWP\n",
    "processed_df.columns = processed_df.columns\\\n",
    "    .str.replace(\"temperature\",\"temp\")\\\n",
    "    .str.replace(\"direction\",\"dir\")\\\n",
    "    .str.replace(\"dominant_\",\"\")\n",
    "display(\n",
    "    processed_df.head()\n",
    "    .round(1)\n",
    "    .head()\n",
    "    # .loc[:,[\"YY\", \"MM\", \"DD\", \"hh\", \"mm\", \"WDIR\", \"WSPD\", \"WVHT\", \"DPD\", \"MWD\", \"ATMP\"]]\n",
    "    .loc[:,[\"time\",\"buoy_id\",\"wind_dir\",\"wind_speed\",\"wave_height\",\"wave_period\"]]\n",
    "    # .to_latex(index=False)\n",
    ")\n",
    "# print(\n",
    "#     raw_df\n",
    "\n",
    "# )\n"
   ]
  },
  {
   "cell_type": "markdown",
   "metadata": {},
   "source": [
    "----\n",
    "\n",
    "## Analysis of data"
   ]
  },
  {
   "cell_type": "code",
   "execution_count": 2,
   "metadata": {},
   "outputs": [],
   "source": [
    "import gstools as gs\n",
    "import pandas as pd\n",
    "from pandas import IndexSlice as idx\n",
    "from spatial_interpolation import data\n",
    "from subplotted import subplotted\n",
    "import matplotlib.pyplot as plt\n",
    "import seaborn as sns\n",
    "\n",
    "from experiments.configs.evaluation import eval_sets\n",
    "from subplotted import subplotted\n",
    "\n",
    "%matplotlib inline"
   ]
  },
  {
   "cell_type": "code",
   "execution_count": 3,
   "metadata": {},
   "outputs": [],
   "source": [
    "# get the data\n",
    "ndbc_data = data.NDBCDataLoader().load()#start=\"2011-01-01\", end=\"2022-01-01\").load()\n",
    "df, ndbc_gdf = ndbc_data.buoys_data, ndbc_data.buoys_geo\n",
    "df_countries = data.load_world_borders()\n",
    "ndbc_data_7d = ndbc_data.join(resample=\"7D\").dropna(subset=[\"geometry\"])\n",
    "ndbc_data_daily = ndbc_data.join(resample=\"D\").dropna(subset=[\"geometry\"])"
   ]
  },
  {
   "cell_type": "code",
   "execution_count": null,
   "metadata": {},
   "outputs": [],
   "source": [
    "station_ids = [\"42019\"]\n",
    "times =dict(start=\"2020-05-05 01:00\", end=\"2020-05-30 23:00\")\n",
    "partial_df = (\n",
    "    df\n",
    "    .loc[idx[station_ids,times[\"start\"]:times[\"end\"]],:]\n",
    "    .dropna(subset=[\"wave_height\",\"wind_speed\"])\n",
    "    .sort_index(level=\"time\")\n",
    ")\n",
    "display(partial_df.head())\n",
    "print(partial_df.index.get_level_values(\"time\").nunique(),\"timestamps\")\n",
    "fig, ax = plt.subplots(figsize=(10, 5))\n",
    "ax = sns.lineplot(x=\"time\", y=\"wave_height\",data=partial_df[[\"wave_height\"]].reset_index(), hue=\"buoy_id\",ax=ax)\n",
    "sns.scatterplot(x=\"time\", y=\"wave_height\",data=partial_df[[\"wave_height\"]].reset_index(), color=\"black\", ax=ax)\n",
    "plt.show()\n",
    "# count of stations with data\n",
    "print(\"count of values by station:\")\n",
    "display(partial_df.index.get_level_values(\"buoy_id\").value_counts())\n",
    "# overlap times?\n",
    "print(\"Overlaps:\")\n",
    "counts_df = partial_df.groupby(\"time\").count().wave_height\n",
    "counts_df.plot()\n",
    "plt.show()\n",
    "display(counts_df.sort_values().tail(5))\n",
    "for i in range(0,len(station_ids)):\n",
    "    partial_overlapped = partial_df.loc[idx[:,counts_df.gt(i).pipe(lambda x: x[x]).index],:]\n",
    "    unique_ids = {a for a in partial_overlapped.index.get_level_values('buoy_id').unique()}\n",
    "    print(f\"overlaps of {i+1} stations: {sum(counts_df.gt(i))} ({unique_ids}). Missing: {set(station_ids) - unique_ids}\")\n",
    "print(sum(counts_df.gt(len(station_ids)-1)), \"full overlaps\")\n",
    "print(\"Most overlaps\")\n",
    "display(\n",
    "    partial_df.loc[idx[:,counts_df.sort_values().index[:5],:]]\n",
    ")"
   ]
  },
  {
   "cell_type": "code",
   "execution_count": null,
   "metadata": {},
   "outputs": [],
   "source": [
    "variable = \"wave_height\"\n",
    "time = counts_df.idxmax()\n",
    "#pd.Timestamp(times[\"start\"]) + (pd.Timestamp(times[\"end\"])-pd.Timestamp(times[\"start\"]))/2\n",
    "#buoy_df.index.get_level_values(\"time\").max()\n",
    "map_viz.add_geodf_to_map(\n",
    "    df.loc[idx[:,time],:]\n",
    "        .join(ndbc_gdf.loc[pd.Timestamp(time).year])\n",
    "        .dropna(subset=[\"wave_height\",\"wind_speed\"]),\n",
    "    radius=1,\n",
    "    weight=5,\n",
    "    map_args={\"zoom_start\":4.5},\n",
    "    popup=lambda x: f\"{x.buoy_name} {x.name}\",\n",
    "    color = lambda x: \"red\" if x.name[0] in station_ids else \"blue\")"
   ]
  },
  {
   "cell_type": "code",
   "execution_count": null,
   "metadata": {},
   "outputs": [],
   "source": [
    "map_viz.heatmap_with_time(ndbc_data_7d.loc[idx[:,times[\"start\"]:times[\"end\"]],:].sort_index(level=\"time\"), \"time\", zoom_start=4)"
   ]
  },
  {
   "cell_type": "code",
   "execution_count": null,
   "metadata": {},
   "outputs": [],
   "source": [
    "import folium\n",
    "from functools import partial\n",
    "buoy_ids = ndbc_gdf.index.get_level_values(\"buoy_id\").unique()\n",
    "buoy_locations_info_df = buoy_locations_info_df[(buoy_locations_info_df.year>=2011)&(buoy_locations_info_df.buoy_id.isin(buoy_ids))]\n",
    "map_viz.make_map_of_buoys(\n",
    "    location = (26.382792, -82.192264),\n",
    "    buoy_locations_df=buoy_locations_info_df[buoy_locations_info_df.year>=2011], \n",
    "    marker=partial(folium.CircleMarker, radius=1, weight=5,color=\"black\"),\n",
    ")"
   ]
  },
  {
   "cell_type": "code",
   "execution_count": null,
   "metadata": {},
   "outputs": [],
   "source": [
    "## visualize each ara (A, B, C)\n",
    "# transform data\n",
    "ndbc_geo = ndbc_gdf.loc[2000:2022].groupby(\"buoy_id\").first()\n",
    "ndbc_data_daily = ndbc_data_daily.dropna(subset=[\"wave_height\"])\n",
    "available_buoys = ndbc_data_daily.groupby(\"buoy_id\").size()[ndbc_data_daily.groupby(\"buoy_id\").size()>35].index\n",
    "ndbc_geo = ndbc_geo[ndbc_geo.index.isin(available_buoys)]\n",
    "\n",
    "# fig, axes = plt.subplots(len(eval_sets.ndbc), 1, figsize=(12,16))\n",
    "for S, ax, (i, set_conf) in subplotted(enumerate(eval_sets.ndbc.values()), ncols=1, figsize=(12,16), facecolor=\"white\"):\n",
    "    partial_buoys = {loc for partial_conf in set_conf.partial.values() for loc in partial_conf.locations}\n",
    "    full_buoys = set_conf.locations_full\n",
    "    set_geo =  ndbc_geo.loc[ndbc_geo.within(set_conf.area)]\n",
    "    set_letter = chr(ord(\"A\")+i)\n",
    "    xmin, ymin, xmax, ymax = set_conf.area.bounds\n",
    "    df_countries.plot(ax=ax, alpha=0.5)\n",
    "    ax.set_xlim(xmin, xmax); ax.set_ylim(ymin, ymax)\n",
    "    set_geo.plot(ax=ax, color=\"blue\")\n",
    "    # red points represent buoys in the eval set\n",
    "    set_geo[(set_geo.index.isin(partial_buoys))].plot(ax=ax, color=\"red\", alpha=0.5)\n",
    "    set_geo[(set_geo.index.isin(full_buoys))].plot(ax=ax, color=\"red\")\n",
    "    # those surrounded by a circle represent buoys that are fully in the eval set (not partial)\n",
    "    set_geo[set_geo.index.isin(full_buoys)].plot(ax=ax, marker=\"o\", markersize=500, facecolor=\"none\", edgecolor=\"red\")\n",
    "    ax.set_ylabel(f\"Area {i+1}\", rotation=0, fontsize=12, labelpad=25)\n",
    "    ax.set_xticks([]); ax.set_yticks([])\n",
    "else:\n",
    "    S.fig.suptitle(\"Map of available buoy locations in each set of the NDBC Data\", fontsize=16)\n",
    "    S.fig.tight_layout();\n",
    "    # accomodate to give margin for the title\n",
    "    S.fig.subplots_adjust(top=0.95);\n",
    "    S.fig.savefig(\"reports/figures/available_buoys_per_set.png\", dpi=300, bbox_inches=\"tight\")\n",
    "S.fig.show()\n"
   ]
  },
  {
   "cell_type": "code",
   "execution_count": null,
   "metadata": {},
   "outputs": [],
   "source": [
    "for S, ax, (i,set_conf) in subplotted(enumerate(eval_sets.ndbc.values()), ncols=3, figsize=(18,8), facecolor=\"white\", sharey=True):\n",
    "    set_geo =  ndbc_gdf.loc[ndbc_gdf.within(set_conf.area)]\n",
    "    set_geo.index\\\n",
    "        .get_level_values(\"year\")\\\n",
    "        .to_series()\\\n",
    "        .plot(ax=ax, kind=\"hist\",title=f\"Area {i+1}\", bins=90)\n",
    "    ax.set_ylim(0,60)\n",
    "    ax.set_title(f\"Area {i+1}\", fontsize=14)\n",
    "else:\n",
    "    # S.fig.suptitle(\"Frequency of data per year in each set of the NDBC Data\", fontsize=16)\n",
    "    S.fig.tight_layout()\n",
    "    # S.fig.subplots_adjust(top=0.92)\n",
    "    # S.set_all(ylabel=\"\", yticklabels=[], indices=[1,2])\n",
    "    S.fig.savefig(\"reports/figures/ndbc_buoy_sets_year.png\", dpi=300, bbox_inches=\"tight\")"
   ]
  },
  {
   "cell_type": "markdown",
   "metadata": {},
   "source": [
    "-------\n",
    "\n",
    "### Analysis of Variables"
   ]
  },
  {
   "cell_type": "markdown",
   "metadata": {},
   "source": [
    "### Histograms and Distributions"
   ]
  },
  {
   "cell_type": "code",
   "execution_count": 123,
   "metadata": {},
   "outputs": [
    {
     "data": {
      "text/plain": [
       "<AxesSubplot:xlabel='time'>"
      ]
     },
     "execution_count": 123,
     "metadata": {},
     "output_type": "execute_result"
    },
    {
     "data": {
      "image/png": "[encoded data removed]",
      "text/plain": [
       "<Figure size 432x288 with 1 Axes>"
      ]
     },
     "metadata": {
      "needs_background": "light"
     },
     "output_type": "display_data"
    }
   ],
   "source": [
    "ndbc_data_7d.groupby(\"time\").mean()[\"water_temperature\"].plot()"
   ]
  },
  {
   "cell_type": "code",
   "execution_count": null,
   "metadata": {},
   "outputs": [],
   "source": [
    "# histogram of the data\n",
    "# with subplotted(df.columns, ncols=1, figsize=(8,4*len(df.columns)), facecolor=\"white\") as S:\n",
    "#    for ax, col in S:\n",
    "#        df[col].plot(kind=\"hist\", bins=100)\n",
    "cols = [col for col in df.columns if ndbc_data_7d[col].count()/len(ndbc_data_7d) > 0.4]\n",
    "# cols = [\"wave_height\", \"air_temperature\", \"wind_direction\", \"wind_speed\",\"water_temperature\",\"mean_wave_direction\"]\n",
    "# fig, axes = plt.subplots(nrows=len(cols)//3,ncols=3, figsize=(8,12), facecolor=\"white\")[0]\n",
    "c, skipped = 0, 0\n",
    "for S, ax, col in subplotted(cols, ncols=3, figsize=(12,4*len(cols)//3)):\n",
    "    if int(ndbc_data_7d[col].max()) in [999,9999]:\n",
    "        ndbc_data_7d[col] = ndbc_data_7d[col].replace(ndbc_data_7d[col].max(), np.nan)\n",
    "    ndbc_data_7d[col].plot(ax=ax, kind=\"hist\", bins=90)\n",
    "    ax.set_ylabel(None)#, rotation=0, fontsize=12, labelpad=25)\n",
    "    ax.set_title(col)\n",
    "else:\n",
    "    S.fig.tight_layout()\n",
    "    S.fig.savefig(f\"reports/figures/ndbc_histograms.png\", dpi=300, bbox_inches=\"tight\")"
   ]
  },
  {
   "cell_type": "markdown",
   "metadata": {},
   "source": [
    "---"
   ]
  },
  {
   "cell_type": "code",
   "execution_count": null,
   "metadata": {},
   "outputs": [],
   "source": [
    "import seaborn as sns\n",
    "# plot correlation matrix\n",
    "fig, ax = plt.subplots(figsize=(14,12), facecolor=\"w\")\n",
    "ax = sns.heatmap(\n",
    "    df\n",
    "    .loc[:,cols]\n",
    "    .groupby(\"time\")\n",
    "    .mean()\n",
    "    .dropna(how=\"all\",axis=1)\n",
    "    .dropna(subset=[\"wave_height\"])\n",
    "    .sort_index()\n",
    "    .corr(\"pearson\"),\n",
    "    cmap=\"RdBu_r\",\n",
    "    ax=ax,\n",
    "    vmin=-1,\n",
    "    vmax=1,\n",
    ")\n",
    "ax.set_title(\"Correlation Matrix of the NDBC Buoy Data\")\n",
    "fig.tight_layout()\n",
    "fig.savefig(\"reports/figures/ndbc_corr_matrix.png\", dpi=300)"
   ]
  }
 ],
 "metadata": {
  "interpreter": {
   "hash": "5156605a370da4264d35700d255afe940b4002408cb66ca14decdceceba1912f"
  },
  "kernelspec": {
   "display_name": "Python 3.8.12 ('.venv': venv)",
   "language": "python",
   "name": "python3"
  },
  "language_info": {
   "codemirror_mode": {
    "name": "ipython",
    "version": 3
   },
   "file_extension": ".py",
   "mimetype": "text/x-python",
   "name": "python",
   "nbconvert_exporter": "python",
   "pygments_lexer": "ipython3",
   "version": "3.8.13"
  },
  "orig_nbformat": 4
 },
 "nbformat": 4,
 "nbformat_minor": 2
}
