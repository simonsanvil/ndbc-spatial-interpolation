{
 "cells": [
  {
   "cell_type": "code",
   "execution_count": null,
   "metadata": {},
   "outputs": [],
   "source": [
    "import os, pickle, warnings\n",
    "from tqdm import tqdm\n",
    "from pprint import pprint\n",
    "\n",
    "import pandas as pd\n",
    "import numpy as np\n",
    "\n",
    "# modeling/experimentation\n",
    "import mlflow\n",
    "from scipy import interpolate\n",
    "from sklearn.metrics import mean_squared_error, r2_score, mean_absolute_error\n",
    "\n",
    "# to load parameters of the experiments\n",
    "from kedro.config import ConfigLoader\n",
    "\n",
    "# utils\n",
    "from joblib import Parallel, delayed\n",
    "from pandas import IndexSlice as idx\n",
    "from IPython.display import display\n",
    "\n",
    "# viz\n",
    "import seaborn as sns\n",
    "import matplotlib.pyplot as plt\n",
    "\n",
    "# experiments\n",
    "from experiments.configs.evaluation import eval_sets\n",
    "from experiments.noaa.deterministic import NOAADeterministicExperiment\n",
    "from spatial_interpolation.visualization import map_viz\n",
    "# print(\"Available experiment configs:\",NOAADeterministicExperiment.config.config.keys())\n",
    "\n",
    "# local utils and other imports\n",
    "from spatial_interpolation.interpolators import ScipyInterpolator\n",
    "from spatial_interpolation import data, utils\n",
    "from spatial_interpolation.utils.experiments import conf \n",
    "from spatial_interpolation.data.load_data import get_ml_workspace\n",
    "from spatial_interpolation.utils import tqdm_joblib\n",
    "from spatial_interpolation.visualization import plot_interpolation, map_viz\n",
    "\n",
    "\n",
    "# notebook configuration\n",
    "import dotenv\n",
    "warnings.simplefilter(action='ignore', category=FutureWarning)\n",
    "dotenv.load_dotenv()"
   ]
  },
  {
   "cell_type": "code",
   "execution_count": null,
   "metadata": {},
   "outputs": [],
   "source": [
    "# load data\n",
    "experiment = NOAADeterministicExperiment(\"linear_set3\", n_jobs=1)\n",
    "config = experiment.get_config()\n",
    "dataset = data.NDBCDataLoader(**config.data_loading).load()\n",
    "df, gdf = dataset.buoys_data, dataset.buoys_geo\n",
    "available_time = df.index.get_level_values(\"time\").unique()\n",
    "time_range = pd.date_range(available_time.min(), available_time.max(), freq=\"H\")\n",
    "\n",
    "locations_within_area = gdf.loc[gdf.within(eval_sets.ndbc[config.eval_set].area)].index.get_level_values(\"buoy_id\").unique()\n",
    "df = df.loc[df.index.get_level_values(\"buoy_id\").isin(locations_within_area)]\n",
    "gdf = gdf.loc[idx[:, locations_within_area],:]\n",
    "dataset = data.NDBCData(df, gdf)\n",
    "\n",
    "train, test = dataset.split_slice(test=eval_sets.ndbc[config.eval_set].eval)\n",
    "train_df = train.join()\n",
    "test_df = test.join()\n",
    "\n",
    "time_steps = (\n",
    "    time_range\n",
    "    .to_series(name=\"time_step\")\n",
    "    .rename_axis(\"time\")\n",
    "    .rank(ascending=True)\n",
    ")\n",
    "\n",
    "target = config.target\n",
    "train_by_times = (\n",
    "    train_df\n",
    "    .reset_index()\n",
    "    .rename(columns={\"buoy_id\": \"location_id\"})\n",
    "    .set_index([\"time\", \"location_id\"])\n",
    "    .sort_index()\n",
    "    .dropna(subset=[target])\n",
    "    .join(time_steps)\n",
    ")\n",
    "test_by_times = (\n",
    "    test_df\n",
    "    .reset_index()\n",
    "    .rename(columns={\"buoy_id\": \"location_id\"})\n",
    "    .set_index([\"time\", \"location_id\"])\n",
    "    .sort_index()\n",
    "    .dropna(subset=[target])\n",
    "    .join(time_steps)\n",
    ")\n"
   ]
  },
  {
   "cell_type": "code",
   "execution_count": null,
   "metadata": {},
   "outputs": [],
   "source": [
    "time = pd.Timestamp(\n",
    "    \"2020-05-10 05:00\"\n",
    " )"
   ]
  },
  {
   "cell_type": "code",
   "execution_count": null,
   "metadata": {},
   "outputs": [],
   "source": [
    "from scipy.spatial import Delaunay\n",
    "\n",
    "dims = [\"longitude\",\"latitude\"]\n",
    "points = train_by_times.loc[time,dims].values\n",
    "tri = Delaunay(points, incremental=True)\n",
    "# plot the triangulation\n",
    "fig,ax = plt.subplots(1,1,figsize=(10,10))\n",
    "df_countries = data.load_world_borders()\n",
    "df_countries.plot(ax=ax,alpha=0.5)\n",
    "xmin, ymin, xmax, ymax = eval_sets.ndbc[config.eval_set].area.bounds\n",
    "ax.set_xlim(xmin, xmax); ax.set_ylim(ymin, ymax)\n",
    "ax.plot(points[:,0], points[:,1], 'o', color=\"green\",label=\"Training points\")\n",
    "ax.set(xlabel=\"Longitude\",ylabel=\"Latitude\",title=f\"Delaunay triangulation of the NDBC data (Area {config.eval_set[-1]}, {time: %b %d, %Y})\")\n",
    "ax.triplot(points[:,0], points[:,1], tri.simplices.copy(), color=\"grey\")\n",
    "test_points = test_by_times.loc[time,dims].values\n",
    "ax.plot(test_points[:,0], test_points[:,1], 'o', color=\"red\", label=\"Test points\")\n",
    "ind_tri = tri.find_simplex(test_points)\n",
    "tri_mask = np.zeros(len(tri.simplices))\n",
    "tri_mask[ind_tri] = 1\n",
    "ax.tripcolor(\n",
    "    points[:,0], points[:,1], tri.simplices.copy(), tri_mask, cmap=\"Reds\", alpha=0.25, \n",
    "    label=\"Simplices of the triangulation of the test points\")\n",
    "closest_points = points[tri.simplices[ind_tri]][0]\n",
    "ax.legend()"
   ]
  },
  {
   "cell_type": "code",
   "execution_count": null,
   "metadata": {},
   "outputs": [],
   "source": [
    "linear_interpolator = ScipyInterpolator(\n",
    "    interpolate.LinearNDInterpolator,\n",
    "    dimensions=[[\"longitude\",\"latitude\"]],\n",
    ")\n",
    "time = pd.Timestamp(\"2020-05-10 05:00\")\n",
    "linear_interpolator.fit(train_by_times.loc[time],y=target)\n",
    "cm = plot_interpolation(\n",
    "    train_by_times.loc[time,\"longitude\"],train_by_times.loc[time,\"latitude\"],\n",
    "    test_by_times.loc[time,\"longitude\"],test_by_times.loc[time, \"latitude\"],\n",
    "    test_by_times.loc[time][target],\n",
    "    interpolator=linear_interpolator,\n",
    "    bbox=eval_sets.ndbc[config.eval_set].area.bounds,\n",
    "    radius=.4,\n",
    "    title=f\"Linear Barycentric interpolation on {time:%b %-d, %Y}\",\n",
    "    cmap=\"rainbow\",\n",
    "    zmin=0,zmax=3\n",
    ")"
   ]
  },
  {
   "cell_type": "code",
   "execution_count": null,
   "metadata": {},
   "outputs": [],
   "source": [
    "kernel = \"gaussian\"\n",
    "rbf_interpolator = ScipyInterpolator(\n",
    "    interpolate.RBFInterpolator,\n",
    "    dimensions=[[\"longitude\",\"latitude\"]],\n",
    "    kernel=kernel,\n",
    "    epsilon=.6\n",
    ")\n",
    "rbf_interpolator.fit(train_by_times.loc[time],y=target)\n",
    "plot_interpolation(\n",
    "    train_by_times.loc[time,\"longitude\"],train_by_times.loc[time,\"latitude\"],\n",
    "    test_by_times.loc[time,\"longitude\"],test_by_times.loc[time, \"latitude\"],\n",
    "    test_by_times.loc[time][target],\n",
    "    rbf_interpolator,\n",
    "    bbox=eval_sets.ndbc[config.eval_set].area.bounds,\n",
    "    radius=.4,\n",
    "    cmap=cm.cmap,\n",
    "    zmin=0,zmax=3,\n",
    "    title=f\"Radial Basis Function (RBF) Interpolation with {kernel=}\\n{time:%b %-d, %Y}\",\n",
    ")"
   ]
  },
  {
   "cell_type": "code",
   "execution_count": null,
   "metadata": {},
   "outputs": [],
   "source": [
    "rbf_interpolator.predict(test_by_times.loc[time]), test_by_times.loc[time, target].values"
   ]
  },
  {
   "cell_type": "markdown",
   "metadata": {},
   "source": [
    "### Temporal-Spatial Interpolation:"
   ]
  },
  {
   "cell_type": "code",
   "execution_count": null,
   "metadata": {},
   "outputs": [],
   "source": [
    "delta = pd.Timedelta(\"1D\")\n",
    "train_by_times.loc[(time-delta):time,[\"longitude\",\"latitude\", \"time_step\"]]"
   ]
  },
  {
   "cell_type": "code",
   "execution_count": null,
   "metadata": {},
   "outputs": [],
   "source": [
    "kernel = \"gaussian\"\n",
    "time = pd.Timestamp(time)\n",
    "epsilon=0.5\n",
    "rbf_interpolator = ScipyInterpolator(\n",
    "    interpolate.RBFInterpolator,\n",
    "    dimensions=[[\"longitude\",\"latitude\"]],\n",
    "    kernel=kernel,\n",
    "    epsilon=epsilon\n",
    ")\n",
    "rbf_interpolator.fit(train_by_times.loc[time],y=target)\n",
    "plot_interpolation(\n",
    "    train_by_times.loc[time,rbf_interpolator.dim_cols[0]], train_by_times.loc[time,rbf_interpolator.dim_cols[1]],\n",
    "    test_by_times.loc[time, rbf_interpolator.dim_cols[0]], test_by_times.loc[time, rbf_interpolator.dim_cols[1]],\n",
    "    test_by_times.loc[time][target],\n",
    "    rbf_interpolator,\n",
    "    bbox=eval_sets.ndbc[config.eval_set].area.bounds,\n",
    "    radius=.4,\n",
    "    cmap=\"rainbow\",\n",
    "    zmin=0,zmax=3,\n",
    "    title=f\"{kernel.capitalize()} RBF Interpolation ($\\{epsilon=}$) on {time:%b %-d, %Y}\",\n",
    ")"
   ]
  },
  {
   "cell_type": "code",
   "execution_count": null,
   "metadata": {},
   "outputs": [],
   "source": [
    "from spatial_interpolation.interpolators import IDWInterpolator\n",
    "time = pd.Timestamp(time)\n",
    "rbf_interpolator = ScipyInterpolator(\n",
    "    IDWInterpolator,\n",
    "    dimensions=[[\"longitude\",\"latitude\"]],\n",
    ")\n",
    "rbf_interpolator.fit(train_by_times.loc[time],y=target)\n",
    "plot_interpolation(\n",
    "    train_by_times.loc[time,rbf_interpolator.dim_cols[0]], train_by_times.loc[time,rbf_interpolator.dim_cols[1]],\n",
    "    test_by_times.loc[time, rbf_interpolator.dim_cols[0]], test_by_times.loc[time, rbf_interpolator.dim_cols[1]],\n",
    "    test_by_times.loc[time][target],\n",
    "    rbf_interpolator,\n",
    "    bbox=eval_sets.ndbc[config.eval_set].area.bounds,\n",
    "    radius=.4,\n",
    "    cmap=\"rainbow\",\n",
    "    zmin=0,zmax=3,\n",
    "    title=f\"IDW Interpolation on {time:%b %-d, %Y}\",\n",
    ")"
   ]
  }
 ],
 "metadata": {
  "kernelspec": {
   "display_name": "Python 3.8.0 ('spatial_interpolation')",
   "language": "python",
   "name": "python3"
  },
  "language_info": {
   "codemirror_mode": {
    "name": "ipython",
    "version": 3
   },
   "file_extension": ".py",
   "mimetype": "text/x-python",
   "name": "python",
   "nbconvert_exporter": "python",
   "pygments_lexer": "ipython3",
   "version": "3.8.0"
  },
  "orig_nbformat": 4,
  "vscode": {
   "interpreter": {
    "hash": "5a9f83f1c0153160e037c598f8c4c8a2a3b7f61423db339fa0a302dce0539560"
   }
  }
 },
 "nbformat": 4,
 "nbformat_minor": 2
}
