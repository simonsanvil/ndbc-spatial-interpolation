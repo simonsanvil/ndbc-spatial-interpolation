{
 "cells": [
  {
   "cell_type": "code",
   "execution_count": 1,
   "metadata": {},
   "outputs": [
    {
     "data": {
      "text/plain": [
       "True"
      ]
     },
     "execution_count": 1,
     "metadata": {},
     "output_type": "execute_result"
    }
   ],
   "source": [
    "import os, warnings\n",
    "from functools import partial\n",
    "\n",
    "import pandas as pd\n",
    "import geopandas as gpd\n",
    "import numpy as np\n",
    "from shapely import geometry\n",
    "\n",
    "# utils\n",
    "from joblib import Parallel, delayed\n",
    "from pandas import IndexSlice as idx\n",
    "from IPython.display import display\n",
    "\n",
    "# viz\n",
    "import folium\n",
    "\n",
    "# local imports\n",
    "from spatial_interpolation import data, utils\n",
    "from spatial_interpolation.visualization import map_viz\n",
    "from spatial_interpolation.utils import tqdm_joblib\n",
    "\n",
    "from experiments.noaa.machine_learning.feature_extraction import FeatureExtractionExperiment\n",
    "from joblib import Parallel, delayed\n",
    "\n",
    "import dotenv\n",
    "\n",
    "# configs\n",
    "warnings.simplefilter(action='ignore', category=FutureWarning)\n",
    "warnings.filterwarnings('ignore', message='.*initial implementation of Parquet.*')\n",
    "dotenv.load_dotenv()"
   ]
  },
  {
   "cell_type": "markdown",
   "metadata": {},
   "source": [
    "### Load the data available:"
   ]
  },
  {
   "cell_type": "code",
   "execution_count": 2,
   "metadata": {},
   "outputs": [],
   "source": [
    "buoy_df, buoy_gdf = data.load_buoy_data(period=(\"2011-01-01\", \"2022-01-01\"))\n",
    "world_countries = data.load_world_borders()\n",
    "world_countries = world_countries[world_countries.overlaps(geometry.box(*buoy_gdf.total_bounds.tolist()))]\n",
    "# Remove the \"buoys\" that appear to be in land\n",
    "land_buoys = buoy_gdf.geometry.apply(lambda x: any(world_countries.intersects(x,align=False)))\n",
    "buoy_gdf = buoy_gdf[~land_buoys]\n",
    "buoy_df = buoy_df[buoy_df.index.get_level_values(\"buoy_id\").isin(buoy_gdf.index.get_level_values(\"buoy_id\").unique())]"
   ]
  },
  {
   "cell_type": "markdown",
   "metadata": {},
   "source": [
    "### Run Feature Extraction Experiment(s)"
   ]
  },
  {
   "cell_type": "code",
   "execution_count": 2,
   "metadata": {},
   "outputs": [
    {
     "name": "stdout",
     "output_type": "stream",
     "text": [
      "Started experiment FeatureExtractionExperiment with config set1 on process 11014\n",
      "Attempting to run experiment FeatureExtractionExperiment with config set1...\n",
      "Running experiment FeatureExtractionExperiment with experiment_config='set1' and params: {'year': 2011}\n"
     ]
    },
    {
     "name": "stderr",
     "output_type": "stream",
     "text": [
      "INFO:FeatureExtractionExperiment:Loading data...\n",
      "INFO:FeatureExtractionExperiment:Filtering data on area POLYGON ((-80 18.930645, -80 30.366655, -97.806644 30.366655, -97.806644 18.930645, -80 18.930645))\n",
      "INFO:FeatureExtractionExperiment:Filtered data has shapes (1061321, 14) and (137, 4)\n",
      "INFO:FeatureExtractionExperiment:Filtering data on year 2011\n",
      "INFO:FeatureExtractionExperiment:Filtered data has shapes (109191, 14) and (14, 4)\n"
     ]
    },
    {
     "name": "stdout",
     "output_type": "stream",
     "text": [
      "Split test obtained with dataset(s)=['buoys_data'] and shape(s)=[(8736, 14)]\n"
     ]
    },
    {
     "name": "stderr",
     "output_type": "stream",
     "text": [
      "INFO:FeatureExtractionExperiment:Extracting features with num_jobs=25...\n",
      "making features at each point..: 100%|██████████| 3860/3860 [00:24<00:00, 158.11it/s]\n",
      "making features at each point..: 100%|██████████| 3860/3860 [00:22<00:00, 170.55it/s]\n",
      "making features at each point..: 100%|██████████| 3860/3860 [00:24<00:00, 157.17it/s]\n",
      "making features at each point..: 100%|██████████| 2817/2817 [00:25<00:00, 111.06it/s]\n",
      "making features at each point..: 100%|██████████| 3860/3860 [00:24<00:00, 160.06it/s]\n",
      "making features at each point..: 100%|██████████| 3860/3860 [00:25<00:00, 149.03it/s]\n",
      "making features at each point..: 100%|██████████| 3860/3860 [00:25<00:00, 150.36it/s]\n",
      "making features at each point..: 100%|██████████| 3860/3860 [00:28<00:00, 136.86it/s]\n",
      "making features at each point..: 100%|██████████| 3860/3860 [00:26<00:00, 144.37it/s]\n",
      "making features at each point..: 100%|██████████| 3860/3860 [00:26<00:00, 147.40it/s]\n",
      "making features at each point..: 100%|██████████| 3860/3860 [00:27<00:00, 138.35it/s]\n",
      "making features at each point..: 100%|██████████| 3860/3860 [00:29<00:00, 132.67it/s]\n",
      "making features at each point..: 100%|██████████| 3860/3860 [00:27<00:00, 142.74it/s]\n",
      "making features at each point..: 100%|██████████| 3860/3860 [00:28<00:00, 137.02it/s]\n",
      "making features at each point..: 100%|██████████| 3860/3860 [00:27<00:00, 140.38it/s]\n",
      "making features at each point..: 100%|██████████| 3860/3860 [00:29<00:00, 130.32it/s]\n",
      "making features at each point..: 100%|██████████| 3860/3860 [00:32<00:00, 120.04it/s]\n",
      "making features at each point..: 100%|██████████| 3860/3860 [00:32<00:00, 117.30it/s]\n",
      "making features at each point..: 100%|██████████| 3860/3860 [00:31<00:00, 122.86it/s]\n",
      "making features at each point..: 100%|██████████| 3860/3860 [00:33<00:00, 116.60it/s]\n",
      "making features at each point..: 100%|██████████| 3860/3860 [00:33<00:00, 116.74it/s]\n",
      "making features at each point..: 100%|██████████| 3798/3798 [00:34<00:00, 110.02it/s]\n",
      "making features at each point..: 100%|██████████| 3860/3860 [00:34<00:00, 111.58it/s]\n",
      "making features at each point..:  84%|████████▍ | 3242/3860 [00:34<00:06, 98.66it/s]]"
     ]
    },
    {
     "name": "stdout",
     "output_type": "stream",
     "text": [
      "All features made. Total number of features: 27. Number of points: 3856\n",
      "All features made. Total number of features: 27. Number of points: 3744\n"
     ]
    },
    {
     "name": "stderr",
     "output_type": "stream",
     "text": [
      "making features at each point..: 100%|██████████| 3860/3860 [00:33<00:00, 114.44it/s]\n",
      "making features at each point..:  87%|████████▋ | 3355/3860 [00:35<00:03, 149.73it/s]"
     ]
    },
    {
     "name": "stdout",
     "output_type": "stream",
     "text": [
      "All features made. Total number of features: 27. Number of points: 3860\n"
     ]
    },
    {
     "name": "stderr",
     "output_type": "stream",
     "text": [
      "making features at each point..:  90%|████████▉ | 3457/3860 [00:36<00:02, 163.22it/s]"
     ]
    },
    {
     "name": "stdout",
     "output_type": "stream",
     "text": [
      "All features made. Total number of features: 27. Number of points: 3855\n"
     ]
    },
    {
     "name": "stderr",
     "output_type": "stream",
     "text": [
      "making features at each point..:  90%|█████████ | 3491/3860 [00:36<00:02, 157.98it/s]"
     ]
    },
    {
     "name": "stdout",
     "output_type": "stream",
     "text": [
      "All features made. Total number of features: 27. Number of points: 3855\n"
     ]
    },
    {
     "name": "stderr",
     "output_type": "stream",
     "text": [
      "making features at each point..:  92%|█████████▏| 3558/3860 [00:36<00:01, 160.54it/s]"
     ]
    },
    {
     "name": "stdout",
     "output_type": "stream",
     "text": [
      "All features made. Total number of features: 27. Number of points: 3859\n"
     ]
    },
    {
     "name": "stderr",
     "output_type": "stream",
     "text": [
      "making features at each point..:  93%|█████████▎| 3593/3860 [00:36<00:01, 166.06it/s]"
     ]
    },
    {
     "name": "stdout",
     "output_type": "stream",
     "text": [
      "All features made. Total number of features: 27. Number of points: 2250\n"
     ]
    },
    {
     "name": "stderr",
     "output_type": "stream",
     "text": [
      "making features at each point..:  96%|█████████▌| 3702/3860 [00:37<00:00, 170.58it/s]"
     ]
    },
    {
     "name": "stdout",
     "output_type": "stream",
     "text": [
      "All features made. Total number of features: 27. Number of points: 3859\n"
     ]
    },
    {
     "name": "stderr",
     "output_type": "stream",
     "text": [
      "making features at each point..:  98%|█████████▊| 3778/3860 [00:38<00:00, 182.03it/s]"
     ]
    },
    {
     "name": "stdout",
     "output_type": "stream",
     "text": [
      "All features made. Total number of features: 27. Number of points: 3854\n"
     ]
    },
    {
     "name": "stderr",
     "output_type": "stream",
     "text": [
      "making features at each point..: 100%|██████████| 3860/3860 [00:38<00:00, 100.20it/s]\n"
     ]
    },
    {
     "name": "stdout",
     "output_type": "stream",
     "text": [
      "All features made. Total number of features: 27. Number of points: 3858\n",
      "All features made. Total number of features: 27. Number of points: 3857\n",
      "All features made. Total number of features: 27. Number of points: 3858\n",
      "All features made. Total number of features: 27. Number of points: 3858\n",
      "All features made. Total number of features: 27. Number of points: 3860\n",
      "All features made. Total number of features: 27. Number of points: 3859\n",
      "All features made. Total number of features: 27. Number of points: 3857\n",
      "All features made. Total number of features: 27. Number of points: 3843\n",
      "All features made. Total number of features: 27. Number of points: 3841\n",
      "All features made. Total number of features: 27. Number of points: 3851\n",
      "All features made. Total number of features: 27. Number of points: 3844\n",
      "All features made. Total number of features: 27. Number of points: 3858\n",
      "All features made. Total number of features: 27. Number of points: 3857\n",
      "All features made. Total number of features: 27. Number of points: 3857\n",
      "All features made. Total number of features: 27. Number of points: 3849\n",
      "All features made. Total number of features: 27. Number of points: 3844\n"
     ]
    },
    {
     "name": "stderr",
     "output_type": "stream",
     "text": [
      "making features at each point..: 100%|██████████| 336/336 [00:03<00:00, 108.44it/s]\n",
      "making features at each point..: 100%|██████████| 336/336 [00:03<00:00, 108.63it/s]\n",
      "making features at each point..: 100%|██████████| 336/336 [00:03<00:00, 98.82it/s]]\n",
      "making features at each point..: 100%|██████████| 336/336 [00:03<00:00, 86.29it/s]]\n",
      "making features at each point..: 100%|██████████| 336/336 [00:03<00:00, 105.57it/s]\n",
      "making features at each point..: 100%|██████████| 336/336 [00:03<00:00, 96.86it/s] \n",
      "making features at each point..:  82%|████████▏ | 275/336 [00:04<00:01, 53.09it/s]]\n",
      "making features at each point..: 100%|██████████| 336/336 [00:04<00:00, 73.86it/s]]\n",
      "making features at each point..: 100%|██████████| 336/336 [00:04<00:00, 83.47it/s]]\n",
      "making features at each point..: 100%|██████████| 336/336 [00:03<00:00, 86.94it/s]\n",
      "making features at each point..: 100%|██████████| 336/336 [00:03<00:00, 84.60it/s]]\n",
      "making features at each point..: 100%|██████████| 336/336 [00:04<00:00, 81.29it/s] \n",
      "making features at each point..: 100%|██████████| 336/336 [00:04<00:00, 81.07it/s] \n",
      "making features at each point..: 100%|██████████| 336/336 [00:04<00:00, 83.49it/s]\n",
      "making features at each point..: 100%|██████████| 336/336 [00:04<00:00, 73.76it/s]\n",
      "making features at each point..: 100%|██████████| 336/336 [00:04<00:00, 82.79it/s]\n",
      "making features at each point..: 100%|██████████| 336/336 [00:04<00:00, 77.99it/s]\n",
      "making features at each point..: 100%|██████████| 336/336 [00:04<00:00, 69.93it/s]\n",
      "making features at each point..: 100%|██████████| 336/336 [00:05<00:00, 63.97it/s]\n",
      "making features at each point..: 100%|██████████| 336/336 [00:04<00:00, 69.71it/s]\n",
      "making features at each point..: 100%|██████████| 335/335 [00:04<00:00, 73.52it/s]\n",
      "making features at each point..: 100%|██████████| 336/336 [00:03<00:00, 84.04it/s]\n",
      "making features at each point..: 100%|██████████| 336/336 [00:04<00:00, 73.74it/s]\n",
      "making features at each point..: 100%|██████████| 336/336 [00:05<00:00, 63.63it/s]\n"
     ]
    },
    {
     "name": "stdout",
     "output_type": "stream",
     "text": [
      "All features made. Total number of features: 27. Number of points: 336\n",
      "All features made. Total number of features: 27. Number of points: 336\n"
     ]
    },
    {
     "name": "stderr",
     "output_type": "stream",
     "text": [
      "making features at each point..: 100%|██████████| 336/336 [00:04<00:00, 68.30it/s]\n"
     ]
    },
    {
     "name": "stdout",
     "output_type": "stream",
     "text": [
      "All features made. Total number of features: 27. Number of points: 335\n",
      "All features made. Total number of features: 27. Number of points: 336\n",
      "All features made. Total number of features: 27. Number of points: 336\n",
      "All features made. Total number of features: 27. Number of points: 336\n",
      "All features made. Total number of features: 27. Number of points: 336\n",
      "All features made. Total number of features: 27. Number of points: 336\n",
      "All features made. Total number of features: 27. Number of points: 336\n",
      "All features made. Total number of features: 27. Number of points: 336\n",
      "All features made. Total number of features: 27. Number of points: 335\n",
      "All features made. Total number of features: 27. Number of points: 336\n",
      "All features made. Total number of features: 27. Number of points: 336\n",
      "All features made. Total number of features: 27. Number of points: 336\n",
      "All features made. Total number of features: 27. Number of points: 336\n",
      "All features made. Total number of features: 27. Number of points: 335\n",
      "All features made. Total number of features: 27. Number of points: 336\n",
      "All features made. Total number of features: 27. Number of points: 336\n",
      "All features made. Total number of features: 27. Number of points: 336\n",
      "All features made. Total number of features: 27. Number of points: 336\n",
      "All features made. Total number of features: 27. Number of points: 336\n",
      "All features made. Total number of features: 27. Number of points: 336\n",
      "All features made. Total number of features: 27. Number of points: 336\n",
      "All features made. Total number of features: 27. Number of points: 336\n",
      "All features made. Total number of features: 27. Number of points: 336\n"
     ]
    },
    {
     "name": "stderr",
     "output_type": "stream",
     "text": [
      "INFO:FeatureExtractionExperiment:Saving features...\n",
      "INFO:FeatureExtractionExperiment:Finished running experiment \"feature extraction\"\n",
      "/export/usuarios01/ssviloria/ml-spatial-interpolation/.venv/lib/python3.8/site-packages/joblib/externals/loky/backend/resource_tracker.py:303: UserWarning: resource_tracker: /dev/shm/joblib_memmapping_folder_11014_1a0bea44eea444f88731ead6cf689a30_ae2914abe0ac43f1a77ae153dcaf7798/11014-139937012732688-c7312df1b6ff491d80b29423cf17c765.pkl: FileNotFoundError(2, 'No such file or directory')\n",
      "  warnings.warn(\n",
      "/export/usuarios01/ssviloria/ml-spatial-interpolation/.venv/lib/python3.8/site-packages/joblib/externals/loky/backend/resource_tracker.py:303: UserWarning: resource_tracker: /dev/shm/joblib_memmapping_folder_11014_1a0bea44eea444f88731ead6cf689a30_ae2914abe0ac43f1a77ae153dcaf7798/11014-139937012732688-7fed6f7b4ffe4151b553bdaf749558c7.pkl: FileNotFoundError(2, 'No such file or directory')\n",
      "  warnings.warn(\n"
     ]
    },
    {
     "name": "stdout",
     "output_type": "stream",
     "text": [
      "Started experiment FeatureExtractionExperiment with config set1 on process 12927\n",
      "Attempting to run experiment FeatureExtractionExperiment with config set1...\n",
      "Running experiment FeatureExtractionExperiment with experiment_config='set1' and params: {'year': 2012}\n"
     ]
    },
    {
     "name": "stderr",
     "output_type": "stream",
     "text": [
      "INFO:FeatureExtractionExperiment:Loading data...\n",
      "INFO:FeatureExtractionExperiment:Filtering data on area POLYGON ((-80 18.930645, -80 30.366655, -97.806644 30.366655, -97.806644 18.930645, -80 18.930645))\n",
      "INFO:FeatureExtractionExperiment:Filtered data has shapes (1061321, 14) and (137, 4)\n",
      "INFO:FeatureExtractionExperiment:Filtering data on year 2012\n",
      "INFO:FeatureExtractionExperiment:Filtered data has shapes (102864, 14) and (14, 4)\n"
     ]
    },
    {
     "name": "stdout",
     "output_type": "stream",
     "text": [
      "Split test obtained with dataset(s)=['buoys_data'] and shape(s)=[(7940, 14)]\n"
     ]
    },
    {
     "name": "stderr",
     "output_type": "stream",
     "text": [
      "INFO:FeatureExtractionExperiment:Extracting features with num_jobs=25...\n",
      "making features at each point..: 100%|██████████| 3664/3664 [00:33<00:00, 110.56it/s]\n",
      "making features at each point..: 100%|██████████| 3664/3664 [00:34<00:00, 105.49it/s]\n",
      "making features at each point..: 100%|██████████| 3664/3664 [00:35<00:00, 104.46it/s]\n",
      "making features at each point..: 100%|██████████| 3664/3664 [00:35<00:00, 101.94it/s]\n",
      "making features at each point..: 100%|██████████| 3664/3664 [00:34<00:00, 106.21it/s]\n",
      "making features at each point..: 100%|██████████| 3663/3663 [00:35<00:00, 102.96it/s]\n",
      "making features at each point..: 100%|██████████| 3663/3663 [00:36<00:00, 99.24it/s] \n",
      "making features at each point..: 100%|██████████| 3664/3664 [00:36<00:00, 101.59it/s]\n",
      "making features at each point..: 100%|██████████| 3663/3663 [00:38<00:00, 94.38it/s] \n",
      "making features at each point..: 100%|██████████| 3663/3663 [00:37<00:00, 98.18it/s] \n",
      "making features at each point..: 100%|██████████| 3663/3663 [00:37<00:00, 98.61it/s] \n",
      "making features at each point..: 100%|██████████| 3664/3664 [00:37<00:00, 96.58it/s] \n",
      "making features at each point..: 100%|██████████| 3663/3663 [00:38<00:00, 96.08it/s] \n",
      "making features at each point..: 100%|██████████| 3663/3663 [00:41<00:00, 87.57it/s] \n",
      "making features at each point..: 100%|██████████| 3664/3664 [00:42<00:00, 85.80it/s] \n",
      "making features at each point..: 100%|██████████| 3664/3664 [00:44<00:00, 83.07it/s] \n",
      "making features at each point..: 100%|██████████| 3664/3664 [00:44<00:00, 81.70it/s] \n",
      "making features at each point..: 100%|██████████| 3664/3664 [00:44<00:00, 81.47it/s] \n",
      "making features at each point..: 100%|██████████| 3410/3410 [00:42<00:00, 80.13it/s] \n",
      "making features at each point..: 100%|██████████| 3663/3663 [00:45<00:00, 80.22it/s]]\n",
      "making features at each point..: 100%|██████████| 3664/3664 [00:44<00:00, 81.71it/s] \n",
      "making features at each point..: 100%|██████████| 3663/3663 [00:47<00:00, 77.25it/s] \n",
      "making features at each point..: 100%|██████████| 3663/3663 [00:45<00:00, 80.83it/s] \n",
      "making features at each point..: 100%|██████████| 3663/3663 [00:45<00:00, 79.96it/s] \n",
      "making features at each point..: 100%|██████████| 3663/3663 [00:47<00:00, 76.77it/s] \n"
     ]
    },
    {
     "name": "stdout",
     "output_type": "stream",
     "text": [
      "All features made. Total number of features: 27. Number of points: 3663\n",
      "All features made. Total number of features: 27. Number of points: 3663\n",
      "All features made. Total number of features: 27. Number of points: 3660\n",
      "All features made. Total number of features: 27. Number of points: 2735\n",
      "All features made. Total number of features: 27. Number of points: 3663\n",
      "All features made. Total number of features: 27. Number of points: 3662\n",
      "All features made. Total number of features: 27. Number of points: 3643\n",
      "All features made. Total number of features: 27. Number of points: 3660\n",
      "All features made. Total number of features: 27. Number of points: 3657\n",
      "All features made. Total number of features: 27. Number of points: 3652\n",
      "All features made. Total number of features: 27. Number of points: 3654\n",
      "All features made. Total number of features: 27. Number of points: 3664\n",
      "All features made. Total number of features: 27. Number of points: 3654\n",
      "All features made. Total number of features: 27. Number of points: 3657\n",
      "All features made. Total number of features: 27. Number of points: 3664\n",
      "All features made. Total number of features: 27. Number of points: 3664\n",
      "All features made. Total number of features: 27. Number of points: 3651\n",
      "All features made. Total number of features: 27. Number of points: 3663\n",
      "All features made. Total number of features: 27. Number of points: 3657\n",
      "All features made. Total number of features: 27. Number of points: 3663\n",
      "All features made. Total number of features: 27. Number of points: 3655\n",
      "All features made. Total number of features: 27. Number of points: 3664\n",
      "All features made. Total number of features: 27. Number of points: 3652\n",
      "All features made. Total number of features: 27. Number of points: 3662\n",
      "All features made. Total number of features: 27. Number of points: 3657\n"
     ]
    },
    {
     "name": "stderr",
     "output_type": "stream",
     "text": [
      "making features at each point..: 100%|██████████| 310/310 [00:01<00:00, 169.80it/s]\n",
      "making features at each point..: 100%|██████████| 309/309 [00:01<00:00, 176.33it/s]\n",
      "making features at each point..: 100%|██████████| 310/310 [00:01<00:00, 178.78it/s]\n",
      "making features at each point..: 100%|██████████| 310/310 [00:01<00:00, 176.76it/s]\n",
      "making features at each point..: 100%|██████████| 310/310 [00:01<00:00, 179.43it/s]\n",
      "making features at each point..: 100%|██████████| 309/309 [00:01<00:00, 177.87it/s]\n",
      "making features at each point..: 100%|██████████| 309/309 [00:01<00:00, 171.15it/s]\n",
      "making features at each point..: 100%|██████████| 310/310 [00:01<00:00, 182.72it/s]\n",
      "making features at each point..: 100%|██████████| 309/309 [00:01<00:00, 165.82it/s]\n",
      "making features at each point..: 100%|██████████| 309/309 [00:01<00:00, 165.36it/s]\n",
      "making features at each point..: 100%|██████████| 310/310 [00:01<00:00, 173.10it/s]\n",
      "making features at each point..: 100%|██████████| 310/310 [00:01<00:00, 161.88it/s]\n",
      "making features at each point..: 100%|██████████| 310/310 [00:01<00:00, 178.08it/s]\n",
      "making features at each point..: 100%|██████████| 310/310 [00:01<00:00, 166.58it/s]\n",
      "making features at each point..: 100%|██████████| 310/310 [00:01<00:00, 161.78it/s]\n",
      "making features at each point..: 100%|██████████| 310/310 [00:02<00:00, 134.23it/s]\n",
      "making features at each point..:  85%|████████▍ | 263/310 [00:02<00:00, 127.15it/s]"
     ]
    },
    {
     "name": "stdout",
     "output_type": "stream",
     "text": [
      "All features made. Total number of features: 27. Number of points: 310\n",
      "All features made. Total number of features: 27. Number of points: 310\n",
      "All features made. Total number of features: 27. Number of points: 309\n",
      "All features made. Total number of features: 27. Number of points: 310\n",
      "All features made. Total number of features: 27. Number of points: 310\n",
      "All features made. Total number of features: 27. Number of points: 309\n",
      "All features made. Total number of features: 27. Number of points: 309\n",
      "All features made. Total number of features: 27. Number of points: 310\n",
      "All features made. Total number of features: 27. Number of points: 309\n"
     ]
    },
    {
     "name": "stderr",
     "output_type": "stream",
     "text": [
      "making features at each point..: 100%|██████████| 310/310 [00:02<00:00, 122.92it/s]\n",
      "making features at each point..: 100%|██████████| 310/310 [00:02<00:00, 116.95it/s]\n",
      "making features at each point..: 100%|██████████| 310/310 [00:02<00:00, 115.38it/s]\n",
      "making features at each point..: 100%|██████████| 310/310 [00:02<00:00, 119.36it/s]\n",
      "making features at each point..: 100%|██████████| 310/310 [00:02<00:00, 120.31it/s]\n",
      "making features at each point..: 100%|██████████| 310/310 [00:02<00:00, 117.93it/s]\n",
      "making features at each point..: 100%|██████████| 310/310 [00:02<00:00, 117.40it/s]\n",
      "making features at each point..: 100%|██████████| 310/310 [00:02<00:00, 119.41it/s]\n",
      "making features at each point..: 100%|██████████| 310/310 [00:02<00:00, 119.35it/s]\n"
     ]
    },
    {
     "name": "stdout",
     "output_type": "stream",
     "text": [
      "All features made. Total number of features: 27. Number of points: 309\n",
      "All features made. Total number of features: 27. Number of points: 310\n",
      "All features made. Total number of features: 27. Number of points: 310\n",
      "All features made. Total number of features: 27. Number of points: 287\n",
      "All features made. Total number of features: 27. Number of points: 310\n",
      "All features made. Total number of features: 27. Number of points: 310\n",
      "All features made. Total number of features: 27. Number of points: 310\n",
      "All features made. Total number of features: 27. Number of points: 310\n",
      "All features made. Total number of features: 27. Number of points: 310\n",
      "All features made. Total number of features: 27. Number of points: 310\n",
      "All features made. Total number of features: 27. Number of points: 310\n",
      "All features made. Total number of features: 27. Number of points: 310\n",
      "All features made. Total number of features: 27. Number of points: 310\n",
      "All features made. Total number of features: 27. Number of points: 310\n",
      "All features made. Total number of features: 27. Number of points: 310\n",
      "All features made. Total number of features: 27. Number of points: 310\n"
     ]
    },
    {
     "name": "stderr",
     "output_type": "stream",
     "text": [
      "INFO:FeatureExtractionExperiment:Saving features...\n",
      "INFO:FeatureExtractionExperiment:Finished running experiment \"feature extraction\"\n",
      "/export/usuarios01/ssviloria/ml-spatial-interpolation/.venv/lib/python3.8/site-packages/joblib/externals/loky/backend/resource_tracker.py:303: UserWarning: resource_tracker: /dev/shm/joblib_memmapping_folder_12927_3eaac9999f4e43f587efa05e817d5900_487f1a92a6534ba6bc774ec467f6f9e1/12927-140228876254560-8d4d3a1cde924eebaf7d1d47e5fedeff.pkl: FileNotFoundError(2, 'No such file or directory')\n",
      "  warnings.warn(\n",
      "/export/usuarios01/ssviloria/ml-spatial-interpolation/.venv/lib/python3.8/site-packages/joblib/externals/loky/backend/resource_tracker.py:303: UserWarning: resource_tracker: /dev/shm/joblib_memmapping_folder_12927_3eaac9999f4e43f587efa05e817d5900_487f1a92a6534ba6bc774ec467f6f9e1/12927-140228876254560-e4658db7a49c4e19a7e1fbfe337fb347.pkl: FileNotFoundError(2, 'No such file or directory')\n",
      "  warnings.warn(\n"
     ]
    },
    {
     "name": "stdout",
     "output_type": "stream",
     "text": [
      "Started experiment FeatureExtractionExperiment with config set1 on process 15002\n",
      "Attempting to run experiment FeatureExtractionExperiment with config set1...\n",
      "Running experiment FeatureExtractionExperiment with experiment_config='set1' and params: {'year': 2013}\n"
     ]
    },
    {
     "name": "stderr",
     "output_type": "stream",
     "text": [
      "INFO:FeatureExtractionExperiment:Loading data...\n",
      "INFO:FeatureExtractionExperiment:Filtering data on area POLYGON ((-80 18.930645, -80 30.366655, -97.806644 30.366655, -97.806644 18.930645, -80 18.930645))\n",
      "INFO:FeatureExtractionExperiment:Filtered data has shapes (1061321, 14) and (137, 4)\n",
      "INFO:FeatureExtractionExperiment:Filtering data on year 2013\n",
      "INFO:FeatureExtractionExperiment:Filtered data has shapes (119140, 14) and (14, 4)\n"
     ]
    },
    {
     "name": "stdout",
     "output_type": "stream",
     "text": [
      "Split test obtained with dataset(s)=['buoys_data'] and shape(s)=[(8126, 14)]\n"
     ]
    },
    {
     "name": "stderr",
     "output_type": "stream",
     "text": [
      "INFO:FeatureExtractionExperiment:Extracting features with num_jobs=25...\n",
      "making features at each point..: 100%|██████████| 4304/4304 [00:47<00:00, 90.84it/s] \n",
      "making features at each point..: 100%|██████████| 4303/4303 [00:50<00:00, 85.26it/s] \n",
      "making features at each point..: 100%|██████████| 4304/4304 [00:52<00:00, 82.75it/s]]\n",
      "making features at each point..: 100%|██████████| 4304/4304 [00:49<00:00, 86.11it/s] \n",
      "making features at each point..: 100%|██████████| 4304/4304 [00:50<00:00, 84.70it/s] \n",
      "making features at each point..: 100%|██████████| 4304/4304 [00:53<00:00, 80.97it/s]]\n",
      "making features at each point..: 100%|██████████| 4303/4303 [00:53<00:00, 80.21it/s]]\n",
      "making features at each point..: 100%|██████████| 4303/4303 [00:55<00:00, 77.20it/s] \n",
      "making features at each point..: 100%|██████████| 4304/4304 [00:58<00:00, 73.96it/s]\n",
      "making features at each point..: 100%|██████████| 4304/4304 [00:58<00:00, 73.75it/s]]\n",
      "making features at each point..: 100%|██████████| 4303/4303 [00:55<00:00, 77.29it/s] \n",
      "making features at each point..: 100%|██████████| 4304/4304 [00:58<00:00, 73.54it/s]]\n",
      "making features at each point..: 100%|██████████| 4303/4303 [00:55<00:00, 77.11it/s]]\n",
      "making features at each point..: 100%|██████████| 4303/4303 [00:58<00:00, 73.72it/s] \n",
      "making features at each point..: 100%|██████████| 4303/4303 [01:01<00:00, 69.62it/s] \n",
      "making features at each point..: 100%|██████████| 4303/4303 [00:59<00:00, 71.97it/s]\n",
      "making features at each point..: 100%|██████████| 4303/4303 [01:00<00:00, 70.60it/s]\n",
      "making features at each point..: 100%|██████████| 4303/4303 [01:05<00:00, 65.91it/s]\n",
      "making features at each point..: 100%|██████████| 4303/4303 [01:04<00:00, 66.73it/s]\n",
      "making features at each point..: 100%|██████████| 4303/4303 [01:05<00:00, 65.72it/s]\n",
      "making features at each point..: 100%|██████████| 4303/4303 [01:06<00:00, 64.97it/s]\n",
      "making features at each point..: 100%|██████████| 4304/4304 [01:09<00:00, 62.18it/s]\n",
      "making features at each point..: 100%|██████████| 4303/4303 [01:09<00:00, 61.52it/s]\n",
      "making features at each point..: 100%|██████████| 4303/4303 [01:10<00:00, 60.79it/s]\n",
      "making features at each point..: 100%|██████████| 4303/4303 [01:13<00:00, 58.58it/s]\n"
     ]
    },
    {
     "name": "stdout",
     "output_type": "stream",
     "text": [
      "All features made. Total number of features: 28. Number of points: 4301\n",
      "All features made. Total number of features: 28. Number of points: 4301\n",
      "All features made. Total number of features: 28. Number of points: 4302\n",
      "All features made. Total number of features: 28. Number of points: 4298\n",
      "All features made. Total number of features: 28. Number of points: 4302\n",
      "All features made. Total number of features: 28. Number of points: 4298\n",
      "All features made. Total number of features: 28. Number of points: 4303\n",
      "All features made. Total number of features: 28. Number of points: 4299\n",
      "All features made. Total number of features: 28. Number of points: 4303\n",
      "All features made. Total number of features: 28. Number of points: 4298\n",
      "All features made. Total number of features: 28. Number of points: 4289\n",
      "All features made. Total number of features: 28. Number of points: 4296\n",
      "All features made. Total number of features: 28. Number of points: 4292\n",
      "All features made. Total number of features: 28. Number of points: 4301\n",
      "All features made. Total number of features: 28. Number of points: 4301\n",
      "All features made. Total number of features: 28. Number of points: 4300\n",
      "All features made. Total number of features: 28. Number of points: 4289\n",
      "All features made. Total number of features: 28. Number of points: 4289\n",
      "All features made. Total number of features: 28. Number of points: 4303\n",
      "All features made. Total number of features: 28. Number of points: 4300\n",
      "All features made. Total number of features: 28. Number of points: 4301\n",
      "All features made. Total number of features: 28. Number of points: 4294\n",
      "All features made. Total number of features: 28. Number of points: 4294\n",
      "All features made. Total number of features: 28. Number of points: 4289\n",
      "All features made. Total number of features: 28. Number of points: 4288\n"
     ]
    },
    {
     "name": "stderr",
     "output_type": "stream",
     "text": [
      "making features at each point..: 100%|██████████| 29/29 [00:00<00:00, 183.48it/s]\n",
      "making features at each point..: 100%|██████████| 29/29 [00:00<00:00, 169.06it/s]\n",
      "making features at each point..: 100%|██████████| 29/29 [00:00<00:00, 166.87it/s]\n",
      "making features at each point..: 100%|██████████| 30/30 [00:00<00:00, 130.40it/s]\n",
      "making features at each point..: 100%|██████████| 30/30 [00:00<00:00, 179.49it/s]\n",
      "making features at each point..: 100%|██████████| 29/29 [00:00<00:00, 121.02it/s]\n",
      "making features at each point..: 100%|██████████| 30/30 [00:00<00:00, 116.66it/s]\n",
      "making features at each point..: 100%|██████████| 30/30 [00:00<00:00, 116.41it/s]\n"
     ]
    },
    {
     "name": "stdout",
     "output_type": "stream",
     "text": [
      "All features made. Total number of features: 28. Number of points: 29\n",
      "All features made. Total number of features: 28. Number of points: 29\n",
      "All features made. Total number of features: 28. Number of points: 29\n",
      "All features made. Total number of features: 28. Number of points: 30\n",
      "All features made. Total number of features: 28. Number of points: 30\n"
     ]
    },
    {
     "name": "stderr",
     "output_type": "stream",
     "text": [
      "making features at each point..: 100%|██████████| 30/30 [00:00<00:00, 118.91it/s]\n",
      "making features at each point..: 100%|██████████| 30/30 [00:00<00:00, 120.51it/s]\n",
      "making features at each point..: 100%|██████████| 29/29 [00:00<00:00, 126.85it/s]\n",
      "making features at each point..: 100%|██████████| 30/30 [00:00<00:00, 112.41it/s]\n",
      "making features at each point..: 100%|██████████| 30/30 [00:00<00:00, 107.84it/s]\n",
      "making features at each point..: 100%|██████████| 30/30 [00:00<00:00, 118.37it/s]\n",
      "making features at each point..: 100%|██████████| 30/30 [00:00<00:00, 113.99it/s]\n",
      "making features at each point..: 100%|██████████| 30/30 [00:00<00:00, 104.42it/s]\n",
      "making features at each point..: 100%|██████████| 30/30 [00:00<00:00, 104.00it/s]\n",
      "making features at each point..: 100%|██████████| 30/30 [00:00<00:00, 114.90it/s]\n",
      "making features at each point..: 100%|██████████| 30/30 [00:00<00:00, 108.25it/s]\n",
      "making features at each point..:  77%|███████▋  | 23/30 [00:00<00:00, 107.14it/s]"
     ]
    },
    {
     "name": "stdout",
     "output_type": "stream",
     "text": [
      "All features made. Total number of features: 28. Number of points: 29\n",
      "All features made. Total number of features: 28. Number of points: 30\n",
      "All features made. Total number of features: 28. Number of points: 30\n",
      "All features made. Total number of features: 28. Number of points: 30\n",
      "All features made. Total number of features: 28. Number of points: 30\n",
      "All features made. Total number of features: 28. Number of points: 30\n",
      "All features made. Total number of features: 28. Number of points: 29\n",
      "All features made. Total number of features: 28. Number of points: 30\n",
      "All features made. Total number of features: 28. Number of points: 30\n",
      "All features made. Total number of features: 28. Number of points: 30\n",
      "All features made. Total number of features: 28. Number of points: 30\n",
      "All features made. Total number of features: 28. Number of points: 30\n"
     ]
    },
    {
     "name": "stderr",
     "output_type": "stream",
     "text": [
      "making features at each point..: 100%|██████████| 30/30 [00:00<00:00, 109.05it/s]\n",
      "making features at each point..: 100%|██████████| 30/30 [00:00<00:00, 113.90it/s]\n",
      "making features at each point..: 100%|██████████| 29/29 [00:00<00:00, 161.19it/s]\n",
      "making features at each point..: 100%|██████████| 30/30 [00:00<00:00, 109.12it/s]\n",
      "making features at each point..: 100%|██████████| 29/29 [00:00<00:00, 113.94it/s]\n",
      "making features at each point..: 100%|██████████| 29/29 [00:00<00:00, 120.06it/s]\n"
     ]
    },
    {
     "name": "stdout",
     "output_type": "stream",
     "text": [
      "All features made. Total number of features: 28. Number of points: 30\n",
      "All features made. Total number of features: 28. Number of points: 29\n",
      "All features made. Total number of features: 28. Number of points: 30\n",
      "All features made. Total number of features: 28. Number of points: 30\n",
      "All features made. Total number of features: 28. Number of points: 30\n",
      "All features made. Total number of features: 28. Number of points: 30\n",
      "All features made. Total number of features: 28. Number of points: 29\n",
      "All features made. Total number of features: 28. Number of points: 29\n"
     ]
    },
    {
     "name": "stderr",
     "output_type": "stream",
     "text": [
      "INFO:FeatureExtractionExperiment:Saving features...\n",
      "INFO:FeatureExtractionExperiment:Finished running experiment \"feature extraction\"\n",
      "/export/usuarios01/ssviloria/ml-spatial-interpolation/.venv/lib/python3.8/site-packages/joblib/externals/loky/backend/resource_tracker.py:303: UserWarning: resource_tracker: /dev/shm/joblib_memmapping_folder_15002_ba5db181288548469ff8d3401b384269_5e1da2e9856541b0a847f7074ec7d22d/15002-140071959784512-4eb2e15205f1450a896bb096cd3eca1d.pkl: FileNotFoundError(2, 'No such file or directory')\n",
      "  warnings.warn(\n",
      "/export/usuarios01/ssviloria/ml-spatial-interpolation/.venv/lib/python3.8/site-packages/joblib/externals/loky/backend/resource_tracker.py:303: UserWarning: resource_tracker: /dev/shm/joblib_memmapping_folder_15002_ba5db181288548469ff8d3401b384269_5e1da2e9856541b0a847f7074ec7d22d/15002-140071959784512-b84feb15e61b4990b1c23a7702cdc903.pkl: FileNotFoundError(2, 'No such file or directory')\n",
      "  warnings.warn(\n"
     ]
    },
    {
     "name": "stdout",
     "output_type": "stream",
     "text": [
      "Started experiment FeatureExtractionExperiment with config set1 on process 17024\n",
      "Attempting to run experiment FeatureExtractionExperiment with config set1...\n",
      "Running experiment FeatureExtractionExperiment with experiment_config='set1' and params: {'year': 2014}\n"
     ]
    },
    {
     "name": "stderr",
     "output_type": "stream",
     "text": [
      "INFO:FeatureExtractionExperiment:Loading data...\n",
      "INFO:FeatureExtractionExperiment:Filtering data on area POLYGON ((-80 18.930645, -80 30.366655, -97.806644 30.366655, -97.806644 18.930645, -80 18.930645))\n",
      "INFO:FeatureExtractionExperiment:Filtered data has shapes (1061321, 14) and (137, 4)\n",
      "INFO:FeatureExtractionExperiment:Filtering data on year 2014\n",
      "INFO:FeatureExtractionExperiment:Filtered data has shapes (97190, 14) and (14, 4)\n"
     ]
    },
    {
     "name": "stdout",
     "output_type": "stream",
     "text": [
      "Split test obtained with dataset(s)=['buoys_data'] and shape(s)=[(8223, 14)]\n"
     ]
    },
    {
     "name": "stderr",
     "output_type": "stream",
     "text": [
      "INFO:FeatureExtractionExperiment:Extracting features with num_jobs=25...\n",
      "making features at each point..: 100%|██████████| 3475/3475 [00:26<00:00, 132.37it/s]\n",
      "making features at each point..: 100%|██████████| 3475/3475 [00:28<00:00, 123.41it/s]\n",
      "making features at each point..: 100%|██████████| 3475/3475 [00:29<00:00, 116.55it/s]\n",
      "making features at each point..: 100%|██████████| 3475/3475 [00:30<00:00, 115.64it/s]\n",
      "making features at each point..: 100%|██████████| 3475/3475 [00:30<00:00, 112.94it/s]\n",
      "making features at each point..: 100%|██████████| 3475/3475 [00:29<00:00, 119.20it/s]\n",
      "making features at each point..: 100%|██████████| 3475/3475 [00:30<00:00, 113.18it/s]\n",
      "making features at each point..: 100%|██████████| 3475/3475 [00:30<00:00, 114.27it/s]\n",
      "making features at each point..: 100%|██████████| 3475/3475 [00:30<00:00, 113.51it/s]\n",
      "making features at each point..: 100%|██████████| 3475/3475 [00:30<00:00, 113.94it/s]\n",
      "making features at each point..: 100%|██████████| 3475/3475 [00:31<00:00, 110.52it/s]\n",
      "making features at each point..: 100%|██████████| 3475/3475 [00:33<00:00, 103.04it/s]\n",
      "making features at each point..: 100%|██████████| 3475/3475 [00:33<00:00, 102.52it/s]\n",
      "making features at each point..: 100%|██████████| 3475/3475 [00:33<00:00, 102.72it/s]\n",
      "making features at each point..: 100%|██████████| 3476/3476 [00:33<00:00, 104.29it/s]\n",
      "making features at each point..: 100%|██████████| 3475/3475 [00:33<00:00, 102.77it/s]\n",
      "making features at each point..: 100%|██████████| 3475/3475 [00:32<00:00, 107.94it/s]\n",
      "making features at each point..: 100%|██████████| 3475/3475 [00:32<00:00, 105.63it/s]\n",
      "making features at each point..: 100%|██████████| 3475/3475 [00:35<00:00, 98.13it/s] \n",
      "making features at each point..: 100%|██████████| 3474/3474 [00:36<00:00, 96.29it/s] \n",
      "making features at each point..: 100%|██████████| 3475/3475 [00:34<00:00, 100.46it/s]\n",
      "making features at each point..: 100%|██████████| 3475/3475 [00:36<00:00, 94.57it/s] \n",
      "making features at each point..: 100%|██████████| 3475/3475 [00:36<00:00, 94.10it/s] \n",
      "making features at each point..:  80%|███████▉  | 2778/3475 [00:36<00:06, 105.14it/s]"
     ]
    },
    {
     "name": "stdout",
     "output_type": "stream",
     "text": [
      "All features made. Total number of features: 28. Number of points: 3475\n"
     ]
    },
    {
     "name": "stderr",
     "output_type": "stream",
     "text": [
      "making features at each point..:  88%|████████▊ | 3060/3475 [00:37<00:03, 104.44it/s]"
     ]
    },
    {
     "name": "stdout",
     "output_type": "stream",
     "text": [
      "All features made. Total number of features: 28. Number of points: 3471\n"
     ]
    },
    {
     "name": "stderr",
     "output_type": "stream",
     "text": [
      "making features at each point..:  86%|████████▋ | 2998/3475 [00:38<00:04, 107.49it/s]"
     ]
    },
    {
     "ename": "KeyboardInterrupt",
     "evalue": "",
     "output_type": "error",
     "traceback": [
      "\u001b[0;31m---------------------------------------------------------------------------\u001b[0m",
      "\u001b[0;31mKeyboardInterrupt\u001b[0m                         Traceback (most recent call last)",
      "\u001b[0;32m/tmp/ipykernel_38232/1701084266.py\u001b[0m in \u001b[0;36m<module>\u001b[0;34m\u001b[0m\n\u001b[1;32m      5\u001b[0m     \u001b[0mp\u001b[0m \u001b[0;34m=\u001b[0m \u001b[0msubprocess\u001b[0m\u001b[0;34m.\u001b[0m\u001b[0mPopen\u001b[0m\u001b[0;34m(\u001b[0m\u001b[0;34m[\u001b[0m\u001b[0;34m\"python\"\u001b[0m\u001b[0;34m,\u001b[0m \u001b[0;34m\"-m\"\u001b[0m\u001b[0;34m,\u001b[0m \u001b[0;34m\"experiments\"\u001b[0m\u001b[0;34m,\u001b[0m \u001b[0mexperiment_name\u001b[0m \u001b[0;34m,\u001b[0m \u001b[0mset_conf\u001b[0m\u001b[0;34m,\u001b[0m \u001b[0;34mf\"--year={y}\"\u001b[0m\u001b[0;34m]\u001b[0m\u001b[0;34m)\u001b[0m\u001b[0;34m\u001b[0m\u001b[0;34m\u001b[0m\u001b[0m\n\u001b[1;32m      6\u001b[0m     \u001b[0mprint\u001b[0m\u001b[0;34m(\u001b[0m\u001b[0;34mf\"Started experiment {experiment_name} with config {set_conf} on process {p.pid}\"\u001b[0m\u001b[0;34m)\u001b[0m\u001b[0;34m\u001b[0m\u001b[0;34m\u001b[0m\u001b[0m\n\u001b[0;32m----> 7\u001b[0;31m     \u001b[0mp\u001b[0m\u001b[0;34m.\u001b[0m\u001b[0mcommunicate\u001b[0m\u001b[0;34m(\u001b[0m\u001b[0;34m)\u001b[0m\u001b[0;34m\u001b[0m\u001b[0;34m\u001b[0m\u001b[0m\n\u001b[0m",
      "\u001b[0;32m/usr/lib/python3.8/subprocess.py\u001b[0m in \u001b[0;36mcommunicate\u001b[0;34m(self, input, timeout)\u001b[0m\n\u001b[1;32m   1018\u001b[0m                 \u001b[0mstderr\u001b[0m \u001b[0;34m=\u001b[0m \u001b[0mself\u001b[0m\u001b[0;34m.\u001b[0m\u001b[0mstderr\u001b[0m\u001b[0;34m.\u001b[0m\u001b[0mread\u001b[0m\u001b[0;34m(\u001b[0m\u001b[0;34m)\u001b[0m\u001b[0;34m\u001b[0m\u001b[0;34m\u001b[0m\u001b[0m\n\u001b[1;32m   1019\u001b[0m                 \u001b[0mself\u001b[0m\u001b[0;34m.\u001b[0m\u001b[0mstderr\u001b[0m\u001b[0;34m.\u001b[0m\u001b[0mclose\u001b[0m\u001b[0;34m(\u001b[0m\u001b[0;34m)\u001b[0m\u001b[0;34m\u001b[0m\u001b[0;34m\u001b[0m\u001b[0m\n\u001b[0;32m-> 1020\u001b[0;31m             \u001b[0mself\u001b[0m\u001b[0;34m.\u001b[0m\u001b[0mwait\u001b[0m\u001b[0;34m(\u001b[0m\u001b[0;34m)\u001b[0m\u001b[0;34m\u001b[0m\u001b[0;34m\u001b[0m\u001b[0m\n\u001b[0m\u001b[1;32m   1021\u001b[0m         \u001b[0;32melse\u001b[0m\u001b[0;34m:\u001b[0m\u001b[0;34m\u001b[0m\u001b[0;34m\u001b[0m\u001b[0m\n\u001b[1;32m   1022\u001b[0m             \u001b[0;32mif\u001b[0m \u001b[0mtimeout\u001b[0m \u001b[0;32mis\u001b[0m \u001b[0;32mnot\u001b[0m \u001b[0;32mNone\u001b[0m\u001b[0;34m:\u001b[0m\u001b[0;34m\u001b[0m\u001b[0;34m\u001b[0m\u001b[0m\n",
      "\u001b[0;32m/usr/lib/python3.8/subprocess.py\u001b[0m in \u001b[0;36mwait\u001b[0;34m(self, timeout)\u001b[0m\n\u001b[1;32m   1081\u001b[0m             \u001b[0mendtime\u001b[0m \u001b[0;34m=\u001b[0m \u001b[0m_time\u001b[0m\u001b[0;34m(\u001b[0m\u001b[0;34m)\u001b[0m \u001b[0;34m+\u001b[0m \u001b[0mtimeout\u001b[0m\u001b[0;34m\u001b[0m\u001b[0;34m\u001b[0m\u001b[0m\n\u001b[1;32m   1082\u001b[0m         \u001b[0;32mtry\u001b[0m\u001b[0;34m:\u001b[0m\u001b[0;34m\u001b[0m\u001b[0;34m\u001b[0m\u001b[0m\n\u001b[0;32m-> 1083\u001b[0;31m             \u001b[0;32mreturn\u001b[0m \u001b[0mself\u001b[0m\u001b[0;34m.\u001b[0m\u001b[0m_wait\u001b[0m\u001b[0;34m(\u001b[0m\u001b[0mtimeout\u001b[0m\u001b[0;34m=\u001b[0m\u001b[0mtimeout\u001b[0m\u001b[0;34m)\u001b[0m\u001b[0;34m\u001b[0m\u001b[0;34m\u001b[0m\u001b[0m\n\u001b[0m\u001b[1;32m   1084\u001b[0m         \u001b[0;32mexcept\u001b[0m \u001b[0mKeyboardInterrupt\u001b[0m\u001b[0;34m:\u001b[0m\u001b[0;34m\u001b[0m\u001b[0;34m\u001b[0m\u001b[0m\n\u001b[1;32m   1085\u001b[0m             \u001b[0;31m# https://bugs.python.org/issue25942\u001b[0m\u001b[0;34m\u001b[0m\u001b[0;34m\u001b[0m\u001b[0;34m\u001b[0m\u001b[0m\n",
      "\u001b[0;32m/usr/lib/python3.8/subprocess.py\u001b[0m in \u001b[0;36m_wait\u001b[0;34m(self, timeout)\u001b[0m\n\u001b[1;32m   1804\u001b[0m                         \u001b[0;32mif\u001b[0m \u001b[0mself\u001b[0m\u001b[0;34m.\u001b[0m\u001b[0mreturncode\u001b[0m \u001b[0;32mis\u001b[0m \u001b[0;32mnot\u001b[0m \u001b[0;32mNone\u001b[0m\u001b[0;34m:\u001b[0m\u001b[0;34m\u001b[0m\u001b[0;34m\u001b[0m\u001b[0m\n\u001b[1;32m   1805\u001b[0m                             \u001b[0;32mbreak\u001b[0m  \u001b[0;31m# Another thread waited.\u001b[0m\u001b[0;34m\u001b[0m\u001b[0;34m\u001b[0m\u001b[0m\n\u001b[0;32m-> 1806\u001b[0;31m                         \u001b[0;34m(\u001b[0m\u001b[0mpid\u001b[0m\u001b[0;34m,\u001b[0m \u001b[0msts\u001b[0m\u001b[0;34m)\u001b[0m \u001b[0;34m=\u001b[0m \u001b[0mself\u001b[0m\u001b[0;34m.\u001b[0m\u001b[0m_try_wait\u001b[0m\u001b[0;34m(\u001b[0m\u001b[0;36m0\u001b[0m\u001b[0;34m)\u001b[0m\u001b[0;34m\u001b[0m\u001b[0;34m\u001b[0m\u001b[0m\n\u001b[0m\u001b[1;32m   1807\u001b[0m                         \u001b[0;31m# Check the pid and loop as waitpid has been known to\u001b[0m\u001b[0;34m\u001b[0m\u001b[0;34m\u001b[0m\u001b[0;34m\u001b[0m\u001b[0m\n\u001b[1;32m   1808\u001b[0m                         \u001b[0;31m# return 0 even without WNOHANG in odd situations.\u001b[0m\u001b[0;34m\u001b[0m\u001b[0;34m\u001b[0m\u001b[0;34m\u001b[0m\u001b[0m\n",
      "\u001b[0;32m/usr/lib/python3.8/subprocess.py\u001b[0m in \u001b[0;36m_try_wait\u001b[0;34m(self, wait_flags)\u001b[0m\n\u001b[1;32m   1762\u001b[0m             \u001b[0;34m\"\"\"All callers to this function MUST hold self._waitpid_lock.\"\"\"\u001b[0m\u001b[0;34m\u001b[0m\u001b[0;34m\u001b[0m\u001b[0m\n\u001b[1;32m   1763\u001b[0m             \u001b[0;32mtry\u001b[0m\u001b[0;34m:\u001b[0m\u001b[0;34m\u001b[0m\u001b[0;34m\u001b[0m\u001b[0m\n\u001b[0;32m-> 1764\u001b[0;31m                 \u001b[0;34m(\u001b[0m\u001b[0mpid\u001b[0m\u001b[0;34m,\u001b[0m \u001b[0msts\u001b[0m\u001b[0;34m)\u001b[0m \u001b[0;34m=\u001b[0m \u001b[0mos\u001b[0m\u001b[0;34m.\u001b[0m\u001b[0mwaitpid\u001b[0m\u001b[0;34m(\u001b[0m\u001b[0mself\u001b[0m\u001b[0;34m.\u001b[0m\u001b[0mpid\u001b[0m\u001b[0;34m,\u001b[0m \u001b[0mwait_flags\u001b[0m\u001b[0;34m)\u001b[0m\u001b[0;34m\u001b[0m\u001b[0;34m\u001b[0m\u001b[0m\n\u001b[0m\u001b[1;32m   1765\u001b[0m             \u001b[0;32mexcept\u001b[0m \u001b[0mChildProcessError\u001b[0m\u001b[0;34m:\u001b[0m\u001b[0;34m\u001b[0m\u001b[0;34m\u001b[0m\u001b[0m\n\u001b[1;32m   1766\u001b[0m                 \u001b[0;31m# This happens if SIGCLD is set to be ignored or waiting\u001b[0m\u001b[0;34m\u001b[0m\u001b[0;34m\u001b[0m\u001b[0;34m\u001b[0m\u001b[0m\n",
      "\u001b[0;31mKeyboardInterrupt\u001b[0m: "
     ]
    },
    {
     "name": "stderr",
     "output_type": "stream",
     "text": [
      "making features at each point..:  92%|█████████▏| 3192/3475 [00:38<00:02, 106.40it/s]"
     ]
    },
    {
     "name": "stderr",
     "output_type": "stream",
     "text": [
      "making features at each point..:  92%|█████████▏| 3203/3475 [00:38<00:02, 104.69it/s]"
     ]
    },
    {
     "name": "stdout",
     "output_type": "stream",
     "text": [
      "All features made. Total number of features: 28. Number of points: 3465\n",
      "All features made. Total number of features: 28. Number of points: 3458\n"
     ]
    },
    {
     "name": "stderr",
     "output_type": "stream",
     "text": [
      "making features at each point..: 100%|██████████| 3475/3475 [00:39<00:00, 87.12it/s] \n",
      "making features at each point..:  94%|█████████▍| 3273/3475 [00:40<00:01, 176.72it/s]"
     ]
    },
    {
     "name": "stdout",
     "output_type": "stream",
     "text": [
      "All features made. Total number of features: 28. Number of points: 3472\n"
     ]
    },
    {
     "name": "stderr",
     "output_type": "stream",
     "text": [
      "making features at each point..:  96%|█████████▌| 3328/3475 [00:40<00:00, 177.72it/s]"
     ]
    },
    {
     "name": "stdout",
     "output_type": "stream",
     "text": [
      "All features made. Total number of features: 28. Number of points: 3471\n"
     ]
    },
    {
     "name": "stderr",
     "output_type": "stream",
     "text": [
      "making features at each point..:  98%|█████████▊| 3420/3475 [00:40<00:00, 179.87it/s]"
     ]
    },
    {
     "name": "stdout",
     "output_type": "stream",
     "text": [
      "All features made. Total number of features: 28. Number of points: 3462\n",
      "All features made. Total number of features: 28. Number of points: 3475\n"
     ]
    },
    {
     "name": "stderr",
     "output_type": "stream",
     "text": [
      "making features at each point..: 100%|██████████| 3475/3475 [00:41<00:00, 84.42it/s] \n"
     ]
    },
    {
     "name": "stdout",
     "output_type": "stream",
     "text": [
      "All features made. Total number of features: 28. Number of points: 3469\n",
      "All features made. Total number of features: 28. Number of points: 3469\n",
      "All features made. Total number of features: 28. Number of points: 3457\n",
      "All features made. Total number of features: 28. Number of points: 3460\n",
      "All features made. Total number of features: 28. Number of points: 3475\n",
      "All features made. Total number of features: 28. Number of points: 3474\n",
      "All features made. Total number of features: 28. Number of points: 3468\n",
      "All features made. Total number of features: 28. Number of points: 3461\n",
      "All features made. Total number of features: 28. Number of points: 3463\n",
      "All features made. Total number of features: 28. Number of points: 3472\n",
      "All features made. Total number of features: 28. Number of points: 3475\n",
      "All features made. Total number of features: 28. Number of points: 3452\n",
      "All features made. Total number of features: 28. Number of points: 3472\n",
      "All features made. Total number of features: 28. Number of points: 3465\n",
      "All features made. Total number of features: 28. Number of points: 3470\n",
      "All features made. Total number of features: 28. Number of points: 3457\n",
      "All features made. Total number of features: 28. Number of points: 3468\n"
     ]
    },
    {
     "name": "stderr",
     "output_type": "stream",
     "text": [
      "making features at each point..: 100%|██████████| 107/107 [00:00<00:00, 216.10it/s]\n",
      "making features at each point..: 100%|██████████| 107/107 [00:00<00:00, 215.66it/s]\n",
      "making features at each point..: 100%|██████████| 107/107 [00:00<00:00, 207.48it/s]\n",
      "making features at each point..:  11%|█         | 12/107 [00:00<00:00, 114.24it/s]]\n",
      "making features at each point..: 100%|██████████| 107/107 [00:00<00:00, 203.87it/s]\n",
      "making features at each point..: 100%|██████████| 107/107 [00:00<00:00, 191.53it/s]\n",
      "making features at each point..: 100%|██████████| 107/107 [00:00<00:00, 196.04it/s]\n",
      "making features at each point..: 100%|██████████| 107/107 [00:00<00:00, 194.58it/s]\n",
      "making features at each point..: 100%|██████████| 107/107 [00:00<00:00, 201.15it/s]\n",
      "making features at each point..: 100%|██████████| 107/107 [00:00<00:00, 172.41it/s]\n",
      "making features at each point..: 100%|██████████| 107/107 [00:00<00:00, 189.96it/s]\n",
      "making features at each point..: 100%|██████████| 107/107 [00:00<00:00, 192.34it/s]\n",
      "making features at each point..: 100%|██████████| 107/107 [00:00<00:00, 197.39it/s]\n",
      "making features at each point..: 100%|██████████| 107/107 [00:00<00:00, 175.89it/s]\n",
      "making features at each point..: 100%|██████████| 108/108 [00:00<00:00, 169.52it/s]\n",
      "making features at each point..:  58%|█████▊    | 62/107 [00:00<00:00, 119.50it/s]"
     ]
    },
    {
     "name": "stdout",
     "output_type": "stream",
     "text": [
      "All features made. Total number of features: 28. Number of points: 107\n",
      "All features made. Total number of features: 28. Number of points: 107\n",
      "All features made. Total number of features: 28. Number of points: 107\n",
      "All features made. Total number of features: 28. Number of points: 107\n",
      "All features made. Total number of features: 28. Number of points: 107\n",
      "All features made. Total number of features: 28. Number of points: 107\n",
      "All features made. Total number of features: 28. Number of points: 107\n"
     ]
    },
    {
     "name": "stderr",
     "output_type": "stream",
     "text": [
      "making features at each point..: 100%|██████████| 107/107 [00:00<00:00, 168.46it/s]\n",
      "making features at each point..: 100%|██████████| 108/108 [00:00<00:00, 125.05it/s]\n",
      "making features at each point..: 100%|██████████| 107/107 [00:00<00:00, 127.54it/s]\n",
      "making features at each point..:  85%|████████▌ | 91/107 [00:00<00:00, 131.93it/s]]"
     ]
    },
    {
     "name": "stdout",
     "output_type": "stream",
     "text": [
      "All features made. Total number of features: 28. Number of points: 107\n",
      "All features made. Total number of features: 28. Number of points: 107\n",
      "All features made. Total number of features: 28. Number of points: 107\n",
      "All features made. Total number of features: 28. Number of points: 107\n",
      "All features made. Total number of features: 28. Number of points: 107\n"
     ]
    },
    {
     "name": "stderr",
     "output_type": "stream",
     "text": [
      "making features at each point..: 100%|██████████| 107/107 [00:00<00:00, 149.71it/s]\n",
      "making features at each point..: 100%|██████████| 107/107 [00:00<00:00, 131.37it/s]\n",
      "making features at each point..: 100%|██████████| 107/107 [00:00<00:00, 120.39it/s]\n",
      "making features at each point..: 100%|██████████| 107/107 [00:00<00:00, 127.57it/s]\n",
      "making features at each point..: 100%|██████████| 107/107 [00:00<00:00, 131.55it/s]\n",
      "making features at each point..: 100%|██████████| 107/107 [00:00<00:00, 132.32it/s]\n",
      "making features at each point..: 100%|██████████| 107/107 [00:00<00:00, 122.07it/s]\n"
     ]
    },
    {
     "name": "stdout",
     "output_type": "stream",
     "text": [
      "All features made. Total number of features: 28. Number of points: 107\n",
      "All features made. Total number of features: 28. Number of points: 108\n",
      "All features made. Total number of features: 28. Number of points: 107\n",
      "All features made. Total number of features: 28. Number of points: 107\n",
      "All features made. Total number of features: 28. Number of points: 108\n",
      "All features made. Total number of features: 28. Number of points: 107\n",
      "All features made. Total number of features: 28. Number of points: 107\n",
      "All features made. Total number of features: 28. Number of points: 107\n",
      "All features made. Total number of features: 28. Number of points: 107\n",
      "All features made. Total number of features: 28. Number of points: 107\n",
      "All features made. Total number of features: 28. Number of points: 107\n",
      "All features made. Total number of features: 28. Number of points: 107\n",
      "All features made. Total number of features: 28. Number of points: 107\n"
     ]
    },
    {
     "name": "stderr",
     "output_type": "stream",
     "text": [
      "INFO:FeatureExtractionExperiment:Saving features...\n",
      "INFO:FeatureExtractionExperiment:Finished running experiment \"feature extraction\"\n",
      "/export/usuarios01/ssviloria/ml-spatial-interpolation/.venv/lib/python3.8/site-packages/joblib/externals/loky/backend/resource_tracker.py:303: UserWarning: resource_tracker: /dev/shm/joblib_memmapping_folder_17024_c8c7f45fd2de4cb4bf0ffcd710dbe1c0_fb70dad1a6de4fa385788244b907f2f6/17024-139741079373424-8fe4205ed94d4e03b7432dfca3fde8d2.pkl: FileNotFoundError(2, 'No such file or directory')\n",
      "  warnings.warn(\n",
      "/export/usuarios01/ssviloria/ml-spatial-interpolation/.venv/lib/python3.8/site-packages/joblib/externals/loky/backend/resource_tracker.py:303: UserWarning: resource_tracker: /dev/shm/joblib_memmapping_folder_17024_c8c7f45fd2de4cb4bf0ffcd710dbe1c0_fb70dad1a6de4fa385788244b907f2f6/17024-139741079373424-cd4078cd32244b239b23bdca97740ee5.pkl: FileNotFoundError(2, 'No such file or directory')\n",
      "  warnings.warn(\n"
     ]
    }
   ],
   "source": [
    "import subprocess\n",
    "set_conf = \"set1\"\n",
    "for y in range(2011,2022):\n",
    "    experiment_name = FeatureExtractionExperiment.__name__\n",
    "    p = subprocess.Popen([\"python\", \"-m\", \"experiments\", experiment_name , set_conf, f\"--year={y}\"])\n",
    "    print(f\"Started experiment {experiment_name} with config {set_conf} and year {y} on process {p.pid}\")\n",
    "    p.communicate()"
   ]
  },
  {
   "cell_type": "code",
   "execution_count": 4,
   "metadata": {},
   "outputs": [],
   "source": [
    "def run_make_features_at_year(conf, year, **kwargs):\n",
    "    experiment = FeatureExtractionExperiment(conf, year=year, **kwargs)\n",
    "    experiment.set_data((buoy_df, buoy_gdf))\n",
    "    _ = experiment.run()\n",
    "    return _"
   ]
  },
  {
   "cell_type": "code",
   "execution_count": null,
   "metadata": {},
   "outputs": [],
   "source": [
    "from IPython.utils import io\n",
    "\n",
    "set_conf = \"set1\"\n",
    "# with io.capture_output() as captured:\n",
    "for y in range(2011,2022):\n",
    "    print(f\"Extracting features on {set_conf} for year {y}\")\n",
    "    run_make_features_at_year(set_conf, y, verbose=True)#, num_jobs=02)"
   ]
  },
  {
   "cell_type": "markdown",
   "metadata": {},
   "source": [
    "### Analysis"
   ]
  },
  {
   "cell_type": "code",
   "execution_count": null,
   "metadata": {},
   "outputs": [],
   "source": [
    "config = FeatureExtractionExperiment(\"set1\").get_config()\n",
    "train_df = pd.concat(\n",
    "    [pd.read_parquet(f\"{config.output.train_dir}/{year}.parquet\") for year in range(2011,2022)],\n",
    "    axis=0).sort_index()\n",
    "test_df = pd.concat(\n",
    "    [pd.read_parquet(f\"{config.output.eval_dir}/{year}.parquet\") for year in range(2011,2022)],\n",
    "    axis=0).sort_index()"
   ]
  },
  {
   "cell_type": "code",
   "execution_count": null,
   "metadata": {},
   "outputs": [
    {
     "name": "stdout",
     "output_type": "stream",
     "text": [
      "Training set:\n",
      "Shape: (926401, 23)\n",
      "All within area? True\n",
      "Any eval buoys in train? 0\n",
      "Any eval index in train? 0\n",
      "Eval set:\n",
      "Shape: (66314, 23)\n",
      "All within area? True\n",
      "Any eval buoys? 64666\n",
      "Any eval index? 66314\n"
     ]
    }
   ],
   "source": [
    "locations_within_area = buoy_gdf.loc[buoy_gdf.within(config.area)].index.get_level_values(\"buoy_id\").unique()\n",
    "print(\"Training set:\")\n",
    "print(\"Shape:\", train_df.shape)\n",
    "print(\"All within area?\",train_df.index.get_level_values(\"location_id\").isin(locations_within_area).all())\n",
    "print(\"Any eval buoys in train?\",train_df.index.get_level_values(\"location_id\").isin(config.locations_full).sum())\n",
    "print(\"Any eval index in train?\",train_df.index.isin(config.split_strategy.params.eval).sum())\n",
    "\n",
    "print(\"Eval set:\")\n",
    "print(\"Shape:\", test_df.shape)\n",
    "print(\"All within area?\",test_df.index.get_level_values(\"location_id\").isin(locations_within_area).all())\n",
    "print(\"Any eval buoys?\",test_df.index.get_level_values(\"location_id\").isin(config.locations_full).sum())\n",
    "print(\"Any eval index?\",test_df.index.isin(config.split_strategy.params.eval).sum())"
   ]
  },
  {
   "cell_type": "markdown",
   "metadata": {},
   "source": [
    "### Viz:"
   ]
  },
  {
   "cell_type": "code",
   "execution_count": 5,
   "metadata": {},
   "outputs": [
    {
     "data": {
      "text/plain": [
       "<AxesSubplot:title={'center':'Historical of Wave Height for Buoy 42019 Freeport, TX. 60 NM South of Freeport, TX.'}, xlabel='time'>"
      ]
     },
     "execution_count": 5,
     "metadata": {},
     "output_type": "execute_result"
    },
    {
     "data": {
      "image/png": "[encoded data removed]",
      "text/plain": [
       "<Figure size 432x288 with 1 Axes>"
      ]
     },
     "metadata": {
      "needs_background": "light"
     },
     "output_type": "display_data"
    }
   ],
   "source": [
    "# pd.options.plotting.backend = \"plotly\"\n",
    "fig = (\n",
    "    buoy_df\n",
    "    .loc[idx[\"42019\",\"1995-01-01\":],[\"wave_height\"]]\n",
    "    .loc[\"42019\"]\n",
    "    .resample(\"5D\").mean()\n",
    "    .plot(title=\\\n",
    "        f\"Historical of Wave Height for Buoy {buoy_gdf.loc[2011,'42019'].buoy_name}\",\n",
    "        # labels=dict(value=\"Wave Height (meters)\",variable=\"\"),\n",
    "    )\n",
    ")\n",
    "fig"
   ]
  },
  {
   "cell_type": "code",
   "execution_count": 20,
   "metadata": {},
   "outputs": [
    {
     "data": {
      "text/html": [
       "<div style=\"width:100%;\"><div style=\"position:relative;width:100%;height:0;padding-bottom:60%;\"><span style=\"color:#565656\">Make this Notebook Trusted to load map: File -> Trust Notebook</span><iframe src=\"about:blank\" style=\"position:absolute;width:100%;height:100%;left:0;top:0;border:none !important;\" data-html=%3C%21DOCTYPE%20html%3E%0A%3Chead%3E%20%20%20%20%0A%20%20%20%20%3Cmeta%20http-equiv%3D%22content-type%22%20content%3D%22text/html%3B%20charset%3DUTF-8%22%20/%3E%0A%20%20%20%20%0A%20%20%20%20%20%20%20%20%3Cscript%3E%0A%20%20%20%20%20%20%20%20%20%20%20%20L_NO_TOUCH%20%3D%20false%3B%0A%20%20%20%20%20%20%20%20%20%20%20%20L_DISABLE_3D%20%3D%20false%3B%0A%20%20%20%20%20%20%20%20%3C/script%3E%0A%20%20%20%20%0A%20%20%20%20%3Cstyle%3Ehtml%2C%20body%20%7Bwidth%3A%20100%25%3Bheight%3A%20100%25%3Bmargin%3A%200%3Bpadding%3A%200%3B%7D%3C/style%3E%0A%20%20%20%20%3Cstyle%3E%23map%20%7Bposition%3Aabsolute%3Btop%3A0%3Bbottom%3A0%3Bright%3A0%3Bleft%3A0%3B%7D%3C/style%3E%0A%20%20%20%20%3Cscript%20src%3D%22https%3A//cdn.jsdelivr.net/npm/leaflet%401.6.0/dist/leaflet.js%22%3E%3C/script%3E%0A%20%20%20%20%3Cscript%20src%3D%22https%3A//code.jquery.com/jquery-1.12.4.min.js%22%3E%3C/script%3E%0A%20%20%20%20%3Cscript%20src%3D%22https%3A//maxcdn.bootstrapcdn.com/bootstrap/3.2.0/js/bootstrap.min.js%22%3E%3C/script%3E%0A%20%20%20%20%3Cscript%20src%3D%22https%3A//cdnjs.cloudflare.com/ajax/libs/Leaflet.awesome-markers/2.0.2/leaflet.awesome-markers.js%22%3E%3C/script%3E%0A%20%20%20%20%3Clink%20rel%3D%22stylesheet%22%20href%3D%22https%3A//cdn.jsdelivr.net/npm/leaflet%401.6.0/dist/leaflet.css%22/%3E%0A%20%20%20%20%3Clink%20rel%3D%22stylesheet%22%20href%3D%22https%3A//maxcdn.bootstrapcdn.com/bootstrap/3.2.0/css/bootstrap.min.css%22/%3E%0A%20%20%20%20%3Clink%20rel%3D%22stylesheet%22%20href%3D%22https%3A//maxcdn.bootstrapcdn.com/bootstrap/3.2.0/css/bootstrap-theme.min.css%22/%3E%0A%20%20%20%20%3Clink%20rel%3D%22stylesheet%22%20href%3D%22https%3A//maxcdn.bootstrapcdn.com/font-awesome/4.6.3/css/font-awesome.min.css%22/%3E%0A%20%20%20%20%3Clink%20rel%3D%22stylesheet%22%20href%3D%22https%3A//cdnjs.cloudflare.com/ajax/libs/Leaflet.awesome-markers/2.0.2/leaflet.awesome-markers.css%22/%3E%0A%20%20%20%20%3Clink%20rel%3D%22stylesheet%22%20href%3D%22https%3A//cdn.jsdelivr.net/gh/python-visualization/folium/folium/templates/leaflet.awesome.rotate.min.css%22/%3E%0A%20%20%20%20%0A%20%20%20%20%20%20%20%20%20%20%20%20%3Cmeta%20name%3D%22viewport%22%20content%3D%22width%3Ddevice-width%2C%0A%20%20%20%20%20%20%20%20%20%20%20%20%20%20%20%20initial-scale%3D1.0%2C%20maximum-scale%3D1.0%2C%20user-scalable%3Dno%22%20/%3E%0A%20%20%20%20%20%20%20%20%20%20%20%20%3Cstyle%3E%0A%20%20%20%20%20%20%20%20%20%20%20%20%20%20%20%20%23map_d4df04940331448bb206bf10e5801f34%20%7B%0A%20%20%20%20%20%20%20%20%20%20%20%20%20%20%20%20%20%20%20%20position%3A%20relative%3B%0A%20%20%20%20%20%20%20%20%20%20%20%20%20%20%20%20%20%20%20%20width%3A%20100.0%25%3B%0A%20%20%20%20%20%20%20%20%20%20%20%20%20%20%20%20%20%20%20%20height%3A%20100.0%25%3B%0A%20%20%20%20%20%20%20%20%20%20%20%20%20%20%20%20%20%20%20%20left%3A%200.0%25%3B%0A%20%20%20%20%20%20%20%20%20%20%20%20%20%20%20%20%20%20%20%20top%3A%200.0%25%3B%0A%20%20%20%20%20%20%20%20%20%20%20%20%20%20%20%20%7D%0A%20%20%20%20%20%20%20%20%20%20%20%20%3C/style%3E%0A%20%20%20%20%20%20%20%20%0A%20%20%20%20%3Cscript%20src%3D%22https%3A//cdnjs.cloudflare.com/ajax/libs/leaflet.draw/1.0.2/leaflet.draw.js%22%3E%3C/script%3E%0A%20%20%20%20%3Clink%20rel%3D%22stylesheet%22%20href%3D%22https%3A//cdnjs.cloudflare.com/ajax/libs/leaflet.draw/1.0.2/leaflet.draw.css%22/%3E%0A%20%20%20%20%3Cscript%20src%3D%22https%3A//cdn.jsdelivr.net/gh/python-visualization/folium%40master/folium/templates/leaflet_heat.min.js%22%3E%3C/script%3E%0A%3C/head%3E%0A%3Cbody%3E%20%20%20%20%0A%20%20%20%20%0A%20%20%20%20%20%20%20%20%20%20%20%20%3Cdiv%20class%3D%22folium-map%22%20id%3D%22map_d4df04940331448bb206bf10e5801f34%22%20%3E%3C/div%3E%0A%20%20%20%20%20%20%20%20%0A%3C/body%3E%0A%3Cscript%3E%20%20%20%20%0A%20%20%20%20%0A%20%20%20%20%20%20%20%20%20%20%20%20var%20map_d4df04940331448bb206bf10e5801f34%20%3D%20L.map%28%0A%20%20%20%20%20%20%20%20%20%20%20%20%20%20%20%20%22map_d4df04940331448bb206bf10e5801f34%22%2C%0A%20%20%20%20%20%20%20%20%20%20%20%20%20%20%20%20%7B%0A%20%20%20%20%20%20%20%20%20%20%20%20%20%20%20%20%20%20%20%20center%3A%20%5B25.327679104477614%2C%20-75.9753656716418%5D%2C%0A%20%20%20%20%20%20%20%20%20%20%20%20%20%20%20%20%20%20%20%20crs%3A%20L.CRS.EPSG3857%2C%0A%20%20%20%20%20%20%20%20%20%20%20%20%20%20%20%20%20%20%20%20zoom%3A%204%2C%0A%20%20%20%20%20%20%20%20%20%20%20%20%20%20%20%20%20%20%20%20zoomControl%3A%20true%2C%0A%20%20%20%20%20%20%20%20%20%20%20%20%20%20%20%20%20%20%20%20preferCanvas%3A%20false%2C%0A%20%20%20%20%20%20%20%20%20%20%20%20%20%20%20%20%20%20%20%20scrollWheelZoom%3A%20false%2C%0A%20%20%20%20%20%20%20%20%20%20%20%20%20%20%20%20%7D%0A%20%20%20%20%20%20%20%20%20%20%20%20%29%3B%0A%0A%20%20%20%20%20%20%20%20%20%20%20%20%0A%0A%20%20%20%20%20%20%20%20%0A%20%20%20%20%0A%20%20%20%20%20%20%20%20%20%20%20%20var%20tile_layer_dc99f1e928c04be195781566f20fa6be%20%3D%20L.tileLayer%28%0A%20%20%20%20%20%20%20%20%20%20%20%20%20%20%20%20%22https%3A//cartodb-basemaps-%7Bs%7D.global.ssl.fastly.net/light_all/%7Bz%7D/%7Bx%7D/%7By%7D.png%22%2C%0A%20%20%20%20%20%20%20%20%20%20%20%20%20%20%20%20%7B%22attribution%22%3A%20%22%5Cu0026copy%3B%20%5Cu003ca%20href%3D%5C%22http%3A//www.openstreetmap.org/copyright%5C%22%5Cu003eOpenStreetMap%5Cu003c/a%5Cu003e%20contributors%20%5Cu0026copy%3B%20%5Cu003ca%20href%3D%5C%22http%3A//cartodb.com/attributions%5C%22%5Cu003eCartoDB%5Cu003c/a%5Cu003e%2C%20CartoDB%20%5Cu003ca%20href%20%3D%5C%22http%3A//cartodb.com/attributions%5C%22%5Cu003eattributions%5Cu003c/a%5Cu003e%22%2C%20%22detectRetina%22%3A%20false%2C%20%22maxNativeZoom%22%3A%2018%2C%20%22maxZoom%22%3A%2018%2C%20%22minZoom%22%3A%200%2C%20%22noWrap%22%3A%20false%2C%20%22opacity%22%3A%201%2C%20%22subdomains%22%3A%20%22abc%22%2C%20%22tms%22%3A%20false%7D%0A%20%20%20%20%20%20%20%20%20%20%20%20%29.addTo%28map_d4df04940331448bb206bf10e5801f34%29%3B%0A%20%20%20%20%20%20%20%20%0A%20%20%20%20%0A%20%20%20%20%20%20%20%20%20%20%20%20var%20feature_group_7e6bcbe7ec454de6b165c5da6e9efc3d%20%3D%20L.featureGroup%28%0A%20%20%20%20%20%20%20%20%20%20%20%20%20%20%20%20%7B%7D%0A%20%20%20%20%20%20%20%20%20%20%20%20%29.addTo%28map_d4df04940331448bb206bf10e5801f34%29%3B%0A%20%20%20%20%20%20%20%20%0A%20%20%20%20%0A%20%20%20%20%20%20%20%20%20%20%20%20var%20circle_marker_d962d39678c54257ab127dc6e088622a%20%3D%20L.circleMarker%28%0A%20%20%20%20%20%20%20%20%20%20%20%20%20%20%20%20%5B34.476%2C%20-77.28%5D%2C%0A%20%20%20%20%20%20%20%20%20%20%20%20%20%20%20%20%7B%22bubblingMouseEvents%22%3A%20true%2C%20%22color%22%3A%20%22black%22%2C%20%22dashArray%22%3A%20null%2C%20%22dashOffset%22%3A%20null%2C%20%22fill%22%3A%20false%2C%20%22fillColor%22%3A%20%22black%22%2C%20%22fillOpacity%22%3A%200.2%2C%20%22fillRule%22%3A%20%22evenodd%22%2C%20%22lineCap%22%3A%20%22round%22%2C%20%22lineJoin%22%3A%20%22round%22%2C%20%22opacity%22%3A%201.0%2C%20%22radius%22%3A%201%2C%20%22stroke%22%3A%20true%2C%20%22weight%22%3A%205%7D%0A%20%20%20%20%20%20%20%20%20%20%20%20%29.addTo%28feature_group_7e6bcbe7ec454de6b165c5da6e9efc3d%29%3B%0A%20%20%20%20%20%20%20%20%0A%20%20%20%20%0A%20%20%20%20%20%20%20%20var%20popup_27a76c4a98fd43bbb1d2818a456bd08c%20%3D%20L.popup%28%7B%22maxWidth%22%3A%20%22100%25%22%7D%29%3B%0A%0A%20%20%20%20%20%20%20%20%0A%20%20%20%20%20%20%20%20%20%20%20%20var%20html_ce613a35c8e74505869ec8e291908e4b%20%3D%20%24%28%60%3Cdiv%20id%3D%22html_ce613a35c8e74505869ec8e291908e4b%22%20style%3D%22width%3A%20100.0%25%3B%20height%3A%20100.0%25%3B%22%3E41035%20Onslow%20Bay%2C%20NC%20%2841035%29%3C/div%3E%60%29%5B0%5D%3B%0A%20%20%20%20%20%20%20%20%20%20%20%20popup_27a76c4a98fd43bbb1d2818a456bd08c.setContent%28html_ce613a35c8e74505869ec8e291908e4b%29%3B%0A%20%20%20%20%20%20%20%20%0A%0A%20%20%20%20%20%20%20%20circle_marker_d962d39678c54257ab127dc6e088622a.bindPopup%28popup_27a76c4a98fd43bbb1d2818a456bd08c%29%0A%20%20%20%20%20%20%20%20%3B%0A%0A%20%20%20%20%20%20%20%20%0A%20%20%20%20%0A%20%20%20%20%0A%20%20%20%20%20%20%20%20%20%20%20%20var%20circle_marker_debd337028094601939e316e4c1ffa68%20%3D%20L.circleMarker%28%0A%20%20%20%20%20%20%20%20%20%20%20%20%20%20%20%20%5B14.926%2C%20-75.046%5D%2C%0A%20%20%20%20%20%20%20%20%20%20%20%20%20%20%20%20%7B%22bubblingMouseEvents%22%3A%20true%2C%20%22color%22%3A%20%22black%22%2C%20%22dashArray%22%3A%20null%2C%20%22dashOffset%22%3A%20null%2C%20%22fill%22%3A%20false%2C%20%22fillColor%22%3A%20%22black%22%2C%20%22fillOpacity%22%3A%200.2%2C%20%22fillRule%22%3A%20%22evenodd%22%2C%20%22lineCap%22%3A%20%22round%22%2C%20%22lineJoin%22%3A%20%22round%22%2C%20%22opacity%22%3A%201.0%2C%20%22radius%22%3A%201%2C%20%22stroke%22%3A%20true%2C%20%22weight%22%3A%205%7D%0A%20%20%20%20%20%20%20%20%20%20%20%20%29.addTo%28feature_group_7e6bcbe7ec454de6b165c5da6e9efc3d%29%3B%0A%20%20%20%20%20%20%20%20%0A%20%20%20%20%0A%20%20%20%20%20%20%20%20var%20popup_fcfc3f35f11141ab9c05a183c1bb2fa5%20%3D%20L.popup%28%7B%22maxWidth%22%3A%20%22100%25%22%7D%29%3B%0A%0A%20%20%20%20%20%20%20%20%0A%20%20%20%20%20%20%20%20%20%20%20%20var%20html_10a8d636083445f5ac76f0074690231f%20%3D%20%24%28%60%3Cdiv%20id%3D%22html_10a8d636083445f5ac76f0074690231f%22%20style%3D%22width%3A%20100.0%25%3B%20height%3A%20100.0%25%3B%22%3E42065%20Near%2042058%20Central%20Caribbean%20%2842065%29%3C/div%3E%60%29%5B0%5D%3B%0A%20%20%20%20%20%20%20%20%20%20%20%20popup_fcfc3f35f11141ab9c05a183c1bb2fa5.setContent%28html_10a8d636083445f5ac76f0074690231f%29%3B%0A%20%20%20%20%20%20%20%20%0A%0A%20%20%20%20%20%20%20%20circle_marker_debd337028094601939e316e4c1ffa68.bindPopup%28popup_fcfc3f35f11141ab9c05a183c1bb2fa5%29%0A%20%20%20%20%20%20%20%20%3B%0A%0A%20%20%20%20%20%20%20%20%0A%20%20%20%20%0A%20%20%20%20%0A%20%20%20%20%20%20%20%20%20%20%20%20var%20circle_marker_2397c7efb7404297bf890f216f490ea2%20%3D%20L.circleMarker%28%0A%20%20%20%20%20%20%20%20%20%20%20%20%20%20%20%20%5B30.042%2C%20-80.534%5D%2C%0A%20%20%20%20%20%20%20%20%20%20%20%20%20%20%20%20%7B%22bubblingMouseEvents%22%3A%20true%2C%20%22color%22%3A%20%22black%22%2C%20%22dashArray%22%3A%20null%2C%20%22dashOffset%22%3A%20null%2C%20%22fill%22%3A%20false%2C%20%22fillColor%22%3A%20%22black%22%2C%20%22fillOpacity%22%3A%200.2%2C%20%22fillRule%22%3A%20%22evenodd%22%2C%20%22lineCap%22%3A%20%22round%22%2C%20%22lineJoin%22%3A%20%22round%22%2C%20%22opacity%22%3A%201.0%2C%20%22radius%22%3A%201%2C%20%22stroke%22%3A%20true%2C%20%22weight%22%3A%205%7D%0A%20%20%20%20%20%20%20%20%20%20%20%20%29.addTo%28feature_group_7e6bcbe7ec454de6b165c5da6e9efc3d%29%3B%0A%20%20%20%20%20%20%20%20%0A%20%20%20%20%0A%20%20%20%20%20%20%20%20var%20popup_480f6ecfae5746d58f0ad0128140222e%20%3D%20L.popup%28%7B%22maxWidth%22%3A%20%22100%25%22%7D%29%3B%0A%0A%20%20%20%20%20%20%20%20%0A%20%20%20%20%20%20%20%20%20%20%20%20var%20html_56fc783186254dd1aaaae21c88b5ddc1%20%3D%20%24%28%60%3Cdiv%20id%3D%22html_56fc783186254dd1aaaae21c88b5ddc1%22%20style%3D%22width%3A%20100.0%25%3B%20height%3A%20100.0%25%3B%22%3E41012%20St.%20Augustine%2C%20FL%2040NM%20ENE%20of%20St%20Augustine%2C%20FL.%20%2841012%29%3C/div%3E%60%29%5B0%5D%3B%0A%20%20%20%20%20%20%20%20%20%20%20%20popup_480f6ecfae5746d58f0ad0128140222e.setContent%28html_56fc783186254dd1aaaae21c88b5ddc1%29%3B%0A%20%20%20%20%20%20%20%20%0A%0A%20%20%20%20%20%20%20%20circle_marker_2397c7efb7404297bf890f216f490ea2.bindPopup%28popup_480f6ecfae5746d58f0ad0128140222e%29%0A%20%20%20%20%20%20%20%20%3B%0A%0A%20%20%20%20%20%20%20%20%0A%20%20%20%20%0A%20%20%20%20%0A%20%20%20%20%20%20%20%20%20%20%20%20var%20circle_marker_66c6b6d1d5d64b3da72158ef1389a77e%20%3D%20L.circleMarker%28%0A%20%20%20%20%20%20%20%20%20%20%20%20%20%20%20%20%5B34.207%2C%20-76.949%5D%2C%0A%20%20%20%20%20%20%20%20%20%20%20%20%20%20%20%20%7B%22bubblingMouseEvents%22%3A%20true%2C%20%22color%22%3A%20%22black%22%2C%20%22dashArray%22%3A%20null%2C%20%22dashOffset%22%3A%20null%2C%20%22fill%22%3A%20false%2C%20%22fillColor%22%3A%20%22black%22%2C%20%22fillOpacity%22%3A%200.2%2C%20%22fillRule%22%3A%20%22evenodd%22%2C%20%22lineCap%22%3A%20%22round%22%2C%20%22lineJoin%22%3A%20%22round%22%2C%20%22opacity%22%3A%201.0%2C%20%22radius%22%3A%201%2C%20%22stroke%22%3A%20true%2C%20%22weight%22%3A%205%7D%0A%20%20%20%20%20%20%20%20%20%20%20%20%29.addTo%28feature_group_7e6bcbe7ec454de6b165c5da6e9efc3d%29%3B%0A%20%20%20%20%20%20%20%20%0A%20%20%20%20%0A%20%20%20%20%20%20%20%20var%20popup_05511bbb237b414590bea8487951998f%20%3D%20L.popup%28%7B%22maxWidth%22%3A%20%22100%25%22%7D%29%3B%0A%0A%20%20%20%20%20%20%20%20%0A%20%20%20%20%20%20%20%20%20%20%20%20var%20html_2e828fa2e6f84defb584170752775240%20%3D%20%24%28%60%3Cdiv%20id%3D%22html_2e828fa2e6f84defb584170752775240%22%20style%3D%22width%3A%20100.0%25%3B%20height%3A%20100.0%25%3B%22%3E41036%20Onslow%20Bay%2C%20NC%20%2841036%29%3C/div%3E%60%29%5B0%5D%3B%0A%20%20%20%20%20%20%20%20%20%20%20%20popup_05511bbb237b414590bea8487951998f.setContent%28html_2e828fa2e6f84defb584170752775240%29%3B%0A%20%20%20%20%20%20%20%20%0A%0A%20%20%20%20%20%20%20%20circle_marker_66c6b6d1d5d64b3da72158ef1389a77e.bindPopup%28popup_05511bbb237b414590bea8487951998f%29%0A%20%20%20%20%20%20%20%20%3B%0A%0A%20%20%20%20%20%20%20%20%0A%20%20%20%20%0A%20%20%20%20%0A%20%20%20%20%20%20%20%20%20%20%20%20var%20circle_marker_61c7583ffc6e4dc6b2955208f6546e47%20%3D%20L.circleMarker%28%0A%20%20%20%20%20%20%20%20%20%20%20%20%20%20%20%20%5B16.908%2C%20-81.422%5D%2C%0A%20%20%20%20%20%20%20%20%20%20%20%20%20%20%20%20%7B%22bubblingMouseEvents%22%3A%20true%2C%20%22color%22%3A%20%22black%22%2C%20%22dashArray%22%3A%20null%2C%20%22dashOffset%22%3A%20null%2C%20%22fill%22%3A%20false%2C%20%22fillColor%22%3A%20%22black%22%2C%20%22fillOpacity%22%3A%200.2%2C%20%22fillRule%22%3A%20%22evenodd%22%2C%20%22lineCap%22%3A%20%22round%22%2C%20%22lineJoin%22%3A%20%22round%22%2C%20%22opacity%22%3A%201.0%2C%20%22radius%22%3A%201%2C%20%22stroke%22%3A%20true%2C%20%22weight%22%3A%205%7D%0A%20%20%20%20%20%20%20%20%20%20%20%20%29.addTo%28feature_group_7e6bcbe7ec454de6b165c5da6e9efc3d%29%3B%0A%20%20%20%20%20%20%20%20%0A%20%20%20%20%0A%20%20%20%20%20%20%20%20var%20popup_50b9c7923d064d20a91e4fe406036a9e%20%3D%20L.popup%28%7B%22maxWidth%22%3A%20%22100%25%22%7D%29%3B%0A%0A%20%20%20%20%20%20%20%20%0A%20%20%20%20%20%20%20%20%20%20%20%20var%20html_627ac27f87084f74b98b2aa6ebdbddcf%20%3D%20%24%28%60%3Cdiv%20id%3D%22html_627ac27f87084f74b98b2aa6ebdbddcf%22%20style%3D%22width%3A%20100.0%25%3B%20height%3A%20100.0%25%3B%22%3E42057%20Western%20Caribbean%20%2842057%29%3C/div%3E%60%29%5B0%5D%3B%0A%20%20%20%20%20%20%20%20%20%20%20%20popup_50b9c7923d064d20a91e4fe406036a9e.setContent%28html_627ac27f87084f74b98b2aa6ebdbddcf%29%3B%0A%20%20%20%20%20%20%20%20%0A%0A%20%20%20%20%20%20%20%20circle_marker_61c7583ffc6e4dc6b2955208f6546e47.bindPopup%28popup_50b9c7923d064d20a91e4fe406036a9e%29%0A%20%20%20%20%20%20%20%20%3B%0A%0A%20%20%20%20%20%20%20%20%0A%20%20%20%20%0A%20%20%20%20%0A%20%20%20%20%20%20%20%20%20%20%20%20var%20circle_marker_10757eaf01f54b0484fd78df773451a8%20%3D%20L.circleMarker%28%0A%20%20%20%20%20%20%20%20%20%20%20%20%20%20%20%20%5B34.724%2C%20-72.317%5D%2C%0A%20%20%20%20%20%20%20%20%20%20%20%20%20%20%20%20%7B%22bubblingMouseEvents%22%3A%20true%2C%20%22color%22%3A%20%22black%22%2C%20%22dashArray%22%3A%20null%2C%20%22dashOffset%22%3A%20null%2C%20%22fill%22%3A%20false%2C%20%22fillColor%22%3A%20%22black%22%2C%20%22fillOpacity%22%3A%200.2%2C%20%22fillRule%22%3A%20%22evenodd%22%2C%20%22lineCap%22%3A%20%22round%22%2C%20%22lineJoin%22%3A%20%22round%22%2C%20%22opacity%22%3A%201.0%2C%20%22radius%22%3A%201%2C%20%22stroke%22%3A%20true%2C%20%22weight%22%3A%205%7D%0A%20%20%20%20%20%20%20%20%20%20%20%20%29.addTo%28feature_group_7e6bcbe7ec454de6b165c5da6e9efc3d%29%3B%0A%20%20%20%20%20%20%20%20%0A%20%20%20%20%0A%20%20%20%20%20%20%20%20var%20popup_c0c5c52d67cd420095891a816eecb317%20%3D%20L.popup%28%7B%22maxWidth%22%3A%20%22100%25%22%7D%29%3B%0A%0A%20%20%20%20%20%20%20%20%0A%20%20%20%20%20%20%20%20%20%20%20%20var%20html_221adf5e29f848e88226c527f5724742%20%3D%20%24%28%60%3Cdiv%20id%3D%22html_221adf5e29f848e88226c527f5724742%22%20style%3D%22width%3A%20100.0%25%3B%20height%3A%20100.0%25%3B%22%3E41001%20150%20NM%20East%20of%20Cape%20HATTERAS%20%2841001%29%3C/div%3E%60%29%5B0%5D%3B%0A%20%20%20%20%20%20%20%20%20%20%20%20popup_c0c5c52d67cd420095891a816eecb317.setContent%28html_221adf5e29f848e88226c527f5724742%29%3B%0A%20%20%20%20%20%20%20%20%0A%0A%20%20%20%20%20%20%20%20circle_marker_10757eaf01f54b0484fd78df773451a8.bindPopup%28popup_c0c5c52d67cd420095891a816eecb317%29%0A%20%20%20%20%20%20%20%20%3B%0A%0A%20%20%20%20%20%20%20%20%0A%20%20%20%20%0A%20%20%20%20%0A%20%20%20%20%20%20%20%20%20%20%20%20var%20circle_marker_2be113e099c549bd9f472aaea01dab0a%20%3D%20L.circleMarker%28%0A%20%20%20%20%20%20%20%20%20%20%20%20%20%20%20%20%5B31.76%2C%20-74.945%5D%2C%0A%20%20%20%20%20%20%20%20%20%20%20%20%20%20%20%20%7B%22bubblingMouseEvents%22%3A%20true%2C%20%22color%22%3A%20%22black%22%2C%20%22dashArray%22%3A%20null%2C%20%22dashOffset%22%3A%20null%2C%20%22fill%22%3A%20false%2C%20%22fillColor%22%3A%20%22black%22%2C%20%22fillOpacity%22%3A%200.2%2C%20%22fillRule%22%3A%20%22evenodd%22%2C%20%22lineCap%22%3A%20%22round%22%2C%20%22lineJoin%22%3A%20%22round%22%2C%20%22opacity%22%3A%201.0%2C%20%22radius%22%3A%201%2C%20%22stroke%22%3A%20true%2C%20%22weight%22%3A%205%7D%0A%20%20%20%20%20%20%20%20%20%20%20%20%29.addTo%28feature_group_7e6bcbe7ec454de6b165c5da6e9efc3d%29%3B%0A%20%20%20%20%20%20%20%20%0A%20%20%20%20%0A%20%20%20%20%20%20%20%20var%20popup_2eb1ad8f059e42cfbc6f1b72fd3db467%20%3D%20L.popup%28%7B%22maxWidth%22%3A%20%22100%25%22%7D%29%3B%0A%0A%20%20%20%20%20%20%20%20%0A%20%20%20%20%20%20%20%20%20%20%20%20var%20html_b1ea7ab6b4294fd8985d2e77da557ecd%20%3D%20%24%28%60%3Cdiv%20id%3D%22html_b1ea7ab6b4294fd8985d2e77da557ecd%22%20style%3D%22width%3A%20100.0%25%3B%20height%3A%20100.0%25%3B%22%3E250%20NM%20East%20of%20Charleston%2C%20SC%20%2841002%29%3C/div%3E%60%29%5B0%5D%3B%0A%20%20%20%20%20%20%20%20%20%20%20%20popup_2eb1ad8f059e42cfbc6f1b72fd3db467.setContent%28html_b1ea7ab6b4294fd8985d2e77da557ecd%29%3B%0A%20%20%20%20%20%20%20%20%0A%0A%20%20%20%20%20%20%20%20circle_marker_2be113e099c549bd9f472aaea01dab0a.bindPopup%28popup_2eb1ad8f059e42cfbc6f1b72fd3db467%29%0A%20%20%20%20%20%20%20%20%3B%0A%0A%20%20%20%20%20%20%20%20%0A%20%20%20%20%0A%20%20%20%20%0A%20%20%20%20%20%20%20%20%20%20%20%20var%20circle_marker_c0ac2ac1ce5b4cbb8acac27ae0a85853%20%3D%20L.circleMarker%28%0A%20%20%20%20%20%20%20%20%20%20%20%20%20%20%20%20%5B32.502%2C%20-79.099%5D%2C%0A%20%20%20%20%20%20%20%20%20%20%20%20%20%20%20%20%7B%22bubblingMouseEvents%22%3A%20true%2C%20%22color%22%3A%20%22black%22%2C%20%22dashArray%22%3A%20null%2C%20%22dashOffset%22%3A%20null%2C%20%22fill%22%3A%20false%2C%20%22fillColor%22%3A%20%22black%22%2C%20%22fillOpacity%22%3A%200.2%2C%20%22fillRule%22%3A%20%22evenodd%22%2C%20%22lineCap%22%3A%20%22round%22%2C%20%22lineJoin%22%3A%20%22round%22%2C%20%22opacity%22%3A%201.0%2C%20%22radius%22%3A%201%2C%20%22stroke%22%3A%20true%2C%20%22weight%22%3A%205%7D%0A%20%20%20%20%20%20%20%20%20%20%20%20%29.addTo%28feature_group_7e6bcbe7ec454de6b165c5da6e9efc3d%29%3B%0A%20%20%20%20%20%20%20%20%0A%20%20%20%20%0A%20%20%20%20%20%20%20%20var%20popup_2fc0db2c0d4d476aa10d5445c82a2d98%20%3D%20L.popup%28%7B%22maxWidth%22%3A%20%22100%25%22%7D%29%3B%0A%0A%20%20%20%20%20%20%20%20%0A%20%20%20%20%20%20%20%20%20%20%20%20var%20html_1a723e8bc5f54777bf0ebe9205f1b301%20%3D%20%24%28%60%3Cdiv%20id%3D%22html_1a723e8bc5f54777bf0ebe9205f1b301%22%20style%3D%22width%3A%20100.0%25%3B%20height%3A%20100.0%25%3B%22%3E41%20NM%20Southeast%20of%20Charleston%2C%20SC%20%2841004%29%3C/div%3E%60%29%5B0%5D%3B%0A%20%20%20%20%20%20%20%20%20%20%20%20popup_2fc0db2c0d4d476aa10d5445c82a2d98.setContent%28html_1a723e8bc5f54777bf0ebe9205f1b301%29%3B%0A%20%20%20%20%20%20%20%20%0A%0A%20%20%20%20%20%20%20%20circle_marker_c0ac2ac1ce5b4cbb8acac27ae0a85853.bindPopup%28popup_2fc0db2c0d4d476aa10d5445c82a2d98%29%0A%20%20%20%20%20%20%20%20%3B%0A%0A%20%20%20%20%20%20%20%20%0A%20%20%20%20%0A%20%20%20%20%0A%20%20%20%20%20%20%20%20%20%20%20%20var%20circle_marker_a61d82b289614237ba397112723b20e7%20%3D%20L.circleMarker%28%0A%20%20%20%20%20%20%20%20%20%20%20%20%20%20%20%20%5B31.4%2C%20-80.866%5D%2C%0A%20%20%20%20%20%20%20%20%20%20%20%20%20%20%20%20%7B%22bubblingMouseEvents%22%3A%20true%2C%20%22color%22%3A%20%22black%22%2C%20%22dashArray%22%3A%20null%2C%20%22dashOffset%22%3A%20null%2C%20%22fill%22%3A%20false%2C%20%22fillColor%22%3A%20%22black%22%2C%20%22fillOpacity%22%3A%200.2%2C%20%22fillRule%22%3A%20%22evenodd%22%2C%20%22lineCap%22%3A%20%22round%22%2C%20%22lineJoin%22%3A%20%22round%22%2C%20%22opacity%22%3A%201.0%2C%20%22radius%22%3A%201%2C%20%22stroke%22%3A%20true%2C%20%22weight%22%3A%205%7D%0A%20%20%20%20%20%20%20%20%20%20%20%20%29.addTo%28feature_group_7e6bcbe7ec454de6b165c5da6e9efc3d%29%3B%0A%20%20%20%20%20%20%20%20%0A%20%20%20%20%0A%20%20%20%20%20%20%20%20var%20popup_5613c116980e4811a8e71304f1e65b78%20%3D%20L.popup%28%7B%22maxWidth%22%3A%20%22100%25%22%7D%29%3B%0A%0A%20%20%20%20%20%20%20%20%0A%20%20%20%20%20%20%20%20%20%20%20%20var%20html_6748d1d9bcc841d9b99a3745bd4b3521%20%3D%20%24%28%60%3Cdiv%20id%3D%22html_6748d1d9bcc841d9b99a3745bd4b3521%22%20style%3D%22width%3A%20100.0%25%3B%20height%3A%20100.0%25%3B%22%3E40%20NM%20Southeast%20of%20Savannah%2C%20GA%20%2841008%29%3C/div%3E%60%29%5B0%5D%3B%0A%20%20%20%20%20%20%20%20%20%20%20%20popup_5613c116980e4811a8e71304f1e65b78.setContent%28html_6748d1d9bcc841d9b99a3745bd4b3521%29%3B%0A%20%20%20%20%20%20%20%20%0A%0A%20%20%20%20%20%20%20%20circle_marker_a61d82b289614237ba397112723b20e7.bindPopup%28popup_5613c116980e4811a8e71304f1e65b78%29%0A%20%20%20%20%20%20%20%20%3B%0A%0A%20%20%20%20%20%20%20%20%0A%20%20%20%20%0A%20%20%20%20%0A%20%20%20%20%20%20%20%20%20%20%20%20var%20circle_marker_46ee07d2b31c423ea5b25c3e89d8c257%20%3D%20L.circleMarker%28%0A%20%20%20%20%20%20%20%20%20%20%20%20%20%20%20%20%5B28.508%2C%20-80.185%5D%2C%0A%20%20%20%20%20%20%20%20%20%20%20%20%20%20%20%20%7B%22bubblingMouseEvents%22%3A%20true%2C%20%22color%22%3A%20%22black%22%2C%20%22dashArray%22%3A%20null%2C%20%22dashOffset%22%3A%20null%2C%20%22fill%22%3A%20false%2C%20%22fillColor%22%3A%20%22black%22%2C%20%22fillOpacity%22%3A%200.2%2C%20%22fillRule%22%3A%20%22evenodd%22%2C%20%22lineCap%22%3A%20%22round%22%2C%20%22lineJoin%22%3A%20%22round%22%2C%20%22opacity%22%3A%201.0%2C%20%22radius%22%3A%201%2C%20%22stroke%22%3A%20true%2C%20%22weight%22%3A%205%7D%0A%20%20%20%20%20%20%20%20%20%20%20%20%29.addTo%28feature_group_7e6bcbe7ec454de6b165c5da6e9efc3d%29%3B%0A%20%20%20%20%20%20%20%20%0A%20%20%20%20%0A%20%20%20%20%20%20%20%20var%20popup_591e7846a87a4b07ab257c522916524b%20%3D%20L.popup%28%7B%22maxWidth%22%3A%20%22100%25%22%7D%29%3B%0A%0A%20%20%20%20%20%20%20%20%0A%20%20%20%20%20%20%20%20%20%20%20%20var%20html_7afdc18297234578aeed641caf3d2e9a%20%3D%20%24%28%60%3Cdiv%20id%3D%22html_7afdc18297234578aeed641caf3d2e9a%22%20style%3D%22width%3A%20100.0%25%3B%20height%3A%20100.0%25%3B%22%3E41009%20CANAVERAL%2020%20NM%20East%20of%20Cape%20Canaveral%2C%20FL%20%2841009%29%3C/div%3E%60%29%5B0%5D%3B%0A%20%20%20%20%20%20%20%20%20%20%20%20popup_591e7846a87a4b07ab257c522916524b.setContent%28html_7afdc18297234578aeed641caf3d2e9a%29%3B%0A%20%20%20%20%20%20%20%20%0A%0A%20%20%20%20%20%20%20%20circle_marker_46ee07d2b31c423ea5b25c3e89d8c257.bindPopup%28popup_591e7846a87a4b07ab257c522916524b%29%0A%20%20%20%20%20%20%20%20%3B%0A%0A%20%20%20%20%20%20%20%20%0A%20%20%20%20%0A%20%20%20%20%0A%20%20%20%20%20%20%20%20%20%20%20%20var%20circle_marker_288a2a2190094603b21967583401396b%20%3D%20L.circleMarker%28%0A%20%20%20%20%20%20%20%20%20%20%20%20%20%20%20%20%5B28.878%2C%20-78.485%5D%2C%0A%20%20%20%20%20%20%20%20%20%20%20%20%20%20%20%20%7B%22bubblingMouseEvents%22%3A%20true%2C%20%22color%22%3A%20%22black%22%2C%20%22dashArray%22%3A%20null%2C%20%22dashOffset%22%3A%20null%2C%20%22fill%22%3A%20false%2C%20%22fillColor%22%3A%20%22black%22%2C%20%22fillOpacity%22%3A%200.2%2C%20%22fillRule%22%3A%20%22evenodd%22%2C%20%22lineCap%22%3A%20%22round%22%2C%20%22lineJoin%22%3A%20%22round%22%2C%20%22opacity%22%3A%201.0%2C%20%22radius%22%3A%201%2C%20%22stroke%22%3A%20true%2C%20%22weight%22%3A%205%7D%0A%20%20%20%20%20%20%20%20%20%20%20%20%29.addTo%28feature_group_7e6bcbe7ec454de6b165c5da6e9efc3d%29%3B%0A%20%20%20%20%20%20%20%20%0A%20%20%20%20%0A%20%20%20%20%20%20%20%20var%20popup_c5ff3ab874934bf2beed31c2ef74fd53%20%3D%20L.popup%28%7B%22maxWidth%22%3A%20%22100%25%22%7D%29%3B%0A%0A%20%20%20%20%20%20%20%20%0A%20%20%20%20%20%20%20%20%20%20%20%20var%20html_47e760d86e4d4847950153dbeac1999a%20%3D%20%24%28%60%3Cdiv%20id%3D%22html_47e760d86e4d4847950153dbeac1999a%22%20style%3D%22width%3A%20100.0%25%3B%20height%3A%20100.0%25%3B%22%3E41010%20CANAVERAL%20EAST%20120NM%20East%20of%20Cape%20Canaveral%20%2841010%29%3C/div%3E%60%29%5B0%5D%3B%0A%20%20%20%20%20%20%20%20%20%20%20%20popup_c5ff3ab874934bf2beed31c2ef74fd53.setContent%28html_47e760d86e4d4847950153dbeac1999a%29%3B%0A%20%20%20%20%20%20%20%20%0A%0A%20%20%20%20%20%20%20%20circle_marker_288a2a2190094603b21967583401396b.bindPopup%28popup_c5ff3ab874934bf2beed31c2ef74fd53%29%0A%20%20%20%20%20%20%20%20%3B%0A%0A%20%20%20%20%20%20%20%20%0A%20%20%20%20%0A%20%20%20%20%0A%20%20%20%20%20%20%20%20%20%20%20%20var%20circle_marker_1c70e491da1043b4bcce13dcdcd64d22%20%3D%20L.circleMarker%28%0A%20%20%20%20%20%20%20%20%20%20%20%20%20%20%20%20%5B33.441%2C%20-77.764%5D%2C%0A%20%20%20%20%20%20%20%20%20%20%20%20%20%20%20%20%7B%22bubblingMouseEvents%22%3A%20true%2C%20%22color%22%3A%20%22black%22%2C%20%22dashArray%22%3A%20null%2C%20%22dashOffset%22%3A%20null%2C%20%22fill%22%3A%20false%2C%20%22fillColor%22%3A%20%22black%22%2C%20%22fillOpacity%22%3A%200.2%2C%20%22fillRule%22%3A%20%22evenodd%22%2C%20%22lineCap%22%3A%20%22round%22%2C%20%22lineJoin%22%3A%20%22round%22%2C%20%22opacity%22%3A%201.0%2C%20%22radius%22%3A%201%2C%20%22stroke%22%3A%20true%2C%20%22weight%22%3A%205%7D%0A%20%20%20%20%20%20%20%20%20%20%20%20%29.addTo%28feature_group_7e6bcbe7ec454de6b165c5da6e9efc3d%29%3B%0A%20%20%20%20%20%20%20%20%0A%20%20%20%20%0A%20%20%20%20%20%20%20%20var%20popup_429cd0b9852f47e58b883a96cf35726f%20%3D%20L.popup%28%7B%22maxWidth%22%3A%20%22100%25%22%7D%29%3B%0A%0A%20%20%20%20%20%20%20%20%0A%20%20%20%20%20%20%20%20%20%20%20%20var%20html_e5d65631e28844d7abc7c218fe92a551%20%3D%20%24%28%60%3Cdiv%20id%3D%22html_e5d65631e28844d7abc7c218fe92a551%22%20style%3D%22width%3A%20100.0%25%3B%20height%3A%20100.0%25%3B%22%3E41013%20Frying%20Pan%20Shoals%2C%20NC%20%2841013%29%3C/div%3E%60%29%5B0%5D%3B%0A%20%20%20%20%20%20%20%20%20%20%20%20popup_429cd0b9852f47e58b883a96cf35726f.setContent%28html_e5d65631e28844d7abc7c218fe92a551%29%3B%0A%20%20%20%20%20%20%20%20%0A%0A%20%20%20%20%20%20%20%20circle_marker_1c70e491da1043b4bcce13dcdcd64d22.bindPopup%28popup_429cd0b9852f47e58b883a96cf35726f%29%0A%20%20%20%20%20%20%20%20%3B%0A%0A%20%20%20%20%20%20%20%20%0A%20%20%20%20%0A%20%20%20%20%0A%20%20%20%20%20%20%20%20%20%20%20%20var%20circle_marker_0dbda41c08cc479b97a3a0bb43a73abe%20%3D%20L.circleMarker%28%0A%20%20%20%20%20%20%20%20%20%20%20%20%20%20%20%20%5B35.01%2C%20-75.454%5D%2C%0A%20%20%20%20%20%20%20%20%20%20%20%20%20%20%20%20%7B%22bubblingMouseEvents%22%3A%20true%2C%20%22color%22%3A%20%22black%22%2C%20%22dashArray%22%3A%20null%2C%20%22dashOffset%22%3A%20null%2C%20%22fill%22%3A%20false%2C%20%22fillColor%22%3A%20%22black%22%2C%20%22fillOpacity%22%3A%200.2%2C%20%22fillRule%22%3A%20%22evenodd%22%2C%20%22lineCap%22%3A%20%22round%22%2C%20%22lineJoin%22%3A%20%22round%22%2C%20%22opacity%22%3A%201.0%2C%20%22radius%22%3A%201%2C%20%22stroke%22%3A%20true%2C%20%22weight%22%3A%205%7D%0A%20%20%20%20%20%20%20%20%20%20%20%20%29.addTo%28feature_group_7e6bcbe7ec454de6b165c5da6e9efc3d%29%3B%0A%20%20%20%20%20%20%20%20%0A%20%20%20%20%0A%20%20%20%20%20%20%20%20var%20popup_8fd6812275fc431e9802bf61ff0d4dfa%20%3D%20L.popup%28%7B%22maxWidth%22%3A%20%22100%25%22%7D%29%3B%0A%0A%20%20%20%20%20%20%20%20%0A%20%20%20%20%20%20%20%20%20%20%20%20var%20html_cfe92e3200b242259802c7431240177b%20%3D%20%24%28%60%3Cdiv%20id%3D%22html_cfe92e3200b242259802c7431240177b%22%20style%3D%22width%3A%20100.0%25%3B%20height%3A%20100.0%25%3B%22%3E41025%20Diamond%20Shoals%20%28Red%20Buoy%29%20%2841025%29%3C/div%3E%60%29%5B0%5D%3B%0A%20%20%20%20%20%20%20%20%20%20%20%20popup_8fd6812275fc431e9802bf61ff0d4dfa.setContent%28html_cfe92e3200b242259802c7431240177b%29%3B%0A%20%20%20%20%20%20%20%20%0A%0A%20%20%20%20%20%20%20%20circle_marker_0dbda41c08cc479b97a3a0bb43a73abe.bindPopup%28popup_8fd6812275fc431e9802bf61ff0d4dfa%29%0A%20%20%20%20%20%20%20%20%3B%0A%0A%20%20%20%20%20%20%20%20%0A%20%20%20%20%0A%20%20%20%20%0A%20%20%20%20%20%20%20%20%20%20%20%20var%20circle_marker_0f04c40d8576470abb44a2dbe33430fa%20%3D%20L.circleMarker%28%0A%20%20%20%20%20%20%20%20%20%20%20%20%20%20%20%20%5B14.554%2C%20-53.045%5D%2C%0A%20%20%20%20%20%20%20%20%20%20%20%20%20%20%20%20%7B%22bubblingMouseEvents%22%3A%20true%2C%20%22color%22%3A%20%22black%22%2C%20%22dashArray%22%3A%20null%2C%20%22dashOffset%22%3A%20null%2C%20%22fill%22%3A%20false%2C%20%22fillColor%22%3A%20%22black%22%2C%20%22fillOpacity%22%3A%200.2%2C%20%22fillRule%22%3A%20%22evenodd%22%2C%20%22lineCap%22%3A%20%22round%22%2C%20%22lineJoin%22%3A%20%22round%22%2C%20%22opacity%22%3A%201.0%2C%20%22radius%22%3A%201%2C%20%22stroke%22%3A%20true%2C%20%22weight%22%3A%205%7D%0A%20%20%20%20%20%20%20%20%20%20%20%20%29.addTo%28feature_group_7e6bcbe7ec454de6b165c5da6e9efc3d%29%3B%0A%20%20%20%20%20%20%20%20%0A%20%20%20%20%0A%20%20%20%20%20%20%20%20var%20popup_f06d9b6e7fc948dfb894e0d7230178c5%20%3D%20L.popup%28%7B%22maxWidth%22%3A%20%22100%25%22%7D%29%3B%0A%0A%20%20%20%20%20%20%20%20%0A%20%20%20%20%20%20%20%20%20%20%20%20var%20html_7944084f271845c4a65e1a986836545f%20%3D%20%24%28%60%3Cdiv%20id%3D%22html_7944084f271845c4a65e1a986836545f%22%20style%3D%22width%3A%20100.0%25%3B%20height%3A%20100.0%25%3B%22%3E41040%20West%20Atlantic%20%2841040%29%3C/div%3E%60%29%5B0%5D%3B%0A%20%20%20%20%20%20%20%20%20%20%20%20popup_f06d9b6e7fc948dfb894e0d7230178c5.setContent%28html_7944084f271845c4a65e1a986836545f%29%3B%0A%20%20%20%20%20%20%20%20%0A%0A%20%20%20%20%20%20%20%20circle_marker_0f04c40d8576470abb44a2dbe33430fa.bindPopup%28popup_f06d9b6e7fc948dfb894e0d7230178c5%29%0A%20%20%20%20%20%20%20%20%3B%0A%0A%20%20%20%20%20%20%20%20%0A%20%20%20%20%0A%20%20%20%20%0A%20%20%20%20%20%20%20%20%20%20%20%20var%20circle_marker_0479ab1354cb4c80baaa9b15ce5ea44a%20%3D%20L.circleMarker%28%0A%20%20%20%20%20%20%20%20%20%20%20%20%20%20%20%20%5B14.453%2C%20-46.327%5D%2C%0A%20%20%20%20%20%20%20%20%20%20%20%20%20%20%20%20%7B%22bubblingMouseEvents%22%3A%20true%2C%20%22color%22%3A%20%22black%22%2C%20%22dashArray%22%3A%20null%2C%20%22dashOffset%22%3A%20null%2C%20%22fill%22%3A%20false%2C%20%22fillColor%22%3A%20%22black%22%2C%20%22fillOpacity%22%3A%200.2%2C%20%22fillRule%22%3A%20%22evenodd%22%2C%20%22lineCap%22%3A%20%22round%22%2C%20%22lineJoin%22%3A%20%22round%22%2C%20%22opacity%22%3A%201.0%2C%20%22radius%22%3A%201%2C%20%22stroke%22%3A%20true%2C%20%22weight%22%3A%205%7D%0A%20%20%20%20%20%20%20%20%20%20%20%20%29.addTo%28feature_group_7e6bcbe7ec454de6b165c5da6e9efc3d%29%3B%0A%20%20%20%20%20%20%20%20%0A%20%20%20%20%0A%20%20%20%20%20%20%20%20var%20popup_467003df9ac347798ecd819acf29c80b%20%3D%20L.popup%28%7B%22maxWidth%22%3A%20%22100%25%22%7D%29%3B%0A%0A%20%20%20%20%20%20%20%20%0A%20%20%20%20%20%20%20%20%20%20%20%20var%20html_51327a5802964e909fe87a47ddd70c95%20%3D%20%24%28%60%3Cdiv%20id%3D%22html_51327a5802964e909fe87a47ddd70c95%22%20style%3D%22width%3A%20100.0%25%3B%20height%3A%20100.0%25%3B%22%3E41041%20Middle%20Atlantic%20%2841041%29%3C/div%3E%60%29%5B0%5D%3B%0A%20%20%20%20%20%20%20%20%20%20%20%20popup_467003df9ac347798ecd819acf29c80b.setContent%28html_51327a5802964e909fe87a47ddd70c95%29%3B%0A%20%20%20%20%20%20%20%20%0A%0A%20%20%20%20%20%20%20%20circle_marker_0479ab1354cb4c80baaa9b15ce5ea44a.bindPopup%28popup_467003df9ac347798ecd819acf29c80b%29%0A%20%20%20%20%20%20%20%20%3B%0A%0A%20%20%20%20%20%20%20%20%0A%20%20%20%20%0A%20%20%20%20%0A%20%20%20%20%20%20%20%20%20%20%20%20var%20circle_marker_cc2b7853e53647099bd2547d20b97ff3%20%3D%20L.circleMarker%28%0A%20%20%20%20%20%20%20%20%20%20%20%20%20%20%20%20%5B21.03%2C%20-64.79%5D%2C%0A%20%20%20%20%20%20%20%20%20%20%20%20%20%20%20%20%7B%22bubblingMouseEvents%22%3A%20true%2C%20%22color%22%3A%20%22black%22%2C%20%22dashArray%22%3A%20null%2C%20%22dashOffset%22%3A%20null%2C%20%22fill%22%3A%20false%2C%20%22fillColor%22%3A%20%22black%22%2C%20%22fillOpacity%22%3A%200.2%2C%20%22fillRule%22%3A%20%22evenodd%22%2C%20%22lineCap%22%3A%20%22round%22%2C%20%22lineJoin%22%3A%20%22round%22%2C%20%22opacity%22%3A%201.0%2C%20%22radius%22%3A%201%2C%20%22stroke%22%3A%20true%2C%20%22weight%22%3A%205%7D%0A%20%20%20%20%20%20%20%20%20%20%20%20%29.addTo%28feature_group_7e6bcbe7ec454de6b165c5da6e9efc3d%29%3B%0A%20%20%20%20%20%20%20%20%0A%20%20%20%20%0A%20%20%20%20%20%20%20%20var%20popup_ef1a7ed3890f475caca404633dac518b%20%3D%20L.popup%28%7B%22maxWidth%22%3A%20%22100%25%22%7D%29%3B%0A%0A%20%20%20%20%20%20%20%20%0A%20%20%20%20%20%20%20%20%20%20%20%20var%20html_4c5af7cfa8b84f2a9c07a292bb3c328f%20%3D%20%24%28%60%3Cdiv%20id%3D%22html_4c5af7cfa8b84f2a9c07a292bb3c328f%22%20style%3D%22width%3A%20100.0%25%3B%20height%3A%20100.0%25%3B%22%3E41043%20South%20Western%20Atlantic%20%2841043%29%3C/div%3E%60%29%5B0%5D%3B%0A%20%20%20%20%20%20%20%20%20%20%20%20popup_ef1a7ed3890f475caca404633dac518b.setContent%28html_4c5af7cfa8b84f2a9c07a292bb3c328f%29%3B%0A%20%20%20%20%20%20%20%20%0A%0A%20%20%20%20%20%20%20%20circle_marker_cc2b7853e53647099bd2547d20b97ff3.bindPopup%28popup_ef1a7ed3890f475caca404633dac518b%29%0A%20%20%20%20%20%20%20%20%3B%0A%0A%20%20%20%20%20%20%20%20%0A%20%20%20%20%0A%20%20%20%20%0A%20%20%20%20%20%20%20%20%20%20%20%20var%20circle_marker_496979c5d8ce494f832d8b57abf64a4d%20%3D%20L.circleMarker%28%0A%20%20%20%20%20%20%20%20%20%20%20%20%20%20%20%20%5B21.582%2C%20-58.63%5D%2C%0A%20%20%20%20%20%20%20%20%20%20%20%20%20%20%20%20%7B%22bubblingMouseEvents%22%3A%20true%2C%20%22color%22%3A%20%22black%22%2C%20%22dashArray%22%3A%20null%2C%20%22dashOffset%22%3A%20null%2C%20%22fill%22%3A%20false%2C%20%22fillColor%22%3A%20%22black%22%2C%20%22fillOpacity%22%3A%200.2%2C%20%22fillRule%22%3A%20%22evenodd%22%2C%20%22lineCap%22%3A%20%22round%22%2C%20%22lineJoin%22%3A%20%22round%22%2C%20%22opacity%22%3A%201.0%2C%20%22radius%22%3A%201%2C%20%22stroke%22%3A%20true%2C%20%22weight%22%3A%205%7D%0A%20%20%20%20%20%20%20%20%20%20%20%20%29.addTo%28feature_group_7e6bcbe7ec454de6b165c5da6e9efc3d%29%3B%0A%20%20%20%20%20%20%20%20%0A%20%20%20%20%0A%20%20%20%20%20%20%20%20var%20popup_8cd5623f3825401fa9ebfae9d3d16aaa%20%3D%20L.popup%28%7B%22maxWidth%22%3A%20%22100%25%22%7D%29%3B%0A%0A%20%20%20%20%20%20%20%20%0A%20%20%20%20%20%20%20%20%20%20%20%20var%20html_872ca3e2e87c41e2b8854fac132ae2ef%20%3D%20%24%28%60%3Cdiv%20id%3D%22html_872ca3e2e87c41e2b8854fac132ae2ef%22%20style%3D%22width%3A%20100.0%25%3B%20height%3A%20100.0%25%3B%22%3E41044%20Atlantic%20South%20%2841044%29%3C/div%3E%60%29%5B0%5D%3B%0A%20%20%20%20%20%20%20%20%20%20%20%20popup_8cd5623f3825401fa9ebfae9d3d16aaa.setContent%28html_872ca3e2e87c41e2b8854fac132ae2ef%29%3B%0A%20%20%20%20%20%20%20%20%0A%0A%20%20%20%20%20%20%20%20circle_marker_496979c5d8ce494f832d8b57abf64a4d.bindPopup%28popup_8cd5623f3825401fa9ebfae9d3d16aaa%29%0A%20%20%20%20%20%20%20%20%3B%0A%0A%20%20%20%20%20%20%20%20%0A%20%20%20%20%0A%20%20%20%20%0A%20%20%20%20%20%20%20%20%20%20%20%20var%20circle_marker_9e8a033126cc4bd7b51a52198eb31772%20%3D%20L.circleMarker%28%0A%20%20%20%20%20%20%20%20%20%20%20%20%20%20%20%20%5B23.822%2C%20-68.384%5D%2C%0A%20%20%20%20%20%20%20%20%20%20%20%20%20%20%20%20%7B%22bubblingMouseEvents%22%3A%20true%2C%20%22color%22%3A%20%22black%22%2C%20%22dashArray%22%3A%20null%2C%20%22dashOffset%22%3A%20null%2C%20%22fill%22%3A%20false%2C%20%22fillColor%22%3A%20%22black%22%2C%20%22fillOpacity%22%3A%200.2%2C%20%22fillRule%22%3A%20%22evenodd%22%2C%20%22lineCap%22%3A%20%22round%22%2C%20%22lineJoin%22%3A%20%22round%22%2C%20%22opacity%22%3A%201.0%2C%20%22radius%22%3A%201%2C%20%22stroke%22%3A%20true%2C%20%22weight%22%3A%205%7D%0A%20%20%20%20%20%20%20%20%20%20%20%20%29.addTo%28feature_group_7e6bcbe7ec454de6b165c5da6e9efc3d%29%3B%0A%20%20%20%20%20%20%20%20%0A%20%20%20%20%0A%20%20%20%20%20%20%20%20var%20popup_25052757e9504ed285a3c698c89f5071%20%3D%20L.popup%28%7B%22maxWidth%22%3A%20%22100%25%22%7D%29%3B%0A%0A%20%20%20%20%20%20%20%20%0A%20%20%20%20%20%20%20%20%20%20%20%20var%20html_1d45b4d5f10247369bd3ca46c4295746%20%3D%20%24%28%60%3Cdiv%20id%3D%22html_1d45b4d5f10247369bd3ca46c4295746%22%20style%3D%22width%3A%20100.0%25%3B%20height%3A%20100.0%25%3B%22%3E41046%20E%20Bahamas%20%2841046%29%3C/div%3E%60%29%5B0%5D%3B%0A%20%20%20%20%20%20%20%20%20%20%20%20popup_25052757e9504ed285a3c698c89f5071.setContent%28html_1d45b4d5f10247369bd3ca46c4295746%29%3B%0A%20%20%20%20%20%20%20%20%0A%0A%20%20%20%20%20%20%20%20circle_marker_9e8a033126cc4bd7b51a52198eb31772.bindPopup%28popup_25052757e9504ed285a3c698c89f5071%29%0A%20%20%20%20%20%20%20%20%3B%0A%0A%20%20%20%20%20%20%20%20%0A%20%20%20%20%0A%20%20%20%20%0A%20%20%20%20%20%20%20%20%20%20%20%20var%20circle_marker_0b938fcc09dc498c8763a2dade98690d%20%3D%20L.circleMarker%28%0A%20%20%20%20%20%20%20%20%20%20%20%20%20%20%20%20%5B27.463%2C%20-71.466%5D%2C%0A%20%20%20%20%20%20%20%20%20%20%20%20%20%20%20%20%7B%22bubblingMouseEvents%22%3A%20true%2C%20%22color%22%3A%20%22black%22%2C%20%22dashArray%22%3A%20null%2C%20%22dashOffset%22%3A%20null%2C%20%22fill%22%3A%20false%2C%20%22fillColor%22%3A%20%22black%22%2C%20%22fillOpacity%22%3A%200.2%2C%20%22fillRule%22%3A%20%22evenodd%22%2C%20%22lineCap%22%3A%20%22round%22%2C%20%22lineJoin%22%3A%20%22round%22%2C%20%22opacity%22%3A%201.0%2C%20%22radius%22%3A%201%2C%20%22stroke%22%3A%20true%2C%20%22weight%22%3A%205%7D%0A%20%20%20%20%20%20%20%20%20%20%20%20%29.addTo%28feature_group_7e6bcbe7ec454de6b165c5da6e9efc3d%29%3B%0A%20%20%20%20%20%20%20%20%0A%20%20%20%20%0A%20%20%20%20%20%20%20%20var%20popup_63476e586c1a4f4eb7b33e03fe0c35ea%20%3D%20L.popup%28%7B%22maxWidth%22%3A%20%22100%25%22%7D%29%3B%0A%0A%20%20%20%20%20%20%20%20%0A%20%20%20%20%20%20%20%20%20%20%20%20var%20html_51d56e01adea4a1197ddeaa5e0080149%20%3D%20%24%28%60%3Cdiv%20id%3D%22html_51d56e01adea4a1197ddeaa5e0080149%22%20style%3D%22width%3A%20100.0%25%3B%20height%3A%20100.0%25%3B%22%3E41047%20NE%20Bahamas%20%2841047%29%3C/div%3E%60%29%5B0%5D%3B%0A%20%20%20%20%20%20%20%20%20%20%20%20popup_63476e586c1a4f4eb7b33e03fe0c35ea.setContent%28html_51d56e01adea4a1197ddeaa5e0080149%29%3B%0A%20%20%20%20%20%20%20%20%0A%0A%20%20%20%20%20%20%20%20circle_marker_0b938fcc09dc498c8763a2dade98690d.bindPopup%28popup_63476e586c1a4f4eb7b33e03fe0c35ea%29%0A%20%20%20%20%20%20%20%20%3B%0A%0A%20%20%20%20%20%20%20%20%0A%20%20%20%20%0A%20%20%20%20%0A%20%20%20%20%20%20%20%20%20%20%20%20var%20circle_marker_6b59f67037394dc8af1fc80aa5d38978%20%3D%20L.circleMarker%28%0A%20%20%20%20%20%20%20%20%20%20%20%20%20%20%20%20%5B31.831%2C%20-69.573%5D%2C%0A%20%20%20%20%20%20%20%20%20%20%20%20%20%20%20%20%7B%22bubblingMouseEvents%22%3A%20true%2C%20%22color%22%3A%20%22black%22%2C%20%22dashArray%22%3A%20null%2C%20%22dashOffset%22%3A%20null%2C%20%22fill%22%3A%20false%2C%20%22fillColor%22%3A%20%22black%22%2C%20%22fillOpacity%22%3A%200.2%2C%20%22fillRule%22%3A%20%22evenodd%22%2C%20%22lineCap%22%3A%20%22round%22%2C%20%22lineJoin%22%3A%20%22round%22%2C%20%22opacity%22%3A%201.0%2C%20%22radius%22%3A%201%2C%20%22stroke%22%3A%20true%2C%20%22weight%22%3A%205%7D%0A%20%20%20%20%20%20%20%20%20%20%20%20%29.addTo%28feature_group_7e6bcbe7ec454de6b165c5da6e9efc3d%29%3B%0A%20%20%20%20%20%20%20%20%0A%20%20%20%20%0A%20%20%20%20%20%20%20%20var%20popup_1bd780f3c54a431480b0431c641903b0%20%3D%20L.popup%28%7B%22maxWidth%22%3A%20%22100%25%22%7D%29%3B%0A%0A%20%20%20%20%20%20%20%20%0A%20%20%20%20%20%20%20%20%20%20%20%20var%20html_d17e51c311d44a0ba90249c8808e3f1d%20%3D%20%24%28%60%3Cdiv%20id%3D%22html_d17e51c311d44a0ba90249c8808e3f1d%22%20style%3D%22width%3A%20100.0%25%3B%20height%3A%20100.0%25%3B%22%3E41048%20W%20Bermuda%20%2841048%29%3C/div%3E%60%29%5B0%5D%3B%0A%20%20%20%20%20%20%20%20%20%20%20%20popup_1bd780f3c54a431480b0431c641903b0.setContent%28html_d17e51c311d44a0ba90249c8808e3f1d%29%3B%0A%20%20%20%20%20%20%20%20%0A%0A%20%20%20%20%20%20%20%20circle_marker_6b59f67037394dc8af1fc80aa5d38978.bindPopup%28popup_1bd780f3c54a431480b0431c641903b0%29%0A%20%20%20%20%20%20%20%20%3B%0A%0A%20%20%20%20%20%20%20%20%0A%20%20%20%20%0A%20%20%20%20%0A%20%20%20%20%20%20%20%20%20%20%20%20var%20circle_marker_771fd95655084f33b63d29116781a929%20%3D%20L.circleMarker%28%0A%20%20%20%20%20%20%20%20%20%20%20%20%20%20%20%20%5B27.49%2C%20-62.938%5D%2C%0A%20%20%20%20%20%20%20%20%20%20%20%20%20%20%20%20%7B%22bubblingMouseEvents%22%3A%20true%2C%20%22color%22%3A%20%22black%22%2C%20%22dashArray%22%3A%20null%2C%20%22dashOffset%22%3A%20null%2C%20%22fill%22%3A%20false%2C%20%22fillColor%22%3A%20%22black%22%2C%20%22fillOpacity%22%3A%200.2%2C%20%22fillRule%22%3A%20%22evenodd%22%2C%20%22lineCap%22%3A%20%22round%22%2C%20%22lineJoin%22%3A%20%22round%22%2C%20%22opacity%22%3A%201.0%2C%20%22radius%22%3A%201%2C%20%22stroke%22%3A%20true%2C%20%22weight%22%3A%205%7D%0A%20%20%20%20%20%20%20%20%20%20%20%20%29.addTo%28feature_group_7e6bcbe7ec454de6b165c5da6e9efc3d%29%3B%0A%20%20%20%20%20%20%20%20%0A%20%20%20%20%0A%20%20%20%20%20%20%20%20var%20popup_5da876d9ea7f4f1d9428339d8081c5d5%20%3D%20L.popup%28%7B%22maxWidth%22%3A%20%22100%25%22%7D%29%3B%0A%0A%20%20%20%20%20%20%20%20%0A%20%20%20%20%20%20%20%20%20%20%20%20var%20html_29b821d3539b43cd951644b97d424da5%20%3D%20%24%28%60%3Cdiv%20id%3D%22html_29b821d3539b43cd951644b97d424da5%22%20style%3D%22width%3A%20100.0%25%3B%20height%3A%20100.0%25%3B%22%3ESouth%20%2841049%29%3C/div%3E%60%29%5B0%5D%3B%0A%20%20%20%20%20%20%20%20%20%20%20%20popup_5da876d9ea7f4f1d9428339d8081c5d5.setContent%28html_29b821d3539b43cd951644b97d424da5%29%3B%0A%20%20%20%20%20%20%20%20%0A%0A%20%20%20%20%20%20%20%20circle_marker_771fd95655084f33b63d29116781a929.bindPopup%28popup_5da876d9ea7f4f1d9428339d8081c5d5%29%0A%20%20%20%20%20%20%20%20%3B%0A%0A%20%20%20%20%20%20%20%20%0A%20%20%20%20%0A%20%20%20%20%0A%20%20%20%20%20%20%20%20%20%20%20%20var%20circle_marker_5c87a3898425421d9548a79292b3cb00%20%3D%20L.circleMarker%28%0A%20%20%20%20%20%20%20%20%20%20%20%20%20%20%20%20%5B25.942%2C%20-89.657%5D%2C%0A%20%20%20%20%20%20%20%20%20%20%20%20%20%20%20%20%7B%22bubblingMouseEvents%22%3A%20true%2C%20%22color%22%3A%20%22black%22%2C%20%22dashArray%22%3A%20null%2C%20%22dashOffset%22%3A%20null%2C%20%22fill%22%3A%20false%2C%20%22fillColor%22%3A%20%22black%22%2C%20%22fillOpacity%22%3A%200.2%2C%20%22fillRule%22%3A%20%22evenodd%22%2C%20%22lineCap%22%3A%20%22round%22%2C%20%22lineJoin%22%3A%20%22round%22%2C%20%22opacity%22%3A%201.0%2C%20%22radius%22%3A%201%2C%20%22stroke%22%3A%20true%2C%20%22weight%22%3A%205%7D%0A%20%20%20%20%20%20%20%20%20%20%20%20%29.addTo%28feature_group_7e6bcbe7ec454de6b165c5da6e9efc3d%29%3B%0A%20%20%20%20%20%20%20%20%0A%20%20%20%20%0A%20%20%20%20%20%20%20%20var%20popup_377b3cae9ffc4c12923fa766eeb94a6d%20%3D%20L.popup%28%7B%22maxWidth%22%3A%20%22100%25%22%7D%29%3B%0A%0A%20%20%20%20%20%20%20%20%0A%20%20%20%20%20%20%20%20%20%20%20%20var%20html_f99afa5a68174db28c77536a63e3333a%20%3D%20%24%28%60%3Cdiv%20id%3D%22html_f99afa5a68174db28c77536a63e3333a%22%20style%3D%22width%3A%20100.0%25%3B%20height%3A%20100.0%25%3B%22%3E42001%20MID%20GULF%20180%20nm%20South%20of%20Southwest%20Pass%2C%20LA.%20%2842001%29%3C/div%3E%60%29%5B0%5D%3B%0A%20%20%20%20%20%20%20%20%20%20%20%20popup_377b3cae9ffc4c12923fa766eeb94a6d.setContent%28html_f99afa5a68174db28c77536a63e3333a%29%3B%0A%20%20%20%20%20%20%20%20%0A%0A%20%20%20%20%20%20%20%20circle_marker_5c87a3898425421d9548a79292b3cb00.bindPopup%28popup_377b3cae9ffc4c12923fa766eeb94a6d%29%0A%20%20%20%20%20%20%20%20%3B%0A%0A%20%20%20%20%20%20%20%20%0A%20%20%20%20%0A%20%20%20%20%0A%20%20%20%20%20%20%20%20%20%20%20%20var%20circle_marker_ca9f5464ef5749448679f1470d7e2796%20%3D%20L.circleMarker%28%0A%20%20%20%20%20%20%20%20%20%20%20%20%20%20%20%20%5B26.055%2C%20-93.646%5D%2C%0A%20%20%20%20%20%20%20%20%20%20%20%20%20%20%20%20%7B%22bubblingMouseEvents%22%3A%20true%2C%20%22color%22%3A%20%22black%22%2C%20%22dashArray%22%3A%20null%2C%20%22dashOffset%22%3A%20null%2C%20%22fill%22%3A%20false%2C%20%22fillColor%22%3A%20%22black%22%2C%20%22fillOpacity%22%3A%200.2%2C%20%22fillRule%22%3A%20%22evenodd%22%2C%20%22lineCap%22%3A%20%22round%22%2C%20%22lineJoin%22%3A%20%22round%22%2C%20%22opacity%22%3A%201.0%2C%20%22radius%22%3A%201%2C%20%22stroke%22%3A%20true%2C%20%22weight%22%3A%205%7D%0A%20%20%20%20%20%20%20%20%20%20%20%20%29.addTo%28feature_group_7e6bcbe7ec454de6b165c5da6e9efc3d%29%3B%0A%20%20%20%20%20%20%20%20%0A%20%20%20%20%0A%20%20%20%20%20%20%20%20var%20popup_65abe6a299f64fc283f86e8a5ff87e7e%20%3D%20L.popup%28%7B%22maxWidth%22%3A%20%22100%25%22%7D%29%3B%0A%0A%20%20%20%20%20%20%20%20%0A%20%20%20%20%20%20%20%20%20%20%20%20var%20html_6858a31e29f54bf1abbb04500634a748%20%3D%20%24%28%60%3Cdiv%20id%3D%22html_6858a31e29f54bf1abbb04500634a748%22%20style%3D%22width%3A%20100.0%25%3B%20height%3A%20100.0%25%3B%22%3ESoutheast%20of%20Sabine%2C%20TX.%20%2842002%29%3C/div%3E%60%29%5B0%5D%3B%0A%20%20%20%20%20%20%20%20%20%20%20%20popup_65abe6a299f64fc283f86e8a5ff87e7e.setContent%28html_6858a31e29f54bf1abbb04500634a748%29%3B%0A%20%20%20%20%20%20%20%20%0A%0A%20%20%20%20%20%20%20%20circle_marker_ca9f5464ef5749448679f1470d7e2796.bindPopup%28popup_65abe6a299f64fc283f86e8a5ff87e7e%29%0A%20%20%20%20%20%20%20%20%3B%0A%0A%20%20%20%20%20%20%20%20%0A%20%20%20%20%0A%20%20%20%20%0A%20%20%20%20%20%20%20%20%20%20%20%20var%20circle_marker_a0caa92d7dc045848927c93b9a3f1e94%20%3D%20L.circleMarker%28%0A%20%20%20%20%20%20%20%20%20%20%20%20%20%20%20%20%5B25.925%2C%20-85.615%5D%2C%0A%20%20%20%20%20%20%20%20%20%20%20%20%20%20%20%20%7B%22bubblingMouseEvents%22%3A%20true%2C%20%22color%22%3A%20%22black%22%2C%20%22dashArray%22%3A%20null%2C%20%22dashOffset%22%3A%20null%2C%20%22fill%22%3A%20false%2C%20%22fillColor%22%3A%20%22black%22%2C%20%22fillOpacity%22%3A%200.2%2C%20%22fillRule%22%3A%20%22evenodd%22%2C%20%22lineCap%22%3A%20%22round%22%2C%20%22lineJoin%22%3A%20%22round%22%2C%20%22opacity%22%3A%201.0%2C%20%22radius%22%3A%201%2C%20%22stroke%22%3A%20true%2C%20%22weight%22%3A%205%7D%0A%20%20%20%20%20%20%20%20%20%20%20%20%29.addTo%28feature_group_7e6bcbe7ec454de6b165c5da6e9efc3d%29%3B%0A%20%20%20%20%20%20%20%20%0A%20%20%20%20%0A%20%20%20%20%20%20%20%20var%20popup_9671ad1eb8764f66bae142c3668498bb%20%3D%20L.popup%28%7B%22maxWidth%22%3A%20%22100%25%22%7D%29%3B%0A%0A%20%20%20%20%20%20%20%20%0A%20%20%20%20%20%20%20%20%20%20%20%20var%20html_cc9d8190cc9b420996636fad1f82069b%20%3D%20%24%28%60%3Cdiv%20id%3D%22html_cc9d8190cc9b420996636fad1f82069b%22%20style%3D%22width%3A%20100.0%25%3B%20height%3A%20100.0%25%3B%22%3E42003%20E%20GULF%20260%20nm%20South%20of%20Panama%20City%2C%20FL%20%2842003%29%3C/div%3E%60%29%5B0%5D%3B%0A%20%20%20%20%20%20%20%20%20%20%20%20popup_9671ad1eb8764f66bae142c3668498bb.setContent%28html_cc9d8190cc9b420996636fad1f82069b%29%3B%0A%20%20%20%20%20%20%20%20%0A%0A%20%20%20%20%20%20%20%20circle_marker_a0caa92d7dc045848927c93b9a3f1e94.bindPopup%28popup_9671ad1eb8764f66bae142c3668498bb%29%0A%20%20%20%20%20%20%20%20%3B%0A%0A%20%20%20%20%20%20%20%20%0A%20%20%20%20%0A%20%20%20%20%0A%20%20%20%20%20%20%20%20%20%20%20%20var%20circle_marker_1a6a0731e4924a1db60c986908233302%20%3D%20L.circleMarker%28%0A%20%20%20%20%20%20%20%20%20%20%20%20%20%20%20%20%5B30.06%2C%20-87.548%5D%2C%0A%20%20%20%20%20%20%20%20%20%20%20%20%20%20%20%20%7B%22bubblingMouseEvents%22%3A%20true%2C%20%22color%22%3A%20%22black%22%2C%20%22dashArray%22%3A%20null%2C%20%22dashOffset%22%3A%20null%2C%20%22fill%22%3A%20false%2C%20%22fillColor%22%3A%20%22black%22%2C%20%22fillOpacity%22%3A%200.2%2C%20%22fillRule%22%3A%20%22evenodd%22%2C%20%22lineCap%22%3A%20%22round%22%2C%20%22lineJoin%22%3A%20%22round%22%2C%20%22opacity%22%3A%201.0%2C%20%22radius%22%3A%201%2C%20%22stroke%22%3A%20true%2C%20%22weight%22%3A%205%7D%0A%20%20%20%20%20%20%20%20%20%20%20%20%29.addTo%28feature_group_7e6bcbe7ec454de6b165c5da6e9efc3d%29%3B%0A%20%20%20%20%20%20%20%20%0A%20%20%20%20%0A%20%20%20%20%20%20%20%20var%20popup_deb60492c6f740849d2ee42e9e28d6f5%20%3D%20L.popup%28%7B%22maxWidth%22%3A%20%22100%25%22%7D%29%3B%0A%0A%20%20%20%20%20%20%20%20%0A%20%20%20%20%20%20%20%20%20%20%20%20var%20html_0188bf336f6f467bb79cb0e06d228073%20%3D%20%24%28%60%3Cdiv%20id%3D%22html_0188bf336f6f467bb79cb0e06d228073%22%20style%3D%22width%3A%20100.0%25%3B%20height%3A%20100.0%25%3B%22%3E42012%20GULF%20OF%20MEXICO%20%2842012%29%3C/div%3E%60%29%5B0%5D%3B%0A%20%20%20%20%20%20%20%20%20%20%20%20popup_deb60492c6f740849d2ee42e9e28d6f5.setContent%28html_0188bf336f6f467bb79cb0e06d228073%29%3B%0A%20%20%20%20%20%20%20%20%0A%0A%20%20%20%20%20%20%20%20circle_marker_1a6a0731e4924a1db60c986908233302.bindPopup%28popup_deb60492c6f740849d2ee42e9e28d6f5%29%0A%20%20%20%20%20%20%20%20%3B%0A%0A%20%20%20%20%20%20%20%20%0A%20%20%20%20%0A%20%20%20%20%0A%20%20%20%20%20%20%20%20%20%20%20%20var%20circle_marker_8019cebd54da4a378c6bd5f0d3258a68%20%3D%20L.circleMarker%28%0A%20%20%20%20%20%20%20%20%20%20%20%20%20%20%20%20%5B27.91%2C%20-95.345%5D%2C%0A%20%20%20%20%20%20%20%20%20%20%20%20%20%20%20%20%7B%22bubblingMouseEvents%22%3A%20true%2C%20%22color%22%3A%20%22black%22%2C%20%22dashArray%22%3A%20null%2C%20%22dashOffset%22%3A%20null%2C%20%22fill%22%3A%20false%2C%20%22fillColor%22%3A%20%22black%22%2C%20%22fillOpacity%22%3A%200.2%2C%20%22fillRule%22%3A%20%22evenodd%22%2C%20%22lineCap%22%3A%20%22round%22%2C%20%22lineJoin%22%3A%20%22round%22%2C%20%22opacity%22%3A%201.0%2C%20%22radius%22%3A%201%2C%20%22stroke%22%3A%20true%2C%20%22weight%22%3A%205%7D%0A%20%20%20%20%20%20%20%20%20%20%20%20%29.addTo%28feature_group_7e6bcbe7ec454de6b165c5da6e9efc3d%29%3B%0A%20%20%20%20%20%20%20%20%0A%20%20%20%20%0A%20%20%20%20%20%20%20%20var%20popup_6b14f799b5d448ba87fec0dc88618f1f%20%3D%20L.popup%28%7B%22maxWidth%22%3A%20%22100%25%22%7D%29%3B%0A%0A%20%20%20%20%20%20%20%20%0A%20%20%20%20%20%20%20%20%20%20%20%20var%20html_84518cd62d9b42dda6d97286de8c3812%20%3D%20%24%28%60%3Cdiv%20id%3D%22html_84518cd62d9b42dda6d97286de8c3812%22%20style%3D%22width%3A%20100.0%25%3B%20height%3A%20100.0%25%3B%22%3E42019%20Freeport%2C%20TX.%2060%20NM%20South%20of%20Freeport%2C%20TX.%20%2842019%29%3C/div%3E%60%29%5B0%5D%3B%0A%20%20%20%20%20%20%20%20%20%20%20%20popup_6b14f799b5d448ba87fec0dc88618f1f.setContent%28html_84518cd62d9b42dda6d97286de8c3812%29%3B%0A%20%20%20%20%20%20%20%20%0A%0A%20%20%20%20%20%20%20%20circle_marker_8019cebd54da4a378c6bd5f0d3258a68.bindPopup%28popup_6b14f799b5d448ba87fec0dc88618f1f%29%0A%20%20%20%20%20%20%20%20%3B%0A%0A%20%20%20%20%20%20%20%20%0A%20%20%20%20%0A%20%20%20%20%0A%20%20%20%20%20%20%20%20%20%20%20%20var%20circle_marker_8a54bb20e0fd459a90d1d3cb8451670f%20%3D%20L.circleMarker%28%0A%20%20%20%20%20%20%20%20%20%20%20%20%20%20%20%20%5B26.968%2C%20-96.693%5D%2C%0A%20%20%20%20%20%20%20%20%20%20%20%20%20%20%20%20%7B%22bubblingMouseEvents%22%3A%20true%2C%20%22color%22%3A%20%22black%22%2C%20%22dashArray%22%3A%20null%2C%20%22dashOffset%22%3A%20null%2C%20%22fill%22%3A%20false%2C%20%22fillColor%22%3A%20%22black%22%2C%20%22fillOpacity%22%3A%200.2%2C%20%22fillRule%22%3A%20%22evenodd%22%2C%20%22lineCap%22%3A%20%22round%22%2C%20%22lineJoin%22%3A%20%22round%22%2C%20%22opacity%22%3A%201.0%2C%20%22radius%22%3A%201%2C%20%22stroke%22%3A%20true%2C%20%22weight%22%3A%205%7D%0A%20%20%20%20%20%20%20%20%20%20%20%20%29.addTo%28feature_group_7e6bcbe7ec454de6b165c5da6e9efc3d%29%3B%0A%20%20%20%20%20%20%20%20%0A%20%20%20%20%0A%20%20%20%20%20%20%20%20var%20popup_e1ee0f8a4f1c43f8a5431f6e0ef3796d%20%3D%20L.popup%28%7B%22maxWidth%22%3A%20%22100%25%22%7D%29%3B%0A%0A%20%20%20%20%20%20%20%20%0A%20%20%20%20%20%20%20%20%20%20%20%20var%20html_c4a9e2383f8943fba33957bc1f88903f%20%3D%20%24%28%60%3Cdiv%20id%3D%22html_c4a9e2383f8943fba33957bc1f88903f%22%20style%3D%22width%3A%20100.0%25%3B%20height%3A%20100.0%25%3B%22%3E42020%20Corpus%20Christi%2C%20TX.%2050NM%20Southeast%20of%20Corpus%20Christi%2C%20TX.%20%2842020%29%3C/div%3E%60%29%5B0%5D%3B%0A%20%20%20%20%20%20%20%20%20%20%20%20popup_e1ee0f8a4f1c43f8a5431f6e0ef3796d.setContent%28html_c4a9e2383f8943fba33957bc1f88903f%29%3B%0A%20%20%20%20%20%20%20%20%0A%0A%20%20%20%20%20%20%20%20circle_marker_8a54bb20e0fd459a90d1d3cb8451670f.bindPopup%28popup_e1ee0f8a4f1c43f8a5431f6e0ef3796d%29%0A%20%20%20%20%20%20%20%20%3B%0A%0A%20%20%20%20%20%20%20%20%0A%20%20%20%20%0A%20%20%20%20%0A%20%20%20%20%20%20%20%20%20%20%20%20var%20circle_marker_9b5a60dafdf74b28a860c7addb77913c%20%3D%20L.circleMarker%28%0A%20%20%20%20%20%20%20%20%20%20%20%20%20%20%20%20%5B29.232%2C%20-94.413%5D%2C%0A%20%20%20%20%20%20%20%20%20%20%20%20%20%20%20%20%7B%22bubblingMouseEvents%22%3A%20true%2C%20%22color%22%3A%20%22black%22%2C%20%22dashArray%22%3A%20null%2C%20%22dashOffset%22%3A%20null%2C%20%22fill%22%3A%20false%2C%20%22fillColor%22%3A%20%22black%22%2C%20%22fillOpacity%22%3A%200.2%2C%20%22fillRule%22%3A%20%22evenodd%22%2C%20%22lineCap%22%3A%20%22round%22%2C%20%22lineJoin%22%3A%20%22round%22%2C%20%22opacity%22%3A%201.0%2C%20%22radius%22%3A%201%2C%20%22stroke%22%3A%20true%2C%20%22weight%22%3A%205%7D%0A%20%20%20%20%20%20%20%20%20%20%20%20%29.addTo%28feature_group_7e6bcbe7ec454de6b165c5da6e9efc3d%29%3B%0A%20%20%20%20%20%20%20%20%0A%20%20%20%20%0A%20%20%20%20%20%20%20%20var%20popup_581d4a7f2abf4b89876425bb0e385faa%20%3D%20L.popup%28%7B%22maxWidth%22%3A%20%22100%25%22%7D%29%3B%0A%0A%20%20%20%20%20%20%20%20%0A%20%20%20%20%20%20%20%20%20%20%20%20var%20html_4d05482d4cff4e28bc4167b88712cdb8%20%3D%20%24%28%60%3Cdiv%20id%3D%22html_4d05482d4cff4e28bc4167b88712cdb8%22%20style%3D%22width%3A%20100.0%25%3B%20height%3A%20100.0%25%3B%22%3E42035%20GALVESTON%20%2022NM%20East%20of%20Galveston%2C%20TX.%20%2842035%29%3C/div%3E%60%29%5B0%5D%3B%0A%20%20%20%20%20%20%20%20%20%20%20%20popup_581d4a7f2abf4b89876425bb0e385faa.setContent%28html_4d05482d4cff4e28bc4167b88712cdb8%29%3B%0A%20%20%20%20%20%20%20%20%0A%0A%20%20%20%20%20%20%20%20circle_marker_9b5a60dafdf74b28a860c7addb77913c.bindPopup%28popup_581d4a7f2abf4b89876425bb0e385faa%29%0A%20%20%20%20%20%20%20%20%3B%0A%0A%20%20%20%20%20%20%20%20%0A%20%20%20%20%0A%20%20%20%20%0A%20%20%20%20%20%20%20%20%20%20%20%20var%20circle_marker_6d2e679e438b4358acda54eaf4777396%20%3D%20L.circleMarker%28%0A%20%20%20%20%20%20%20%20%20%20%20%20%20%20%20%20%5B28.501%2C%20-84.508%5D%2C%0A%20%20%20%20%20%20%20%20%20%20%20%20%20%20%20%20%7B%22bubblingMouseEvents%22%3A%20true%2C%20%22color%22%3A%20%22black%22%2C%20%22dashArray%22%3A%20null%2C%20%22dashOffset%22%3A%20null%2C%20%22fill%22%3A%20false%2C%20%22fillColor%22%3A%20%22black%22%2C%20%22fillOpacity%22%3A%200.2%2C%20%22fillRule%22%3A%20%22evenodd%22%2C%20%22lineCap%22%3A%20%22round%22%2C%20%22lineJoin%22%3A%20%22round%22%2C%20%22opacity%22%3A%201.0%2C%20%22radius%22%3A%201%2C%20%22stroke%22%3A%20true%2C%20%22weight%22%3A%205%7D%0A%20%20%20%20%20%20%20%20%20%20%20%20%29.addTo%28feature_group_7e6bcbe7ec454de6b165c5da6e9efc3d%29%3B%0A%20%20%20%20%20%20%20%20%0A%20%20%20%20%0A%20%20%20%20%20%20%20%20var%20popup_3973959fa2b4490fb871668bed5c3b99%20%3D%20L.popup%28%7B%22maxWidth%22%3A%20%22100%25%22%7D%29%3B%0A%0A%20%20%20%20%20%20%20%20%0A%20%20%20%20%20%20%20%20%20%20%20%20var%20html_2d798c3c4f814879ac8616e3fded020e%20%3D%20%24%28%60%3Cdiv%20id%3D%22html_2d798c3c4f814879ac8616e3fded020e%22%20style%3D%22width%3A%20100.0%25%3B%20height%3A%20100.0%25%3B%22%3E42036%20W.%20TAMPA%20%20106NM%20West%20Northwest%20of%20Tampa%2C%20FL%20%2842036%29%3C/div%3E%60%29%5B0%5D%3B%0A%20%20%20%20%20%20%20%20%20%20%20%20popup_3973959fa2b4490fb871668bed5c3b99.setContent%28html_2d798c3c4f814879ac8616e3fded020e%29%3B%0A%20%20%20%20%20%20%20%20%0A%0A%20%20%20%20%20%20%20%20circle_marker_6d2e679e438b4358acda54eaf4777396.bindPopup%28popup_3973959fa2b4490fb871668bed5c3b99%29%0A%20%20%20%20%20%20%20%20%3B%0A%0A%20%20%20%20%20%20%20%20%0A%20%20%20%20%0A%20%20%20%20%0A%20%20%20%20%20%20%20%20%20%20%20%20var%20circle_marker_dc5aa938ef5040809f27d4a144b5a635%20%3D%20L.circleMarker%28%0A%20%20%20%20%20%20%20%20%20%20%20%20%20%20%20%20%5B28.787%2C%20-86.007%5D%2C%0A%20%20%20%20%20%20%20%20%20%20%20%20%20%20%20%20%7B%22bubblingMouseEvents%22%3A%20true%2C%20%22color%22%3A%20%22black%22%2C%20%22dashArray%22%3A%20null%2C%20%22dashOffset%22%3A%20null%2C%20%22fill%22%3A%20false%2C%20%22fillColor%22%3A%20%22black%22%2C%20%22fillOpacity%22%3A%200.2%2C%20%22fillRule%22%3A%20%22evenodd%22%2C%20%22lineCap%22%3A%20%22round%22%2C%20%22lineJoin%22%3A%20%22round%22%2C%20%22opacity%22%3A%201.0%2C%20%22radius%22%3A%201%2C%20%22stroke%22%3A%20true%2C%20%22weight%22%3A%205%7D%0A%20%20%20%20%20%20%20%20%20%20%20%20%29.addTo%28feature_group_7e6bcbe7ec454de6b165c5da6e9efc3d%29%3B%0A%20%20%20%20%20%20%20%20%0A%20%20%20%20%0A%20%20%20%20%20%20%20%20var%20popup_b387efcc24724272bfed19b0c6f47d10%20%3D%20L.popup%28%7B%22maxWidth%22%3A%20%22100%25%22%7D%29%3B%0A%0A%20%20%20%20%20%20%20%20%0A%20%20%20%20%20%20%20%20%20%20%20%20var%20html_fd5657ea47a74c52aef3b492a439e743%20%3D%20%24%28%60%3Cdiv%20id%3D%22html_fd5657ea47a74c52aef3b492a439e743%22%20style%3D%22width%3A%20100.0%25%3B%20height%3A%20100.0%25%3B%22%3E115NM%20East%20Southeast%20of%20Pensacola%2C%20FL%20%2842039%29%3C/div%3E%60%29%5B0%5D%3B%0A%20%20%20%20%20%20%20%20%20%20%20%20popup_b387efcc24724272bfed19b0c6f47d10.setContent%28html_fd5657ea47a74c52aef3b492a439e743%29%3B%0A%20%20%20%20%20%20%20%20%0A%0A%20%20%20%20%20%20%20%20circle_marker_dc5aa938ef5040809f27d4a144b5a635.bindPopup%28popup_b387efcc24724272bfed19b0c6f47d10%29%0A%20%20%20%20%20%20%20%20%3B%0A%0A%20%20%20%20%20%20%20%20%0A%20%20%20%20%0A%20%20%20%20%0A%20%20%20%20%20%20%20%20%20%20%20%20var%20circle_marker_87c303edd5314ea4aa16440ed09e1cb5%20%3D%20L.circleMarker%28%0A%20%20%20%20%20%20%20%20%20%20%20%20%20%20%20%20%5B29.207%2C%20-88.237%5D%2C%0A%20%20%20%20%20%20%20%20%20%20%20%20%20%20%20%20%7B%22bubblingMouseEvents%22%3A%20true%2C%20%22color%22%3A%20%22black%22%2C%20%22dashArray%22%3A%20null%2C%20%22dashOffset%22%3A%20null%2C%20%22fill%22%3A%20false%2C%20%22fillColor%22%3A%20%22black%22%2C%20%22fillOpacity%22%3A%200.2%2C%20%22fillRule%22%3A%20%22evenodd%22%2C%20%22lineCap%22%3A%20%22round%22%2C%20%22lineJoin%22%3A%20%22round%22%2C%20%22opacity%22%3A%201.0%2C%20%22radius%22%3A%201%2C%20%22stroke%22%3A%20true%2C%20%22weight%22%3A%205%7D%0A%20%20%20%20%20%20%20%20%20%20%20%20%29.addTo%28feature_group_7e6bcbe7ec454de6b165c5da6e9efc3d%29%3B%0A%20%20%20%20%20%20%20%20%0A%20%20%20%20%0A%20%20%20%20%20%20%20%20var%20popup_78379f7647e14f8ba2d825d3078cd7bf%20%3D%20L.popup%28%7B%22maxWidth%22%3A%20%22100%25%22%7D%29%3B%0A%0A%20%20%20%20%20%20%20%20%0A%20%20%20%20%20%20%20%20%20%20%20%20var%20html_7a4ef762ec954173834476e9753f6695%20%3D%20%24%28%60%3Cdiv%20id%3D%22html_7a4ef762ec954173834476e9753f6695%22%20style%3D%22width%3A%20100.0%25%3B%20height%3A%20100.0%25%3B%22%3E42040%20MOBILE%20SOUTH%2064%20nm%20South%20of%20Dauphin%20Island%2C%20AL%20%2842040%29%3C/div%3E%60%29%5B0%5D%3B%0A%20%20%20%20%20%20%20%20%20%20%20%20popup_78379f7647e14f8ba2d825d3078cd7bf.setContent%28html_7a4ef762ec954173834476e9753f6695%29%3B%0A%20%20%20%20%20%20%20%20%0A%0A%20%20%20%20%20%20%20%20circle_marker_87c303edd5314ea4aa16440ed09e1cb5.bindPopup%28popup_78379f7647e14f8ba2d825d3078cd7bf%29%0A%20%20%20%20%20%20%20%20%3B%0A%0A%20%20%20%20%20%20%20%20%0A%20%20%20%20%0A%20%20%20%20%0A%20%20%20%20%20%20%20%20%20%20%20%20var%20circle_marker_514ed58b8c1a487682432989b07d87c3%20%3D%20L.circleMarker%28%0A%20%20%20%20%20%20%20%20%20%20%20%20%20%20%20%20%5B22.124%2C%20-93.941%5D%2C%0A%20%20%20%20%20%20%20%20%20%20%20%20%20%20%20%20%7B%22bubblingMouseEvents%22%3A%20true%2C%20%22color%22%3A%20%22black%22%2C%20%22dashArray%22%3A%20null%2C%20%22dashOffset%22%3A%20null%2C%20%22fill%22%3A%20false%2C%20%22fillColor%22%3A%20%22black%22%2C%20%22fillOpacity%22%3A%200.2%2C%20%22fillRule%22%3A%20%22evenodd%22%2C%20%22lineCap%22%3A%20%22round%22%2C%20%22lineJoin%22%3A%20%22round%22%2C%20%22opacity%22%3A%201.0%2C%20%22radius%22%3A%201%2C%20%22stroke%22%3A%20true%2C%20%22weight%22%3A%205%7D%0A%20%20%20%20%20%20%20%20%20%20%20%20%29.addTo%28feature_group_7e6bcbe7ec454de6b165c5da6e9efc3d%29%3B%0A%20%20%20%20%20%20%20%20%0A%20%20%20%20%0A%20%20%20%20%20%20%20%20var%20popup_780757fdca89476884189e2de2d5e521%20%3D%20L.popup%28%7B%22maxWidth%22%3A%20%22100%25%22%7D%29%3B%0A%0A%20%20%20%20%20%20%20%20%0A%20%20%20%20%20%20%20%20%20%20%20%20var%20html_f1a08b76bf6a421a8a0157a599189d77%20%3D%20%24%28%60%3Cdiv%20id%3D%22html_f1a08b76bf6a421a8a0157a599189d77%22%20style%3D%22width%3A%20100.0%25%3B%20height%3A%20100.0%25%3B%22%3E42055%20Bay%20of%20Campeche%20%2842055%29%3C/div%3E%60%29%5B0%5D%3B%0A%20%20%20%20%20%20%20%20%20%20%20%20popup_780757fdca89476884189e2de2d5e521.setContent%28html_f1a08b76bf6a421a8a0157a599189d77%29%3B%0A%20%20%20%20%20%20%20%20%0A%0A%20%20%20%20%20%20%20%20circle_marker_514ed58b8c1a487682432989b07d87c3.bindPopup%28popup_780757fdca89476884189e2de2d5e521%29%0A%20%20%20%20%20%20%20%20%3B%0A%0A%20%20%20%20%20%20%20%20%0A%20%20%20%20%0A%20%20%20%20%0A%20%20%20%20%20%20%20%20%20%20%20%20var%20circle_marker_71ac23ea275745f4aa05bd7768681969%20%3D%20L.circleMarker%28%0A%20%20%20%20%20%20%20%20%20%20%20%20%20%20%20%20%5B19.82%2C%20-84.945%5D%2C%0A%20%20%20%20%20%20%20%20%20%20%20%20%20%20%20%20%7B%22bubblingMouseEvents%22%3A%20true%2C%20%22color%22%3A%20%22black%22%2C%20%22dashArray%22%3A%20null%2C%20%22dashOffset%22%3A%20null%2C%20%22fill%22%3A%20false%2C%20%22fillColor%22%3A%20%22black%22%2C%20%22fillOpacity%22%3A%200.2%2C%20%22fillRule%22%3A%20%22evenodd%22%2C%20%22lineCap%22%3A%20%22round%22%2C%20%22lineJoin%22%3A%20%22round%22%2C%20%22opacity%22%3A%201.0%2C%20%22radius%22%3A%201%2C%20%22stroke%22%3A%20true%2C%20%22weight%22%3A%205%7D%0A%20%20%20%20%20%20%20%20%20%20%20%20%29.addTo%28feature_group_7e6bcbe7ec454de6b165c5da6e9efc3d%29%3B%0A%20%20%20%20%20%20%20%20%0A%20%20%20%20%0A%20%20%20%20%20%20%20%20var%20popup_21f684e2839f43118c6dfe03e72c81b9%20%3D%20L.popup%28%7B%22maxWidth%22%3A%20%22100%25%22%7D%29%3B%0A%0A%20%20%20%20%20%20%20%20%0A%20%20%20%20%20%20%20%20%20%20%20%20var%20html_e20defd1843a46cda1bd8b0e5a7b6012%20%3D%20%24%28%60%3Cdiv%20id%3D%22html_e20defd1843a46cda1bd8b0e5a7b6012%22%20style%3D%22width%3A%20100.0%25%3B%20height%3A%20100.0%25%3B%22%3E42056%20Yucatan%20Basin%20%2842056%29%3C/div%3E%60%29%5B0%5D%3B%0A%20%20%20%20%20%20%20%20%20%20%20%20popup_21f684e2839f43118c6dfe03e72c81b9.setContent%28html_e20defd1843a46cda1bd8b0e5a7b6012%29%3B%0A%20%20%20%20%20%20%20%20%0A%0A%20%20%20%20%20%20%20%20circle_marker_71ac23ea275745f4aa05bd7768681969.bindPopup%28popup_21f684e2839f43118c6dfe03e72c81b9%29%0A%20%20%20%20%20%20%20%20%3B%0A%0A%20%20%20%20%20%20%20%20%0A%20%20%20%20%0A%20%20%20%20%0A%20%20%20%20%20%20%20%20%20%20%20%20var%20circle_marker_c94b7a1142e94898a07459cfa59dd7af%20%3D%20L.circleMarker%28%0A%20%20%20%20%20%20%20%20%20%20%20%20%20%20%20%20%5B14.394%2C%20-74.816%5D%2C%0A%20%20%20%20%20%20%20%20%20%20%20%20%20%20%20%20%7B%22bubblingMouseEvents%22%3A%20true%2C%20%22color%22%3A%20%22black%22%2C%20%22dashArray%22%3A%20null%2C%20%22dashOffset%22%3A%20null%2C%20%22fill%22%3A%20false%2C%20%22fillColor%22%3A%20%22black%22%2C%20%22fillOpacity%22%3A%200.2%2C%20%22fillRule%22%3A%20%22evenodd%22%2C%20%22lineCap%22%3A%20%22round%22%2C%20%22lineJoin%22%3A%20%22round%22%2C%20%22opacity%22%3A%201.0%2C%20%22radius%22%3A%201%2C%20%22stroke%22%3A%20true%2C%20%22weight%22%3A%205%7D%0A%20%20%20%20%20%20%20%20%20%20%20%20%29.addTo%28feature_group_7e6bcbe7ec454de6b165c5da6e9efc3d%29%3B%0A%20%20%20%20%20%20%20%20%0A%20%20%20%20%0A%20%20%20%20%20%20%20%20var%20popup_30730d99cdf5485d85a1316f74822509%20%3D%20L.popup%28%7B%22maxWidth%22%3A%20%22100%25%22%7D%29%3B%0A%0A%20%20%20%20%20%20%20%20%0A%20%20%20%20%20%20%20%20%20%20%20%20var%20html_069d770b62744124853ea36825442cf6%20%3D%20%24%28%60%3Cdiv%20id%3D%22html_069d770b62744124853ea36825442cf6%22%20style%3D%22width%3A%20100.0%25%3B%20height%3A%20100.0%25%3B%22%3E42058%20Central%20Caribbean%20%2842058%29%3C/div%3E%60%29%5B0%5D%3B%0A%20%20%20%20%20%20%20%20%20%20%20%20popup_30730d99cdf5485d85a1316f74822509.setContent%28html_069d770b62744124853ea36825442cf6%29%3B%0A%20%20%20%20%20%20%20%20%0A%0A%20%20%20%20%20%20%20%20circle_marker_c94b7a1142e94898a07459cfa59dd7af.bindPopup%28popup_30730d99cdf5485d85a1316f74822509%29%0A%20%20%20%20%20%20%20%20%3B%0A%0A%20%20%20%20%20%20%20%20%0A%20%20%20%20%0A%20%20%20%20%0A%20%20%20%20%20%20%20%20%20%20%20%20var%20circle_marker_2f741a2abdbe4747a10e8a6639c38e3b%20%3D%20L.circleMarker%28%0A%20%20%20%20%20%20%20%20%20%20%20%20%20%20%20%20%5B15.287%2C%20-67.477%5D%2C%0A%20%20%20%20%20%20%20%20%20%20%20%20%20%20%20%20%7B%22bubblingMouseEvents%22%3A%20true%2C%20%22color%22%3A%20%22black%22%2C%20%22dashArray%22%3A%20null%2C%20%22dashOffset%22%3A%20null%2C%20%22fill%22%3A%20false%2C%20%22fillColor%22%3A%20%22black%22%2C%20%22fillOpacity%22%3A%200.2%2C%20%22fillRule%22%3A%20%22evenodd%22%2C%20%22lineCap%22%3A%20%22round%22%2C%20%22lineJoin%22%3A%20%22round%22%2C%20%22opacity%22%3A%201.0%2C%20%22radius%22%3A%201%2C%20%22stroke%22%3A%20true%2C%20%22weight%22%3A%205%7D%0A%20%20%20%20%20%20%20%20%20%20%20%20%29.addTo%28feature_group_7e6bcbe7ec454de6b165c5da6e9efc3d%29%3B%0A%20%20%20%20%20%20%20%20%0A%20%20%20%20%0A%20%20%20%20%20%20%20%20var%20popup_7e3e3cba58ae40a3ac8dea1f8f1250b0%20%3D%20L.popup%28%7B%22maxWidth%22%3A%20%22100%25%22%7D%29%3B%0A%0A%20%20%20%20%20%20%20%20%0A%20%20%20%20%20%20%20%20%20%20%20%20var%20html_6d9ef53649ef49bbb42123e5bf48fca8%20%3D%20%24%28%60%3Cdiv%20id%3D%22html_6d9ef53649ef49bbb42123e5bf48fca8%22%20style%3D%22width%3A%20100.0%25%3B%20height%3A%20100.0%25%3B%22%3E42059%20Eastern%20Caribbean%20%2842059%29%3C/div%3E%60%29%5B0%5D%3B%0A%20%20%20%20%20%20%20%20%20%20%20%20popup_7e3e3cba58ae40a3ac8dea1f8f1250b0.setContent%28html_6d9ef53649ef49bbb42123e5bf48fca8%29%3B%0A%20%20%20%20%20%20%20%20%0A%0A%20%20%20%20%20%20%20%20circle_marker_2f741a2abdbe4747a10e8a6639c38e3b.bindPopup%28popup_7e3e3cba58ae40a3ac8dea1f8f1250b0%29%0A%20%20%20%20%20%20%20%20%3B%0A%0A%20%20%20%20%20%20%20%20%0A%20%20%20%20%0A%20%20%20%20%0A%20%20%20%20%20%20%20%20%20%20%20%20var%20circle_marker_20a9f1214ff447058fcda49d1368f1da%20%3D%20L.circleMarker%28%0A%20%20%20%20%20%20%20%20%20%20%20%20%20%20%20%20%5B16.433%2C%20-63.331%5D%2C%0A%20%20%20%20%20%20%20%20%20%20%20%20%20%20%20%20%7B%22bubblingMouseEvents%22%3A%20true%2C%20%22color%22%3A%20%22black%22%2C%20%22dashArray%22%3A%20null%2C%20%22dashOffset%22%3A%20null%2C%20%22fill%22%3A%20false%2C%20%22fillColor%22%3A%20%22black%22%2C%20%22fillOpacity%22%3A%200.2%2C%20%22fillRule%22%3A%20%22evenodd%22%2C%20%22lineCap%22%3A%20%22round%22%2C%20%22lineJoin%22%3A%20%22round%22%2C%20%22opacity%22%3A%201.0%2C%20%22radius%22%3A%201%2C%20%22stroke%22%3A%20true%2C%20%22weight%22%3A%205%7D%0A%20%20%20%20%20%20%20%20%20%20%20%20%29.addTo%28feature_group_7e6bcbe7ec454de6b165c5da6e9efc3d%29%3B%0A%20%20%20%20%20%20%20%20%0A%20%20%20%20%0A%20%20%20%20%20%20%20%20var%20popup_e9bd398e0ac74d00a1eccf5087339efe%20%3D%20L.popup%28%7B%22maxWidth%22%3A%20%22100%25%22%7D%29%3B%0A%0A%20%20%20%20%20%20%20%20%0A%20%20%20%20%20%20%20%20%20%20%20%20var%20html_c72ec273e0e1455490e1556039b73347%20%3D%20%24%28%60%3Cdiv%20id%3D%22html_c72ec273e0e1455490e1556039b73347%22%20style%3D%22width%3A%20100.0%25%3B%20height%3A%20100.0%25%3B%22%3E42060%20Eastern%20Caribbean%20%2842060%29%3C/div%3E%60%29%5B0%5D%3B%0A%20%20%20%20%20%20%20%20%20%20%20%20popup_e9bd398e0ac74d00a1eccf5087339efe.setContent%28html_c72ec273e0e1455490e1556039b73347%29%3B%0A%20%20%20%20%20%20%20%20%0A%0A%20%20%20%20%20%20%20%20circle_marker_20a9f1214ff447058fcda49d1368f1da.bindPopup%28popup_e9bd398e0ac74d00a1eccf5087339efe%29%0A%20%20%20%20%20%20%20%20%3B%0A%0A%20%20%20%20%20%20%20%20%0A%20%20%20%20%0A%20%20%20%20%0A%20%20%20%20%20%20%20%20%20%20%20%20var%20options%20%3D%20%7B%0A%20%20%20%20%20%20%20%20%20%20%20%20%20%20position%3A%20%22topleft%22%2C%0A%20%20%20%20%20%20%20%20%20%20%20%20%20%20draw%3A%20%7B%7D%2C%0A%20%20%20%20%20%20%20%20%20%20%20%20%20%20edit%3A%20%7B%7D%2C%0A%20%20%20%20%20%20%20%20%20%20%20%20%7D%0A%20%20%20%20%20%20%20%20%20%20%20%20//%20FeatureGroup%20is%20to%20store%20editable%20layers.%0A%20%20%20%20%20%20%20%20%20%20%20%20var%20drawnItems%20%3D%20new%20L.featureGroup%28%29.addTo%28%0A%20%20%20%20%20%20%20%20%20%20%20%20%20%20%20%20map_d4df04940331448bb206bf10e5801f34%0A%20%20%20%20%20%20%20%20%20%20%20%20%29%3B%0A%20%20%20%20%20%20%20%20%20%20%20%20options.edit.featureGroup%20%3D%20drawnItems%3B%0A%20%20%20%20%20%20%20%20%20%20%20%20var%20draw_control_1b69d4cf72794c10bb00298d59c7a693%20%3D%20new%20L.Control.Draw%28%0A%20%20%20%20%20%20%20%20%20%20%20%20%20%20%20%20options%0A%20%20%20%20%20%20%20%20%20%20%20%20%29.addTo%28%20map_d4df04940331448bb206bf10e5801f34%20%29%3B%0A%20%20%20%20%20%20%20%20%20%20%20%20map_d4df04940331448bb206bf10e5801f34.on%28L.Draw.Event.CREATED%2C%20function%28e%29%20%7B%0A%20%20%20%20%20%20%20%20%20%20%20%20%20%20%20%20var%20layer%20%3D%20e.layer%2C%0A%20%20%20%20%20%20%20%20%20%20%20%20%20%20%20%20%20%20%20%20type%20%3D%20e.layerType%3B%0A%20%20%20%20%20%20%20%20%20%20%20%20%20%20%20%20var%20coords%20%3D%20JSON.stringify%28layer.toGeoJSON%28%29%29%3B%0A%20%20%20%20%20%20%20%20%20%20%20%20%20%20%20%20layer.on%28%27click%27%2C%20function%28%29%20%7B%0A%20%20%20%20%20%20%20%20%20%20%20%20%20%20%20%20%20%20%20%20alert%28coords%29%3B%0A%20%20%20%20%20%20%20%20%20%20%20%20%20%20%20%20%20%20%20%20console.log%28coords%29%3B%0A%20%20%20%20%20%20%20%20%20%20%20%20%20%20%20%20%7D%29%3B%0A%20%20%20%20%20%20%20%20%20%20%20%20%20%20%20%20drawnItems.addLayer%28layer%29%3B%0A%20%20%20%20%20%20%20%20%20%20%20%20%20%7D%29%3B%0A%20%20%20%20%20%20%20%20%20%20%20%20map_d4df04940331448bb206bf10e5801f34.on%28%27draw%3Acreated%27%2C%20function%28e%29%20%7B%0A%20%20%20%20%20%20%20%20%20%20%20%20%20%20%20%20drawnItems.addLayer%28e.layer%29%3B%0A%20%20%20%20%20%20%20%20%20%20%20%20%7D%29%3B%0A%20%20%20%20%20%20%20%20%20%20%20%20%0A%20%20%20%20%20%20%20%20%0A%20%20%20%20%0A%20%20%20%20%20%20%20%20%20%20%20%20var%20heat_map_9dae4bb861f744af8d23c84ea9a988db%20%3D%20L.heatLayer%28%0A%20%20%20%20%20%20%20%20%20%20%20%20%20%20%20%20%5B%5B34.675%2C%20-72.698%5D%2C%20%5B32.501%2C%20-79.099%5D%2C%20%5B31.402%2C%20-80.869%5D%2C%20%5B28.519%2C%20-80.166%5D%2C%20%5B28.906%2C%20-78.471%5D%2C%20%5B30.041%2C%20-80.533%5D%2C%20%5B33.436%2C%20-77.743%5D%2C%20%5B35.006%2C%20-75.402%5D%2C%20%5B34.476%2C%20-77.28%5D%2C%20%5B34.206%2C%20-76.952%5D%2C%20%5B14.477%2C%20-53.008%5D%2C%20%5B14.357%2C%20-46.008%5D%2C%20%5B21.061%2C%20-64.966%5D%2C%20%5B21.652%2C%20-58.695%5D%2C%20%5B23.836%2C%20-70.863%5D%2C%20%5B27.469%2C%20-71.491%5D%2C%20%5B31.978%2C%20-69.649%5D%2C%20%5B27.5%2C%20-63.0%5D%2C%20%5B25.888%2C%20-89.658%5D%2C%20%5B25.79%2C%20-93.666%5D%2C%20%5B26.044%2C%20-85.612%5D%2C%20%5B30.065%2C%20-87.555%5D%2C%20%5B27.913%2C%20-95.353%5D%2C%20%5B26.966%2C%20-96.695%5D%2C%20%5B29.232%2C%20-94.413%5D%2C%20%5B28.5%2C%20-84.517%5D%2C%20%5B28.791%2C%20-86.008%5D%2C%20%5B29.212%2C%20-88.207%5D%2C%20%5B22.017%2C%20-94.046%5D%2C%20%5B19.874%2C%20-85.059%5D%2C%20%5B16.834%2C%20-81.501%5D%2C%20%5B14.923%2C%20-74.918%5D%2C%20%5B15.054%2C%20-67.472%5D%2C%20%5B16.5%2C%20-63.5%5D%2C%20%5B14.926%2C%20-75.046%5D%2C%20%5B34.675%2C%20-72.698%5D%2C%20%5B31.862%2C%20-74.835%5D%2C%20%5B32.501%2C%20-79.099%5D%2C%20%5B31.402%2C%20-80.869%5D%2C%20%5B28.523%2C%20-80.184%5D%2C%20%5B28.906%2C%20-78.471%5D%2C%20%5B30.042%2C%20-80.534%5D%2C%20%5B33.436%2C%20-77.743%5D%2C%20%5B35.006%2C%20-75.402%5D%2C%20%5B34.207%2C%20-76.949%5D%2C%20%5B14.477%2C%20-53.008%5D%2C%20%5B14.175%2C%20-45.998%5D%2C%20%5B21.061%2C%20-64.966%5D%2C%20%5B21.639%2C%20-58.614%5D%2C%20%5B23.838%2C%20-68.333%5D%2C%20%5B27.469%2C%20-71.491%5D%2C%20%5B31.978%2C%20-69.649%5D%2C%20%5B27.5%2C%20-63.0%5D%2C%20%5B25.888%2C%20-89.658%5D%2C%20%5B25.79%2C%20-93.666%5D%2C%20%5B26.044%2C%20-85.612%5D%2C%20%5B30.065%2C%20-87.555%5D%2C%20%5B27.913%2C%20-95.353%5D%2C%20%5B26.968%2C%20-96.694%5D%2C%20%5B29.232%2C%20-94.413%5D%2C%20%5B28.5%2C%20-84.517%5D%2C%20%5B28.794%2C%20-86.006%5D%2C%20%5B29.212%2C%20-88.207%5D%2C%20%5B22.203%2C%20-94.0%5D%2C%20%5B19.802%2C%20-84.857%5D%2C%20%5B16.834%2C%20-81.501%5D%2C%20%5B14.923%2C%20-74.918%5D%2C%20%5B15.054%2C%20-67.472%5D%2C%20%5B16.333%2C%20-63.5%5D%2C%20%5B14.926%2C%20-75.046%5D%2C%20%5B34.561%2C%20-72.631%5D%2C%20%5B31.862%2C%20-74.835%5D%2C%20%5B31.4%2C%20-80.868%5D%2C%20%5B28.523%2C%20-80.184%5D%2C%20%5B28.906%2C%20-78.471%5D%2C%20%5B30.042%2C%20-80.534%5D%2C%20%5B33.436%2C%20-77.743%5D%2C%20%5B35.006%2C%20-75.402%5D%2C%20%5B34.207%2C%20-76.949%5D%2C%20%5B14.516%2C%20-53.024%5D%2C%20%5B14.175%2C%20-45.998%5D%2C%20%5B21.061%2C%20-64.966%5D%2C%20%5B21.562%2C%20-58.641%5D%2C%20%5B23.838%2C%20-68.333%5D%2C%20%5B27.517%2C%20-71.483%5D%2C%20%5B31.95%2C%20-69.497%5D%2C%20%5B27.537%2C%20-62.945%5D%2C%20%5B25.888%2C%20-89.658%5D%2C%20%5B25.79%2C%20-93.666%5D%2C%20%5B26.044%2C%20-85.612%5D%2C%20%5B30.065%2C%20-87.555%5D%2C%20%5B27.913%2C%20-95.353%5D%2C%20%5B26.968%2C%20-96.694%5D%2C%20%5B29.232%2C%20-94.413%5D%2C%20%5B28.5%2C%20-84.517%5D%2C%20%5B28.794%2C%20-86.006%5D%2C%20%5B29.212%2C%20-88.207%5D%2C%20%5B22.203%2C%20-94.0%5D%2C%20%5B19.802%2C%20-84.857%5D%2C%20%5B17.002%2C%20-81.501%5D%2C%20%5B14.923%2C%20-74.918%5D%2C%20%5B15.054%2C%20-67.472%5D%2C%20%5B16.333%2C%20-63.5%5D%2C%20%5B31.862%2C%20-74.835%5D%2C%20%5B32.501%2C%20-79.099%5D%2C%20%5B31.4%2C%20-80.868%5D%2C%20%5B28.522%2C%20-80.188%5D%2C%20%5B28.903%2C%20-78.464%5D%2C%20%5B30.042%2C%20-80.534%5D%2C%20%5B33.436%2C%20-77.743%5D%2C%20%5B35.006%2C%20-75.402%5D%2C%20%5B34.207%2C%20-76.949%5D%2C%20%5B14.516%2C%20-53.024%5D%2C%20%5B14.329%2C%20-46.082%5D%2C%20%5B21.061%2C%20-64.966%5D%2C%20%5B21.575%2C%20-58.625%5D%2C%20%5B23.888%2C%20-68.365%5D%2C%20%5B27.517%2C%20-71.483%5D%2C%20%5B31.95%2C%20-69.497%5D%2C%20%5B27.537%2C%20-62.945%5D%2C%20%5B25.888%2C%20-89.658%5D%2C%20%5B25.79%2C%20-93.666%5D%2C%20%5B26.007%2C%20-85.648%5D%2C%20%5B30.065%2C%20-87.555%5D%2C%20%5B27.907%2C%20-95.353%5D%2C%20%5B26.968%2C%20-96.694%5D%2C%20%5B29.232%2C%20-94.413%5D%2C%20%5B28.5%2C%20-84.517%5D%2C%20%5B28.739%2C%20-86.006%5D%2C%20%5B29.212%2C%20-88.207%5D%2C%20%5B22.203%2C%20-94.0%5D%2C%20%5B19.802%2C%20-84.857%5D%2C%20%5B17.002%2C%20-81.501%5D%2C%20%5B14.923%2C%20-74.918%5D%2C%20%5B15.054%2C%20-67.472%5D%2C%20%5B16.332%2C%20-63.24%5D%2C%20%5B34.645%2C%20-72.695%5D%2C%20%5B31.862%2C%20-74.835%5D%2C%20%5B32.501%2C%20-79.099%5D%2C%20%5B31.4%2C%20-80.868%5D%2C%20%5B28.522%2C%20-80.188%5D%2C%20%5B28.903%2C%20-78.464%5D%2C%20%5B35.006%2C%20-75.402%5D%2C%20%5B34.207%2C%20-76.949%5D%2C%20%5B14.516%2C%20-53.024%5D%2C%20%5B14.329%2C%20-46.082%5D%2C%20%5B21.061%2C%20-64.966%5D%2C%20%5B21.575%2C%20-58.625%5D%2C%20%5B23.888%2C%20-68.365%5D%2C%20%5B27.517%2C%20-71.483%5D%2C%20%5B31.95%2C%20-69.497%5D%2C%20%5B27.537%2C%20-62.945%5D%2C%20%5B26.091%2C%20-93.758%5D%2C%20%5B26.007%2C%20-85.648%5D%2C%20%5B30.065%2C%20-87.555%5D%2C%20%5B27.907%2C%20-95.352%5D%2C%20%5B26.968%2C%20-96.694%5D%2C%20%5B29.232%2C%20-94.413%5D%2C%20%5B28.5%2C%20-84.517%5D%2C%20%5B28.739%2C%20-86.006%5D%2C%20%5B29.212%2C%20-88.207%5D%2C%20%5B22.203%2C%20-94.0%5D%2C%20%5B19.802%2C%20-84.857%5D%2C%20%5B17.002%2C%20-81.501%5D%2C%20%5B14.923%2C%20-74.918%5D%2C%20%5B15.179%2C%20-67.563%5D%2C%20%5B16.332%2C%20-63.24%5D%2C%20%5B34.645%2C%20-72.695%5D%2C%20%5B31.862%2C%20-74.835%5D%2C%20%5B32.501%2C%20-79.099%5D%2C%20%5B31.4%2C%20-80.868%5D%2C%20%5B28.522%2C%20-80.188%5D%2C%20%5B28.903%2C%20-78.464%5D%2C%20%5B33.436%2C%20-77.743%5D%2C%20%5B35.006%2C%20-75.402%5D%2C%20%5B14.516%2C%20-53.024%5D%2C%20%5B14.329%2C%20-46.082%5D%2C%20%5B31.86%2C%20-69.59%5D%2C%20%5B27.537%2C%20-62.945%5D%2C%20%5B25.897%2C%20-89.668%5D%2C%20%5B26.091%2C%20-93.758%5D%2C%20%5B26.007%2C%20-85.648%5D%2C%20%5B30.065%2C%20-87.555%5D%2C%20%5B27.907%2C%20-95.352%5D%2C%20%5B26.968%2C%20-96.694%5D%2C%20%5B29.232%2C%20-94.413%5D%2C%20%5B28.5%2C%20-84.517%5D%2C%20%5B28.739%2C%20-86.006%5D%2C%20%5B22.203%2C%20-94.0%5D%2C%20%5B17.002%2C%20-81.501%5D%2C%20%5B14.923%2C%20-74.918%5D%2C%20%5B34.625%2C%20-72.617%5D%2C%20%5B31.76%2C%20-74.84%5D%2C%20%5B31.4%2C%20-80.868%5D%2C%20%5B28.501%2C%20-80.184%5D%2C%20%5B28.884%2C%20-78.45%5D%2C%20%5B33.436%2C%20-77.743%5D%2C%20%5B21.132%2C%20-64.856%5D%2C%20%5B21.575%2C%20-58.625%5D%2C%20%5B23.832%2C%20-68.417%5D%2C%20%5B27.52%2C%20-71.53%5D%2C%20%5B27.537%2C%20-62.945%5D%2C%20%5B26.091%2C%20-93.758%5D%2C%20%5B30.064%2C%20-87.551%5D%2C%20%5B27.907%2C%20-95.352%5D%2C%20%5B26.968%2C%20-96.694%5D%2C%20%5B29.232%2C%20-94.413%5D%2C%20%5B28.501%2C%20-84.516%5D%2C%20%5B28.788%2C%20-86.008%5D%2C%20%5B29.208%2C%20-88.226%5D%2C%20%5B22.12%2C%20-93.96%5D%2C%20%5B19.918%2C%20-84.938%5D%2C%20%5B16.908%2C%20-81.422%5D%2C%20%5B15.252%2C%20-67.51%5D%2C%20%5B16.406%2C%20-63.188%5D%2C%20%5B32.501%2C%20-79.099%5D%2C%20%5B31.4%2C%20-80.868%5D%2C%20%5B28.508%2C%20-80.185%5D%2C%20%5B28.878%2C%20-78.485%5D%2C%20%5B33.436%2C%20-77.743%5D%2C%20%5B35.005%2C%20-75.403%5D%2C%20%5B14.554%2C%20-53.045%5D%2C%20%5B14.338%2C%20-46.07%5D%2C%20%5B21.124%2C%20-64.83%5D%2C%20%5B21.582%2C%20-58.63%5D%2C%20%5B23.822%2C%20-68.384%5D%2C%20%5B27.514%2C%20-71.494%5D%2C%20%5B31.86%2C%20-69.59%5D%2C%20%5B25.897%2C%20-89.668%5D%2C%20%5B26.091%2C%20-93.758%5D%2C%20%5B25.925%2C%20-85.615%5D%2C%20%5B30.064%2C%20-87.551%5D%2C%20%5B26.968%2C%20-96.693%5D%2C%20%5B28.788%2C%20-86.008%5D%2C%20%5B29.208%2C%20-88.226%5D%2C%20%5B19.918%2C%20-84.938%5D%2C%20%5B16.908%2C%20-81.422%5D%2C%20%5B14.888%2C%20-74.575%5D%2C%20%5B15.252%2C%20-67.51%5D%2C%20%5B16.413%2C%20-63.354%5D%2C%20%5B34.502%2C%20-72.522%5D%2C%20%5B31.754%2C%20-74.816%5D%2C%20%5B32.501%2C%20-79.099%5D%2C%20%5B31.4%2C%20-80.868%5D%2C%20%5B28.508%2C%20-80.185%5D%2C%20%5B28.878%2C%20-78.485%5D%2C%20%5B33.436%2C%20-77.743%5D%2C%20%5B35.025%2C%20-75.363%5D%2C%20%5B14.554%2C%20-53.045%5D%2C%20%5B14.311%2C%20-46.093%5D%2C%20%5B21.124%2C%20-64.83%5D%2C%20%5B21.582%2C%20-58.63%5D%2C%20%5B23.822%2C%20-68.384%5D%2C%20%5B27.514%2C%20-71.494%5D%2C%20%5B31.838%2C%20-69.585%5D%2C%20%5B27.49%2C%20-62.938%5D%2C%20%5B25.961%2C%20-89.65%5D%2C%20%5B25.925%2C%20-85.615%5D%2C%20%5B30.064%2C%20-87.551%5D%2C%20%5B27.91%2C%20-95.345%5D%2C%20%5B26.968%2C%20-96.693%5D%2C%20%5B29.232%2C%20-94.413%5D%2C%20%5B28.501%2C%20-84.516%5D%2C%20%5B28.788%2C%20-86.008%5D%2C%20%5B29.208%2C%20-88.226%5D%2C%20%5B22.124%2C%20-93.941%5D%2C%20%5B19.812%2C%20-84.946%5D%2C%20%5B16.908%2C%20-81.422%5D%2C%20%5B14.775%2C%20-74.56%5D%2C%20%5B15.252%2C%20-67.483%5D%2C%20%5B16.413%2C%20-63.354%5D%2C%20%5B34.724%2C%20-72.317%5D%2C%20%5B31.887%2C%20-74.921%5D%2C%20%5B32.501%2C%20-79.099%5D%2C%20%5B31.4%2C%20-80.866%5D%2C%20%5B28.508%2C%20-80.185%5D%2C%20%5B28.878%2C%20-78.485%5D%2C%20%5B33.441%2C%20-77.764%5D%2C%20%5B35.025%2C%20-75.363%5D%2C%20%5B14.554%2C%20-53.045%5D%2C%20%5B21.124%2C%20-64.83%5D%2C%20%5B21.582%2C%20-58.63%5D%2C%20%5B23.822%2C%20-68.384%5D%2C%20%5B27.514%2C%20-71.494%5D%2C%20%5B31.831%2C%20-69.573%5D%2C%20%5B27.49%2C%20-62.938%5D%2C%20%5B25.942%2C%20-89.657%5D%2C%20%5B26.055%2C%20-93.646%5D%2C%20%5B25.925%2C%20-85.615%5D%2C%20%5B30.064%2C%20-87.551%5D%2C%20%5B27.91%2C%20-95.345%5D%2C%20%5B26.968%2C%20-96.693%5D%2C%20%5B29.215%2C%20-94.429%5D%2C%20%5B28.501%2C%20-84.516%5D%2C%20%5B28.788%2C%20-86.008%5D%2C%20%5B29.208%2C%20-88.226%5D%2C%20%5B22.124%2C%20-93.941%5D%2C%20%5B19.82%2C%20-84.945%5D%2C%20%5B16.908%2C%20-81.422%5D%2C%20%5B14.776%2C%20-74.548%5D%2C%20%5B15.252%2C%20-67.483%5D%2C%20%5B16.433%2C%20-63.331%5D%2C%20%5B34.724%2C%20-72.317%5D%2C%20%5B31.76%2C%20-74.945%5D%2C%20%5B32.502%2C%20-79.099%5D%2C%20%5B31.4%2C%20-80.866%5D%2C%20%5B28.508%2C%20-80.185%5D%2C%20%5B28.878%2C%20-78.485%5D%2C%20%5B33.441%2C%20-77.764%5D%2C%20%5B35.01%2C%20-75.454%5D%2C%20%5B14.554%2C%20-53.045%5D%2C%20%5B14.453%2C%20-46.327%5D%2C%20%5B21.03%2C%20-64.79%5D%2C%20%5B21.582%2C%20-58.63%5D%2C%20%5B23.822%2C%20-68.384%5D%2C%20%5B27.463%2C%20-71.466%5D%2C%20%5B31.831%2C%20-69.573%5D%2C%20%5B27.49%2C%20-62.938%5D%2C%20%5B25.942%2C%20-89.657%5D%2C%20%5B26.055%2C%20-93.646%5D%2C%20%5B25.925%2C%20-85.615%5D%2C%20%5B30.06%2C%20-87.548%5D%2C%20%5B27.91%2C%20-95.345%5D%2C%20%5B26.968%2C%20-96.693%5D%2C%20%5B29.232%2C%20-94.413%5D%2C%20%5B28.501%2C%20-84.508%5D%2C%20%5B28.787%2C%20-86.007%5D%2C%20%5B29.207%2C%20-88.237%5D%2C%20%5B22.124%2C%20-93.941%5D%2C%20%5B19.82%2C%20-84.945%5D%2C%20%5B14.394%2C%20-74.816%5D%2C%20%5B15.287%2C%20-67.477%5D%2C%20%5B16.433%2C%20-63.331%5D%5D%2C%0A%20%20%20%20%20%20%20%20%20%20%20%20%20%20%20%20%7B%22blur%22%3A%2015%2C%20%22maxZoom%22%3A%2018%2C%20%22minOpacity%22%3A%200.5%2C%20%22radius%22%3A%2010%7D%0A%20%20%20%20%20%20%20%20%20%20%20%20%29.addTo%28map_d4df04940331448bb206bf10e5801f34%29%3B%0A%20%20%20%20%20%20%20%20%0A%20%20%20%20%0A%20%20%20%20%20%20%20%20%20%20%20%20var%20feature_group_926dd45bd5b94c308a0054429c268b88%20%3D%20L.featureGroup%28%0A%20%20%20%20%20%20%20%20%20%20%20%20%20%20%20%20%7B%7D%0A%20%20%20%20%20%20%20%20%20%20%20%20%29.addTo%28map_d4df04940331448bb206bf10e5801f34%29%3B%0A%20%20%20%20%20%20%20%20%0A%20%20%20%20%0A%20%20%20%20%20%20%20%20%20%20%20%20var%20circle_marker_acbe7dec906941aabd8062717dd28b47%20%3D%20L.circleMarker%28%0A%20%20%20%20%20%20%20%20%20%20%20%20%20%20%20%20%5B34.207%2C%20-76.949%5D%2C%0A%20%20%20%20%20%20%20%20%20%20%20%20%20%20%20%20%7B%22bubblingMouseEvents%22%3A%20true%2C%20%22color%22%3A%20%22red%22%2C%20%22dashArray%22%3A%20null%2C%20%22dashOffset%22%3A%20null%2C%20%22fill%22%3A%20false%2C%20%22fillColor%22%3A%20%22red%22%2C%20%22fillOpacity%22%3A%200.2%2C%20%22fillRule%22%3A%20%22evenodd%22%2C%20%22lineCap%22%3A%20%22round%22%2C%20%22lineJoin%22%3A%20%22round%22%2C%20%22opacity%22%3A%201.0%2C%20%22radius%22%3A%201%2C%20%22stroke%22%3A%20true%2C%20%22weight%22%3A%205%7D%0A%20%20%20%20%20%20%20%20%20%20%20%20%29.addTo%28feature_group_926dd45bd5b94c308a0054429c268b88%29%3B%0A%20%20%20%20%20%20%20%20%0A%20%20%20%20%0A%20%20%20%20%20%20%20%20var%20popup_abe8a2af7e22489e917b2c1c3cefd3be%20%3D%20L.popup%28%7B%22maxWidth%22%3A%20%22100%25%22%7D%29%3B%0A%0A%20%20%20%20%20%20%20%20%0A%20%20%20%20%20%20%20%20%20%20%20%20var%20html_c4df6c3d2b90480bb92174b1da71df24%20%3D%20%24%28%60%3Cdiv%20id%3D%22html_c4df6c3d2b90480bb92174b1da71df24%22%20style%3D%22width%3A%20100.0%25%3B%20height%3A%20100.0%25%3B%22%3E41036%3C/div%3E%60%29%5B0%5D%3B%0A%20%20%20%20%20%20%20%20%20%20%20%20popup_abe8a2af7e22489e917b2c1c3cefd3be.setContent%28html_c4df6c3d2b90480bb92174b1da71df24%29%3B%0A%20%20%20%20%20%20%20%20%0A%0A%20%20%20%20%20%20%20%20circle_marker_acbe7dec906941aabd8062717dd28b47.bindPopup%28popup_abe8a2af7e22489e917b2c1c3cefd3be%29%0A%20%20%20%20%20%20%20%20%3B%0A%0A%20%20%20%20%20%20%20%20%0A%20%20%20%20%0A%20%20%20%20%0A%20%20%20%20%20%20%20%20%20%20%20%20var%20circle_marker_51406854b88848bcb4263a125b974de1%20%3D%20L.circleMarker%28%0A%20%20%20%20%20%20%20%20%20%20%20%20%20%20%20%20%5B29.207%2C%20-88.237%5D%2C%0A%20%20%20%20%20%20%20%20%20%20%20%20%20%20%20%20%7B%22bubblingMouseEvents%22%3A%20true%2C%20%22color%22%3A%20%22red%22%2C%20%22dashArray%22%3A%20null%2C%20%22dashOffset%22%3A%20null%2C%20%22fill%22%3A%20false%2C%20%22fillColor%22%3A%20%22red%22%2C%20%22fillOpacity%22%3A%200.2%2C%20%22fillRule%22%3A%20%22evenodd%22%2C%20%22lineCap%22%3A%20%22round%22%2C%20%22lineJoin%22%3A%20%22round%22%2C%20%22opacity%22%3A%201.0%2C%20%22radius%22%3A%201%2C%20%22stroke%22%3A%20true%2C%20%22weight%22%3A%205%7D%0A%20%20%20%20%20%20%20%20%20%20%20%20%29.addTo%28feature_group_926dd45bd5b94c308a0054429c268b88%29%3B%0A%20%20%20%20%20%20%20%20%0A%20%20%20%20%0A%20%20%20%20%20%20%20%20var%20popup_aa02d917a4bd404f9b373f31786f2bc4%20%3D%20L.popup%28%7B%22maxWidth%22%3A%20%22100%25%22%7D%29%3B%0A%0A%20%20%20%20%20%20%20%20%0A%20%20%20%20%20%20%20%20%20%20%20%20var%20html_08a0b859acc4464e9c90687e483e421e%20%3D%20%24%28%60%3Cdiv%20id%3D%22html_08a0b859acc4464e9c90687e483e421e%22%20style%3D%22width%3A%20100.0%25%3B%20height%3A%20100.0%25%3B%22%3E42040%3C/div%3E%60%29%5B0%5D%3B%0A%20%20%20%20%20%20%20%20%20%20%20%20popup_aa02d917a4bd404f9b373f31786f2bc4.setContent%28html_08a0b859acc4464e9c90687e483e421e%29%3B%0A%20%20%20%20%20%20%20%20%0A%0A%20%20%20%20%20%20%20%20circle_marker_51406854b88848bcb4263a125b974de1.bindPopup%28popup_aa02d917a4bd404f9b373f31786f2bc4%29%0A%20%20%20%20%20%20%20%20%3B%0A%0A%20%20%20%20%20%20%20%20%0A%20%20%20%20%0A%20%20%20%20%0A%20%20%20%20%20%20%20%20%20%20%20%20var%20circle_marker_d3bc76b2a624461991e548915d12112f%20%3D%20L.circleMarker%28%0A%20%20%20%20%20%20%20%20%20%20%20%20%20%20%20%20%5B14.926%2C%20-75.046%5D%2C%0A%20%20%20%20%20%20%20%20%20%20%20%20%20%20%20%20%7B%22bubblingMouseEvents%22%3A%20true%2C%20%22color%22%3A%20%22red%22%2C%20%22dashArray%22%3A%20null%2C%20%22dashOffset%22%3A%20null%2C%20%22fill%22%3A%20false%2C%20%22fillColor%22%3A%20%22red%22%2C%20%22fillOpacity%22%3A%200.2%2C%20%22fillRule%22%3A%20%22evenodd%22%2C%20%22lineCap%22%3A%20%22round%22%2C%20%22lineJoin%22%3A%20%22round%22%2C%20%22opacity%22%3A%201.0%2C%20%22radius%22%3A%201%2C%20%22stroke%22%3A%20true%2C%20%22weight%22%3A%205%7D%0A%20%20%20%20%20%20%20%20%20%20%20%20%29.addTo%28feature_group_926dd45bd5b94c308a0054429c268b88%29%3B%0A%20%20%20%20%20%20%20%20%0A%20%20%20%20%0A%20%20%20%20%20%20%20%20var%20popup_fcc54d84a48e45729b9e53e30de1c956%20%3D%20L.popup%28%7B%22maxWidth%22%3A%20%22100%25%22%7D%29%3B%0A%0A%20%20%20%20%20%20%20%20%0A%20%20%20%20%20%20%20%20%20%20%20%20var%20html_80936bc189cd4d0abde7cb019091859d%20%3D%20%24%28%60%3Cdiv%20id%3D%22html_80936bc189cd4d0abde7cb019091859d%22%20style%3D%22width%3A%20100.0%25%3B%20height%3A%20100.0%25%3B%22%3E42065%3C/div%3E%60%29%5B0%5D%3B%0A%20%20%20%20%20%20%20%20%20%20%20%20popup_fcc54d84a48e45729b9e53e30de1c956.setContent%28html_80936bc189cd4d0abde7cb019091859d%29%3B%0A%20%20%20%20%20%20%20%20%0A%0A%20%20%20%20%20%20%20%20circle_marker_d3bc76b2a624461991e548915d12112f.bindPopup%28popup_fcc54d84a48e45729b9e53e30de1c956%29%0A%20%20%20%20%20%20%20%20%3B%0A%0A%20%20%20%20%20%20%20%20%0A%20%20%20%20%0A%20%20%20%20%0A%20%20%20%20%20%20%20%20%20%20%20%20var%20circle_marker_3436fda8ff7c49d8b5d686e88bcb454e%20%3D%20L.circleMarker%28%0A%20%20%20%20%20%20%20%20%20%20%20%20%20%20%20%20%5B14.453%2C%20-46.327%5D%2C%0A%20%20%20%20%20%20%20%20%20%20%20%20%20%20%20%20%7B%22bubblingMouseEvents%22%3A%20true%2C%20%22color%22%3A%20%22red%22%2C%20%22dashArray%22%3A%20null%2C%20%22dashOffset%22%3A%20null%2C%20%22fill%22%3A%20false%2C%20%22fillColor%22%3A%20%22red%22%2C%20%22fillOpacity%22%3A%200.2%2C%20%22fillRule%22%3A%20%22evenodd%22%2C%20%22lineCap%22%3A%20%22round%22%2C%20%22lineJoin%22%3A%20%22round%22%2C%20%22opacity%22%3A%201.0%2C%20%22radius%22%3A%201%2C%20%22stroke%22%3A%20true%2C%20%22weight%22%3A%205%7D%0A%20%20%20%20%20%20%20%20%20%20%20%20%29.addTo%28feature_group_926dd45bd5b94c308a0054429c268b88%29%3B%0A%20%20%20%20%20%20%20%20%0A%20%20%20%20%0A%20%20%20%20%20%20%20%20var%20popup_daaf49904f2a43b79e5e43a699f74343%20%3D%20L.popup%28%7B%22maxWidth%22%3A%20%22100%25%22%7D%29%3B%0A%0A%20%20%20%20%20%20%20%20%0A%20%20%20%20%20%20%20%20%20%20%20%20var%20html_7c26c6c8c37046028fb4f0f05395c026%20%3D%20%24%28%60%3Cdiv%20id%3D%22html_7c26c6c8c37046028fb4f0f05395c026%22%20style%3D%22width%3A%20100.0%25%3B%20height%3A%20100.0%25%3B%22%3E41041%3C/div%3E%60%29%5B0%5D%3B%0A%20%20%20%20%20%20%20%20%20%20%20%20popup_daaf49904f2a43b79e5e43a699f74343.setContent%28html_7c26c6c8c37046028fb4f0f05395c026%29%3B%0A%20%20%20%20%20%20%20%20%0A%0A%20%20%20%20%20%20%20%20circle_marker_3436fda8ff7c49d8b5d686e88bcb454e.bindPopup%28popup_daaf49904f2a43b79e5e43a699f74343%29%0A%20%20%20%20%20%20%20%20%3B%0A%0A%20%20%20%20%20%20%20%20%0A%20%20%20%20%0A%20%20%20%20%0A%20%20%20%20%20%20%20%20%20%20%20%20var%20feature_group_a56030252120413ba2516ff982cbfbc7%20%3D%20L.featureGroup%28%0A%20%20%20%20%20%20%20%20%20%20%20%20%20%20%20%20%7B%7D%0A%20%20%20%20%20%20%20%20%20%20%20%20%29.addTo%28map_d4df04940331448bb206bf10e5801f34%29%3B%0A%20%20%20%20%20%20%20%20%0A%20%20%20%20%0A%20%20%20%20%20%20%20%20%20%20%20%20var%20polygon_e2e3a0f9ba624ee189e8c244d924ca72%20%3D%20L.polygon%28%0A%20%20%20%20%20%20%20%20%20%20%20%20%20%20%20%20%5B%5B18.930645%2C%20-81.2%5D%2C%20%5B30.366655%2C%20-81.2%5D%2C%20%5B30.366655%2C%20-97.3%5D%2C%20%5B18.930645%2C%20-97.3%5D%2C%20%5B18.930645%2C%20-81.2%5D%5D%2C%0A%20%20%20%20%20%20%20%20%20%20%20%20%20%20%20%20%7B%22bubblingMouseEvents%22%3A%20true%2C%20%22color%22%3A%20%22yellow%22%2C%20%22dashArray%22%3A%20null%2C%20%22dashOffset%22%3A%20null%2C%20%22fill%22%3A%20false%2C%20%22fillColor%22%3A%20%22yellow%22%2C%20%22fillOpacity%22%3A%200.2%2C%20%22fillRule%22%3A%20%22evenodd%22%2C%20%22lineCap%22%3A%20%22round%22%2C%20%22lineJoin%22%3A%20%22round%22%2C%20%22noClip%22%3A%20false%2C%20%22opacity%22%3A%201.0%2C%20%22smoothFactor%22%3A%201.0%2C%20%22stroke%22%3A%20true%2C%20%22weight%22%3A%203%7D%0A%20%20%20%20%20%20%20%20%20%20%20%20%29.addTo%28feature_group_a56030252120413ba2516ff982cbfbc7%29%3B%0A%20%20%20%20%20%20%20%20%0A%20%20%20%20%0A%20%20%20%20%20%20%20%20var%20popup_2e7a73724a2c4f3fad140642778e198f%20%3D%20L.popup%28%7B%22maxWidth%22%3A%20%22100%25%22%7D%29%3B%0A%0A%20%20%20%20%20%20%20%20%0A%20%20%20%20%20%20%20%20%20%20%20%20var%20html_5f1a11d5564d4c858f94a5e4fb78abc4%20%3D%20%24%28%60%3Cdiv%20id%3D%22html_5f1a11d5564d4c858f94a5e4fb78abc4%22%20style%3D%22width%3A%20100.0%25%3B%20height%3A%20100.0%25%3B%22%3E0%3C/div%3E%60%29%5B0%5D%3B%0A%20%20%20%20%20%20%20%20%20%20%20%20popup_2e7a73724a2c4f3fad140642778e198f.setContent%28html_5f1a11d5564d4c858f94a5e4fb78abc4%29%3B%0A%20%20%20%20%20%20%20%20%0A%0A%20%20%20%20%20%20%20%20polygon_e2e3a0f9ba624ee189e8c244d924ca72.bindPopup%28popup_2e7a73724a2c4f3fad140642778e198f%29%0A%20%20%20%20%20%20%20%20%3B%0A%0A%20%20%20%20%20%20%20%20%0A%20%20%20%20%0A%20%20%20%20%0A%20%20%20%20%20%20%20%20%20%20%20%20var%20feature_group_d6d44c49e2f946769810b3e3acf5ce60%20%3D%20L.featureGroup%28%0A%20%20%20%20%20%20%20%20%20%20%20%20%20%20%20%20%7B%7D%0A%20%20%20%20%20%20%20%20%20%20%20%20%29.addTo%28map_d4df04940331448bb206bf10e5801f34%29%3B%0A%20%20%20%20%20%20%20%20%0A%20%20%20%20%0A%20%20%20%20%20%20%20%20%20%20%20%20var%20polygon_68d86303e2be47609cbeee195555e099%20%3D%20L.polygon%28%0A%20%20%20%20%20%20%20%20%20%20%20%20%20%20%20%20%5B%5B18.930645%2C%20-81.2%5D%2C%20%5B18.930645%2C%20-97.3%5D%2C%20%5B30.366655%2C%20-97.3%5D%2C%20%5B30.366655%2C%20-82.836914%5D%2C%20%5B35.55%2C%20-82.836914%5D%2C%20%5B35.55%2C%20-68.115234%5D%2C%20%5B25.799891%2C%20-68.115234%5D%2C%20%5B25.799891%2C%20-81.2%5D%2C%20%5B18.930645%2C%20-81.2%5D%5D%2C%0A%20%20%20%20%20%20%20%20%20%20%20%20%20%20%20%20%7B%22bubblingMouseEvents%22%3A%20true%2C%20%22color%22%3A%20%22red%22%2C%20%22dashArray%22%3A%20null%2C%20%22dashOffset%22%3A%20null%2C%20%22fill%22%3A%20false%2C%20%22fillColor%22%3A%20%22red%22%2C%20%22fillOpacity%22%3A%200.2%2C%20%22fillRule%22%3A%20%22evenodd%22%2C%20%22lineCap%22%3A%20%22round%22%2C%20%22lineJoin%22%3A%20%22round%22%2C%20%22noClip%22%3A%20false%2C%20%22opacity%22%3A%201.0%2C%20%22smoothFactor%22%3A%201.0%2C%20%22stroke%22%3A%20true%2C%20%22weight%22%3A%203%7D%0A%20%20%20%20%20%20%20%20%20%20%20%20%29.addTo%28feature_group_d6d44c49e2f946769810b3e3acf5ce60%29%3B%0A%20%20%20%20%20%20%20%20%0A%20%20%20%20%0A%20%20%20%20%20%20%20%20var%20popup_0232c12e23484ff09b4e9e1379e1843a%20%3D%20L.popup%28%7B%22maxWidth%22%3A%20%22100%25%22%7D%29%3B%0A%0A%20%20%20%20%20%20%20%20%0A%20%20%20%20%20%20%20%20%20%20%20%20var%20html_9103a40c0a6c4bd88718033c89489be2%20%3D%20%24%28%60%3Cdiv%20id%3D%22html_9103a40c0a6c4bd88718033c89489be2%22%20style%3D%22width%3A%20100.0%25%3B%20height%3A%20100.0%25%3B%22%3E0%3C/div%3E%60%29%5B0%5D%3B%0A%20%20%20%20%20%20%20%20%20%20%20%20popup_0232c12e23484ff09b4e9e1379e1843a.setContent%28html_9103a40c0a6c4bd88718033c89489be2%29%3B%0A%20%20%20%20%20%20%20%20%0A%0A%20%20%20%20%20%20%20%20polygon_68d86303e2be47609cbeee195555e099.bindPopup%28popup_0232c12e23484ff09b4e9e1379e1843a%29%0A%20%20%20%20%20%20%20%20%3B%0A%0A%20%20%20%20%20%20%20%20%0A%20%20%20%20%0A%20%20%20%20%0A%20%20%20%20%20%20%20%20%20%20%20%20var%20feature_group_c9a0ebe4705c435f838999d8fc1acb61%20%3D%20L.featureGroup%28%0A%20%20%20%20%20%20%20%20%20%20%20%20%20%20%20%20%7B%7D%0A%20%20%20%20%20%20%20%20%20%20%20%20%29.addTo%28map_d4df04940331448bb206bf10e5801f34%29%3B%0A%20%20%20%20%20%20%20%20%0A%20%20%20%20%0A%20%20%20%20%20%20%20%20%20%20%20%20var%20polygon_6067de37159e4812995874a92f3908a6%20%3D%20L.polygon%28%0A%20%20%20%20%20%20%20%20%20%20%20%20%20%20%20%20%5B%5B12.282308%2C%20-45.0%5D%2C%20%5B35.55%2C%20-45.0%5D%2C%20%5B35.55%2C%20-98.251934%5D%2C%20%5B12.282308%2C%20-98.251934%5D%2C%20%5B12.282308%2C%20-45.0%5D%5D%2C%0A%20%20%20%20%20%20%20%20%20%20%20%20%20%20%20%20%7B%22bubblingMouseEvents%22%3A%20true%2C%20%22color%22%3A%20%22blue%22%2C%20%22dashArray%22%3A%20null%2C%20%22dashOffset%22%3A%20null%2C%20%22fill%22%3A%20false%2C%20%22fillColor%22%3A%20%22blue%22%2C%20%22fillOpacity%22%3A%200.2%2C%20%22fillRule%22%3A%20%22evenodd%22%2C%20%22lineCap%22%3A%20%22round%22%2C%20%22lineJoin%22%3A%20%22round%22%2C%20%22noClip%22%3A%20false%2C%20%22opacity%22%3A%201.0%2C%20%22smoothFactor%22%3A%201.0%2C%20%22stroke%22%3A%20true%2C%20%22weight%22%3A%203%7D%0A%20%20%20%20%20%20%20%20%20%20%20%20%29.addTo%28feature_group_c9a0ebe4705c435f838999d8fc1acb61%29%3B%0A%20%20%20%20%20%20%20%20%0A%20%20%20%20%0A%20%20%20%20%20%20%20%20var%20popup_8b372304f7984517bf41168e6146535a%20%3D%20L.popup%28%7B%22maxWidth%22%3A%20%22100%25%22%7D%29%3B%0A%0A%20%20%20%20%20%20%20%20%0A%20%20%20%20%20%20%20%20%20%20%20%20var%20html_2d7cdd85d587421c941838d1cc3431b7%20%3D%20%24%28%60%3Cdiv%20id%3D%22html_2d7cdd85d587421c941838d1cc3431b7%22%20style%3D%22width%3A%20100.0%25%3B%20height%3A%20100.0%25%3B%22%3E0%3C/div%3E%60%29%5B0%5D%3B%0A%20%20%20%20%20%20%20%20%20%20%20%20popup_8b372304f7984517bf41168e6146535a.setContent%28html_2d7cdd85d587421c941838d1cc3431b7%29%3B%0A%20%20%20%20%20%20%20%20%0A%0A%20%20%20%20%20%20%20%20polygon_6067de37159e4812995874a92f3908a6.bindPopup%28popup_8b372304f7984517bf41168e6146535a%29%0A%20%20%20%20%20%20%20%20%3B%0A%0A%20%20%20%20%20%20%20%20%0A%20%20%20%20%0A%20%20%20%20%0A%20%20%20%20%20%20%20%20%20%20%20%20var%20layer_control_8f85e8dbf0484abf8d0c03a43e6e3287%20%3D%20%7B%0A%20%20%20%20%20%20%20%20%20%20%20%20%20%20%20%20base_layers%20%3A%20%7B%0A%20%20%20%20%20%20%20%20%20%20%20%20%20%20%20%20%20%20%20%20%22cartodbpositron%22%20%3A%20tile_layer_dc99f1e928c04be195781566f20fa6be%2C%0A%20%20%20%20%20%20%20%20%20%20%20%20%20%20%20%20%7D%2C%0A%20%20%20%20%20%20%20%20%20%20%20%20%20%20%20%20overlays%20%3A%20%20%7B%0A%20%20%20%20%20%20%20%20%20%20%20%20%20%20%20%20%20%20%20%20%22buoy%20locations%22%20%3A%20feature_group_7e6bcbe7ec454de6b165c5da6e9efc3d%2C%0A%20%20%20%20%20%20%20%20%20%20%20%20%20%20%20%20%20%20%20%20%22Buoy%20data%20availability%22%20%3A%20heat_map_9dae4bb861f744af8d23c84ea9a988db%2C%0A%20%20%20%20%20%20%20%20%20%20%20%20%20%20%20%20%20%20%20%20%22buoys%20from%20eval%20set%201%22%20%3A%20feature_group_926dd45bd5b94c308a0054429c268b88%2C%0A%20%20%20%20%20%20%20%20%20%20%20%20%20%20%20%20%20%20%20%20%22box2%22%20%3A%20feature_group_a56030252120413ba2516ff982cbfbc7%2C%0A%20%20%20%20%20%20%20%20%20%20%20%20%20%20%20%20%20%20%20%20%22box1%22%20%3A%20feature_group_d6d44c49e2f946769810b3e3acf5ce60%2C%0A%20%20%20%20%20%20%20%20%20%20%20%20%20%20%20%20%20%20%20%20%22outer%20box%22%20%3A%20feature_group_c9a0ebe4705c435f838999d8fc1acb61%2C%0A%20%20%20%20%20%20%20%20%20%20%20%20%20%20%20%20%7D%2C%0A%20%20%20%20%20%20%20%20%20%20%20%20%7D%3B%0A%20%20%20%20%20%20%20%20%20%20%20%20L.control.layers%28%0A%20%20%20%20%20%20%20%20%20%20%20%20%20%20%20%20layer_control_8f85e8dbf0484abf8d0c03a43e6e3287.base_layers%2C%0A%20%20%20%20%20%20%20%20%20%20%20%20%20%20%20%20layer_control_8f85e8dbf0484abf8d0c03a43e6e3287.overlays%2C%0A%20%20%20%20%20%20%20%20%20%20%20%20%20%20%20%20%7B%22autoZIndex%22%3A%20true%2C%20%22collapsed%22%3A%20true%2C%20%22position%22%3A%20%22topright%22%7D%0A%20%20%20%20%20%20%20%20%20%20%20%20%29.addTo%28map_d4df04940331448bb206bf10e5801f34%29%3B%0A%20%20%20%20%20%20%20%20%0A%3C/script%3E onload=\"this.contentDocument.open();this.contentDocument.write(    decodeURIComponent(this.getAttribute('data-html')));this.contentDocument.close();\" allowfullscreen webkitallowfullscreen mozallowfullscreen></iframe></div></div>"
      ],
      "text/plain": [
       "<folium.folium.Map at 0x7f27a22d2b50>"
      ]
     },
     "execution_count": 20,
     "metadata": {},
     "output_type": "execute_result"
    }
   ],
   "source": [
    "set_1_buoys = [\"41036\",\"42040\",\"42065\",\"41041\"]\n",
    "entire_area = geometry.box(*(-98.251934,12.282308,-45,35.55)) \n",
    "area_1 = geometry.box(*(-97.3,18.930645,-81.2,30.366655))\n",
    "area_2 = geometry.box(*(-82.836914,25.799891,-68.115234,35.55))\n",
    "box1_gdf = gpd.GeoDataFrame({\"geometry\":[area_1.union(area_2)]},crs=\"epsg:4326\")\n",
    "outer_box_gdf = gpd.GeoDataFrame({\"geometry\":[entire_area]},crs=\"epsg:4326\")\n",
    "\n",
    "available_buoys = buoy_df.index.get_level_values(\"buoy_id\").unique()\n",
    "available_buoys_gdf = buoy_gdf.loc[buoy_gdf.index.get_level_values(\"buoy_id\").isin(available_buoys)].reset_index()\n",
    "uniques = buoy_gdf.loc[idx[:,set_1_buoys],:].reset_index().drop_duplicates(subset=\"buoy_id\",keep=\"last\").set_index(\"buoy_id\")\n",
    "mp = map_viz.make_map_of_buoys(\n",
    "    location = available_buoys_gdf.unary_union.centroid.coords[0][::-1],\n",
    "    zoom_start = 4,\n",
    "    buoy_locations_df=available_buoys_gdf, \n",
    "    marker=partial(folium.CircleMarker, radius=1, weight=5,color=\"black\"),\n",
    ")\n",
    "map_viz.add_geodf_to_map(uniques.loc[set_1_buoys],map=mp, color=\"red\", radius=1, weight=5, layer_name=\"buoys from eval set 1\")\n",
    "area_1_gdf = gpd.GeoDataFrame({\"geometry\":[area_1]},crs=\"epsg:4326\")\n",
    "map_viz.add_geodf_to_map(utils.flip_coords(area_1_gdf),map=mp, layer_name=\"box2\", color=\"yellow\", alpha=0.5)\n",
    "map_viz.add_geodf_to_map(utils.flip_coords(box1_gdf),map=mp, layer_name=\"box1\",color=\"red\")\n",
    "map_viz.add_geodf_to_map(utils.flip_coords(outer_box_gdf),map=mp, layer_name=\"outer box\", color=\"blue\")\n",
    "folium.LayerControl().add_to(mp)\n",
    "mp"
   ]
  },
  {
   "cell_type": "code",
   "execution_count": null,
   "metadata": {},
   "outputs": [
    {
     "name": "stdout",
     "output_type": "stream",
     "text": [
      "Locations with the most data points:\n"
     ]
    },
    {
     "data": {
      "text/html": [
       "<div>\n",
       "<style scoped>\n",
       "    .dataframe tbody tr th:only-of-type {\n",
       "        vertical-align: middle;\n",
       "    }\n",
       "\n",
       "    .dataframe tbody tr th {\n",
       "        vertical-align: top;\n",
       "    }\n",
       "\n",
       "    .dataframe thead th {\n",
       "        text-align: right;\n",
       "    }\n",
       "</style>\n",
       "<table border=\"1\" class=\"dataframe\">\n",
       "  <thead>\n",
       "    <tr style=\"text-align: right;\">\n",
       "      <th></th>\n",
       "      <th>wave_height</th>\n",
       "      <th>wind_direction</th>\n",
       "    </tr>\n",
       "    <tr>\n",
       "      <th>buoy_id</th>\n",
       "      <th></th>\n",
       "      <th></th>\n",
       "    </tr>\n",
       "  </thead>\n",
       "  <tbody>\n",
       "    <tr>\n",
       "      <th>41008</th>\n",
       "      <td>92660</td>\n",
       "      <td>92866</td>\n",
       "    </tr>\n",
       "    <tr>\n",
       "      <th>42012</th>\n",
       "      <td>89844</td>\n",
       "      <td>85012</td>\n",
       "    </tr>\n",
       "    <tr>\n",
       "      <th>41009</th>\n",
       "      <td>88162</td>\n",
       "      <td>86921</td>\n",
       "    </tr>\n",
       "    <tr>\n",
       "      <th>41043</th>\n",
       "      <td>86445</td>\n",
       "      <td>77620</td>\n",
       "    </tr>\n",
       "    <tr>\n",
       "      <th>41049</th>\n",
       "      <td>86397</td>\n",
       "      <td>81394</td>\n",
       "    </tr>\n",
       "    <tr>\n",
       "      <th>41044</th>\n",
       "      <td>85123</td>\n",
       "      <td>83200</td>\n",
       "    </tr>\n",
       "    <tr>\n",
       "      <th>41046</th>\n",
       "      <td>84803</td>\n",
       "      <td>85603</td>\n",
       "    </tr>\n",
       "    <tr>\n",
       "      <th>42055</th>\n",
       "      <td>84433</td>\n",
       "      <td>79456</td>\n",
       "    </tr>\n",
       "    <tr>\n",
       "      <th>42020</th>\n",
       "      <td>83648</td>\n",
       "      <td>82290</td>\n",
       "    </tr>\n",
       "    <tr>\n",
       "      <th>41047</th>\n",
       "      <td>82768</td>\n",
       "      <td>76232</td>\n",
       "    </tr>\n",
       "  </tbody>\n",
       "</table>\n",
       "</div>"
      ],
      "text/plain": [
       "         wave_height  wind_direction\n",
       "buoy_id                             \n",
       "41008          92660           92866\n",
       "42012          89844           85012\n",
       "41009          88162           86921\n",
       "41043          86445           77620\n",
       "41049          86397           81394\n",
       "41044          85123           83200\n",
       "41046          84803           85603\n",
       "42055          84433           79456\n",
       "42020          83648           82290\n",
       "41047          82768           76232"
      ]
     },
     "metadata": {},
     "output_type": "display_data"
    },
    {
     "name": "stdout",
     "output_type": "stream",
     "text": [
      "Times with the most data points:\n"
     ]
    },
    {
     "data": {
      "text/html": [
       "<div>\n",
       "<style scoped>\n",
       "    .dataframe tbody tr th:only-of-type {\n",
       "        vertical-align: middle;\n",
       "    }\n",
       "\n",
       "    .dataframe tbody tr th {\n",
       "        vertical-align: top;\n",
       "    }\n",
       "\n",
       "    .dataframe thead th {\n",
       "        text-align: right;\n",
       "    }\n",
       "</style>\n",
       "<table border=\"1\" class=\"dataframe\">\n",
       "  <thead>\n",
       "    <tr style=\"text-align: right;\">\n",
       "      <th></th>\n",
       "      <th>wave_height</th>\n",
       "      <th>wind_direction</th>\n",
       "    </tr>\n",
       "    <tr>\n",
       "      <th>time</th>\n",
       "      <th></th>\n",
       "      <th></th>\n",
       "    </tr>\n",
       "  </thead>\n",
       "  <tbody>\n",
       "    <tr>\n",
       "      <th>2011-07-02 19:00:00</th>\n",
       "      <td>34</td>\n",
       "      <td>34</td>\n",
       "    </tr>\n",
       "    <tr>\n",
       "      <th>2011-07-02 18:00:00</th>\n",
       "      <td>34</td>\n",
       "      <td>34</td>\n",
       "    </tr>\n",
       "    <tr>\n",
       "      <th>2011-07-02 17:00:00</th>\n",
       "      <td>34</td>\n",
       "      <td>34</td>\n",
       "    </tr>\n",
       "    <tr>\n",
       "      <th>2011-07-02 16:00:00</th>\n",
       "      <td>34</td>\n",
       "      <td>34</td>\n",
       "    </tr>\n",
       "    <tr>\n",
       "      <th>2011-07-02 13:00:00</th>\n",
       "      <td>34</td>\n",
       "      <td>34</td>\n",
       "    </tr>\n",
       "    <tr>\n",
       "      <th>2011-07-01 18:00:00</th>\n",
       "      <td>34</td>\n",
       "      <td>34</td>\n",
       "    </tr>\n",
       "    <tr>\n",
       "      <th>2011-07-01 16:00:00</th>\n",
       "      <td>34</td>\n",
       "      <td>34</td>\n",
       "    </tr>\n",
       "    <tr>\n",
       "      <th>2011-07-01 15:00:00</th>\n",
       "      <td>34</td>\n",
       "      <td>34</td>\n",
       "    </tr>\n",
       "    <tr>\n",
       "      <th>2011-07-01 14:00:00</th>\n",
       "      <td>34</td>\n",
       "      <td>34</td>\n",
       "    </tr>\n",
       "    <tr>\n",
       "      <th>2011-07-01 08:00:00</th>\n",
       "      <td>34</td>\n",
       "      <td>34</td>\n",
       "    </tr>\n",
       "  </tbody>\n",
       "</table>\n",
       "</div>"
      ],
      "text/plain": [
       "                     wave_height  wind_direction\n",
       "time                                            \n",
       "2011-07-02 19:00:00           34              34\n",
       "2011-07-02 18:00:00           34              34\n",
       "2011-07-02 17:00:00           34              34\n",
       "2011-07-02 16:00:00           34              34\n",
       "2011-07-02 13:00:00           34              34\n",
       "2011-07-01 18:00:00           34              34\n",
       "2011-07-01 16:00:00           34              34\n",
       "2011-07-01 15:00:00           34              34\n",
       "2011-07-01 14:00:00           34              34\n",
       "2011-07-01 08:00:00           34              34"
      ]
     },
     "metadata": {},
     "output_type": "display_data"
    }
   ],
   "source": [
    "# locations with the most data points\n",
    "most_points = buoy_df[[\"wave_height\",\"wind_direction\"]].groupby(\n",
    "    \"buoy_id\"\n",
    ").count().sort_values(\n",
    "    by=[\"wave_height\",\"wind_direction\",\"buoy_id\"],\n",
    "    ascending=False)\n",
    "print(\"Locations with the most data points:\")\n",
    "display(most_points.head(10))\n",
    "# times with the most data points\n",
    "most_points = buoy_df[[\"wave_height\",\"wind_direction\"]].groupby(\n",
    "    \"time\"\n",
    ").count().sort_values(\n",
    "    by=[\"wave_height\",\"wind_direction\",\"time\"],\n",
    "    ascending=False)\n",
    "print(\"Times with the most data points:\")\n",
    "display(most_points.head(10))"
   ]
  },
  {
   "cell_type": "code",
   "execution_count": 21,
   "metadata": {},
   "outputs": [],
   "source": [
    "# within_box_buoys = buoy_gdf.loc[buoy_gdf.within(box1_gdf.unary_union)].index.get_level_values(\"buoy_id\").unique()\n",
    "# buoys_df_within = buoy_df.loc[buoy_df.index.get_level_values(\"buoy_id\").isin(within_box_buoys)]\n",
    "# prop_within_box = len(buoys_df_within.loc[set_1_buoys])/len(buoys_df_within)\n",
    "# prop_within_outer = len(buoy_df.loc[set_1_buoys])/len(buoy_df)\n",
    "# print(f\"Proportion of eval data within box 1: {prop_within_box:.3f}\")\n",
    "# print(f\"Proportion of eval data within outer box: {prop_within_outer:.3f}\")"
   ]
  },
  {
   "cell_type": "code",
   "execution_count": 3,
   "metadata": {},
   "outputs": [],
   "source": [
    "# variable = \"wave_height\"\n",
    "# time = \"2020-05-30 01:00\" #buoy_df.index.get_level_values(\"time\").max()\n",
    "# map_viz.add_geodf_to_map(\n",
    "#     buoy_df.loc[idx[:,time],:]\n",
    "#         .join(buoy_gdf.loc[pd.Timestamp(time).year])\n",
    "#         .dropna(subset=[\"wave_height\",\"wind_direction\"]),\n",
    "#     radius=1,weight=5,\n",
    "#     map_args={\"zoom_start\":4.5},\n",
    "#     popup=lambda x: f\"{x.buoy_name} {x.name}\",\n",
    "#     color = lambda x: \"red\" if x.name[0] in [\"42019\"] else \"blue\")"
   ]
  },
  {
   "cell_type": "markdown",
   "metadata": {},
   "source": [
    "---"
   ]
  }
 ],
 "metadata": {
  "interpreter": {
   "hash": "5156605a370da4264d35700d255afe940b4002408cb66ca14decdceceba1912f"
  },
  "kernelspec": {
   "display_name": "Python 3.8.13 ('.venv': venv)",
   "language": "python",
   "name": "python3"
  },
  "language_info": {
   "codemirror_mode": {
    "name": "ipython",
    "version": 3
   },
   "file_extension": ".py",
   "mimetype": "text/x-python",
   "name": "python",
   "nbconvert_exporter": "python",
   "pygments_lexer": "ipython3",
   "version": "3.8.13"
  },
  "orig_nbformat": 4
 },
 "nbformat": 4,
 "nbformat_minor": 2
}
