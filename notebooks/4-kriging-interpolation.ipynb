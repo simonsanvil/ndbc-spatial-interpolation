{
 "cells": [
  {
   "cell_type": "code",
   "execution_count": 2,
   "metadata": {},
   "outputs": [
    {
     "data": {
      "text/plain": [
       "True"
      ]
     },
     "execution_count": 2,
     "metadata": {},
     "output_type": "execute_result"
    }
   ],
   "source": [
    "import os, pickle, warnings\n",
    "from tqdm import tqdm\n",
    "from pprint import pprint\n",
    "\n",
    "import pandas as pd\n",
    "import numpy as np\n",
    "\n",
    "# modeling/experimentation\n",
    "import mlflow\n",
    "from scipy import interpolate\n",
    "from sklearn.metrics import mean_squared_error, r2_score, mean_absolute_error\n",
    "from pykrige.compat import Krige\n",
    "\n",
    "# to load parameters of the experiments\n",
    "from kedro.config import ConfigLoader\n",
    "\n",
    "# utils\n",
    "from joblib import Parallel, delayed\n",
    "from pandas import IndexSlice as idx\n",
    "from IPython.display import display\n",
    "\n",
    "# viz\n",
    "import seaborn as sns\n",
    "import matplotlib.pyplot as plt\n",
    "\n",
    "# experiments\n",
    "import experiments.noaa.machine_learning as ml_experiments\n",
    "from experiments.evaluation import eval_sets\n",
    "\n",
    "# local utils and other imports\n",
    "from spatial_interpolation.interpolators import ScipyInterpolator\n",
    "from spatial_interpolation import data, utils\n",
    "from spatial_interpolation.utils.experiments import conf \n",
    "from spatial_interpolation.data.load_data import get_ml_workspace\n",
    "from spatial_interpolation.utils import tqdm_joblib\n",
    "from spatial_interpolation.visualization import plot_interpolation\n",
    "\n",
    "\n",
    "# notebook configuration\n",
    "import dotenv\n",
    "warnings.simplefilter(action='ignore', category=FutureWarning)\n",
    "dotenv.load_dotenv()"
   ]
  },
  {
   "cell_type": "code",
   "execution_count": null,
   "metadata": {},
   "outputs": [],
   "source": [
    "# load features\n",
    "config_name = \"experiment1\"\n",
    "experiment = ml_experiments.NOAAMLTraining(config_name)#, mlflow_tracking_uri=tracking_uri)\n",
    "config = experiment.get_config()\n",
    "\n",
    "train_df = pd.concat(\n",
    "    [pd.read_parquet(f\"{config.input.train_dir}/{year}.parquet\") for year in range(2011,2022)],\n",
    "    axis=0).sort_index()\n",
    "test_df = pd.concat(\n",
    "    [pd.read_parquet(f\"{config.input.eval_dir}/{year}.parquet\") for year in range(2011,2022)],\n",
    "    axis=0).sort_index()\n",
    "\n",
    "train_by_times = train_df.swaplevel(0,1).sort_index()\n",
    "test_by_times = test_df.swaplevel(0,1).sort_index()\n",
    "\n"
   ]
  },
  {
   "cell_type": "code",
   "execution_count": null,
   "metadata": {},
   "outputs": [],
   "source": [
    "krige = Krige(method='ordinary', variogram_model='linear')\n"
   ]
  }
 ],
 "metadata": {
  "interpreter": {
   "hash": "5156605a370da4264d35700d255afe940b4002408cb66ca14decdceceba1912f"
  },
  "kernelspec": {
   "display_name": "Python 3.8.13 ('.venv': venv)",
   "language": "python",
   "name": "python3"
  },
  "language_info": {
   "codemirror_mode": {
    "name": "ipython",
    "version": 3
   },
   "file_extension": ".py",
   "mimetype": "text/x-python",
   "name": "python",
   "nbconvert_exporter": "python",
   "pygments_lexer": "ipython3",
   "version": "3.8.13"
  },
  "orig_nbformat": 4
 },
 "nbformat": 4,
 "nbformat_minor": 2
}
