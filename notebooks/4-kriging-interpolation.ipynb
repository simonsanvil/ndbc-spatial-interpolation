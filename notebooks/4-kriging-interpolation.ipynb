{
 "cells": [
  {
   "cell_type": "code",
   "execution_count": 3,
   "metadata": {},
   "outputs": [
    {
     "data": {
      "text/plain": [
       "True"
      ]
     },
     "execution_count": 3,
     "metadata": {},
     "output_type": "execute_result"
    }
   ],
   "source": [
    "import os, pickle, warnings\n",
    "from tqdm import tqdm\n",
    "from pprint import pprint\n",
    "\n",
    "import pandas as pd\n",
    "import numpy as np\n",
    "\n",
    "# modeling/experimentation\n",
    "import mlflow\n",
    "import skgstat as skg\n",
    "import gstools as gs\n",
    "from sklearn.metrics import mean_squared_error, r2_score, mean_absolute_error\n",
    "from pykrige.compat import Krige\n",
    "\n",
    "# to load parameters of the experiments\n",
    "from kedro.config import ConfigLoader\n",
    "\n",
    "# utils\n",
    "from joblib import Parallel, delayed\n",
    "from pandas import IndexSlice as idx\n",
    "from IPython.display import display\n",
    "\n",
    "# viz\n",
    "import seaborn as sns\n",
    "import matplotlib.pyplot as plt\n",
    "\n",
    "# experiments\n",
    "from experiments.noaa import NOAAKrigingExperiment\n",
    "from sklearn.model_selection import ParameterGrid\n",
    "\n",
    "# local utils and other imports\n",
    "from spatial_interpolation import data, utils\n",
    "from spatial_interpolation.utils.modeling import compute_metrics\n",
    "from spatial_interpolation.utils.experiments import conf \n",
    "from spatial_interpolation.data.load_data import get_ml_workspace\n",
    "from spatial_interpolation.utils import tqdm_joblib\n",
    "# from spatial_interpolation.visualization import plot_interpolation\n",
    "from experiments.configs.evaluation import eval_sets as eval_conf\n",
    "\n",
    "# notebook configuration\n",
    "import dotenv\n",
    "warnings.simplefilter(action='ignore', category=FutureWarning)\n",
    "dotenv.load_dotenv()"
   ]
  },
  {
   "cell_type": "code",
   "execution_count": 4,
   "metadata": {},
   "outputs": [
    {
     "name": "stdout",
     "output_type": "stream",
     "text": [
      "Split test obtained with dataset(s)=['buoys_data'] and shape(s)=[(80437, 14)]\n",
      "Split test obtained with dataset(s)=['buoys_data'] and shape(s)=[(80437, 14)]\n"
     ]
    }
   ],
   "source": [
    "# load data\n",
    "experiment = NOAAKrigingExperiment(\"ordinary_kriging_config\", n_jobs=20)\n",
    "config = experiment.get_config()\n",
    "dataset = data.NDBCDataLoader(**config.data_loading).load()\n",
    "df, gdf = dataset.buoys_data, dataset.buoys_geo\n",
    "\n",
    "locations_within_area = gdf.loc[gdf.within(eval_conf.ndbc[config.eval_set].area)].index.get_level_values(\"buoy_id\").unique()\n",
    "df = df.loc[df.index.get_level_values(\"buoy_id\").isin(locations_within_area)]\n",
    "gdf = gdf.loc[idx[:, locations_within_area],:]\n",
    "dataset = data.NDBCData(df, gdf)\n",
    "\n",
    "train, test = dataset.split_slice(test=eval_conf.ndbc[config.eval_set].eval)\n",
    "train_df = train.join()\n",
    "test_df = test.join()\n",
    "\n",
    "available_time = df.index.get_level_values(\"time\").unique()\n",
    "time_range = pd.date_range(available_time.min(), available_time.max(), freq=\"H\")\n",
    "\n",
    "train, test = dataset.split_slice(test=eval_conf.ndbc[config.eval_set].eval)\n",
    "train_df = train.join()\n",
    "test_df = test.join()\n",
    "\n",
    "time_steps = (\n",
    "    time_range\n",
    "    .to_series(name=\"time_step\")\n",
    "    .rename_axis(\"time\")\n",
    "    .rank(ascending=True)\n",
    ")\n",
    "\n",
    "target = config.target\n",
    "train_by_times = (\n",
    "    train_df\n",
    "    .reset_index()\n",
    "    .rename(columns={\"buoy_id\": \"location_id\"})\n",
    "    .set_index([\"time\", \"location_id\"])\n",
    "    .sort_index()\n",
    "    .dropna(subset=[target])\n",
    "    .join(time_steps)\n",
    ")\n",
    "test_by_times = (\n",
    "    test_df\n",
    "    .reset_index()\n",
    "    .rename(columns={\"buoy_id\": \"location_id\"})\n",
    "    .set_index([\"time\", \"location_id\"])\n",
    "    .sort_index()\n",
    "    .dropna(subset=[target])\n",
    "    .join(time_steps)\n",
    ")\n"
   ]
  },
  {
   "cell_type": "code",
   "execution_count": 82,
   "metadata": {},
   "outputs": [],
   "source": [
    "time = pd.Timestamp(\"2020-05-10 05:00\") #train_by_times.index.get_level_values(0)[-1]\n",
    "dims = config.dimensions\n",
    "delta = pd.Timedelta(\"3H\")#config.delta)\n",
    "# krige = Krige(method='ordinary', variogram_model='gaussian')\n",
    "# krige.fit(train_by_times.loc[time,dims].values,y=train_by_times.loc[time,target].values)\n",
    "# krige.predict(test_by_times.loc[time,dims].values)"
   ]
  },
  {
   "cell_type": "code",
   "execution_count": 6,
   "metadata": {},
   "outputs": [
    {
     "name": "stdout",
     "output_type": "stream",
     "text": [
      "['latitude', 'longitude']\n"
     ]
    },
    {
     "data": {
      "text/plain": [
       "(array([1.68266958, 0.8747933 ]), array([2.17, 1.05]))"
      ]
     },
     "execution_count": 6,
     "metadata": {},
     "output_type": "execute_result"
    }
   ],
   "source": [
    "experiment = NOAAKrigingExperiment(\"ordinary_kriging_config\", n_jobs=20)\n",
    "config = experiment.get_config()\n",
    "dims = config.dimensions\n",
    "print(dims)\n",
    "krige = config.interpolator(\n",
    "    dimensions=dims,\n",
    "    **config.interpolator_params\n",
    ")\n",
    "krige.fit(train_by_times.loc[time, dims], y=train_by_times.loc[time, target])\n",
    "krige.predict(test_by_times.loc[time, dims],with_error=False), test_by_times.loc[time, target].values"
   ]
  },
  {
   "cell_type": "code",
   "execution_count": 83,
   "metadata": {},
   "outputs": [
    {
     "data": {
      "text/plain": [
       "(array([1.23316103, 1.22864791]), array([2.17, 1.05]))"
      ]
     },
     "execution_count": 83,
     "metadata": {},
     "output_type": "execute_result"
    }
   ],
   "source": [
    "model = krige._model()\n",
    "\n",
    "pos = [train_by_times.loc[time, dim].values for dim in krige.dimensions[:-1]]\n",
    "t = train_by_times.loc[(time-delta):time, krige.dimensions[-1]].unique() # 10 time steps\n",
    "st_grid = gs.generate_st_grid(pos, t)\n",
    "y = train_by_times.loc[(time-delta):time, target].values\n",
    "bin_center, gamma = gs.vario_estimate(st_grid,y)\n",
    "_, _, r2 = model.fit_variogram(bin_center, gamma, return_r2=True)\n",
    "\n",
    "ok = gs.krige.Krige(model= model, cond_pos=st_grid, cond_val=y)\n",
    "\n",
    "y_pos = [test_by_times.loc[time, dim].values for dim in krige.dimensions[:-1]]\n",
    "y_t = test_by_times.loc[time, krige.dimensions[-1]].unique() # 10 time steps\n",
    "y_st_grid = gs.generate_st_grid(y_pos, y_t)\n",
    "pred, err = ok(y_st_grid)\n",
    "pred, test_by_times.loc[time, target].values"
   ]
  },
  {
   "cell_type": "code",
   "execution_count": 84,
   "metadata": {},
   "outputs": [
    {
     "data": {
      "text/plain": [
       "(array([1.40028248, 1.92455278]), array([2.17, 1.05]))"
      ]
     },
     "execution_count": 84,
     "metadata": {},
     "output_type": "execute_result"
    }
   ],
   "source": [
    "model = krige._model()\n",
    "\n",
    "pos = [train_by_times.loc[(time-delta):time, dim].values for dim in krige.dimensions]\n",
    "y = train_by_times.loc[(time-delta):time, target].values\n",
    "bin_center, gamma = gs.vario_estimate(pos,y)\n",
    "_, _, r2 = model.fit_variogram(bin_center, gamma, return_r2=True)\n",
    "ok = gs.krige.Krige(model= model, cond_pos=st_grid, cond_val=y)\n",
    "\n",
    "pos_hat = [test_by_times.loc[time, dim].values for dim in krige.dimensions]\n",
    "y_hat, err = ok(pos_hat)\n",
    "y_hat, test_by_times.loc[time, target].values"
   ]
  },
  {
   "cell_type": "code",
   "execution_count": 85,
   "metadata": {},
   "outputs": [
    {
     "name": "stdout",
     "output_type": "stream",
     "text": [
      "['longitude', 'latitude', 'time_step']\n"
     ]
    },
    {
     "data": {
      "text/plain": [
       "(array([1.66734701, 0.93605746]), array([2.17, 1.05]))"
      ]
     },
     "execution_count": 85,
     "metadata": {},
     "output_type": "execute_result"
    }
   ],
   "source": [
    "experiment = NOAAKrigingExperiment(\"ok_time_config\", n_jobs=20)\n",
    "config = experiment.get_config()\n",
    "dims = config.dimensions\n",
    "print(dims)\n",
    "# delta = pd.Timedelta(config.delta)\n",
    "krige = config.interpolator(\n",
    "    dimensions=dims,\n",
    "    **config.interpolator_params\n",
    ")\n",
    "krige.fit(train_by_times.loc[(time-delta):time, dims], y=train_by_times.loc[(time-delta):time, target])\n",
    "krige.predict(test_by_times.loc[time, dims],with_error=False), test_by_times.loc[time, target].values"
   ]
  },
  {
   "cell_type": "code",
   "execution_count": 13,
   "metadata": {},
   "outputs": [
    {
     "data": {
      "text/plain": [
       "56"
      ]
     },
     "execution_count": 13,
     "metadata": {},
     "output_type": "execute_result"
    }
   ],
   "source": [
    "config = experiment.get_config()\n",
    "search_params = config.get(\"search_parameters\").to_dict()\n",
    "parameters_to_search = list(ParameterGrid(search_params))\n",
    "len(parameters_to_search)"
   ]
  },
  {
   "cell_type": "code",
   "execution_count": 19,
   "metadata": {},
   "outputs": [
    {
     "data": {
      "text/plain": [
       "(array([1.71200646, 0.81195009]), array([2.17, 1.05]))"
      ]
     },
     "execution_count": 19,
     "metadata": {},
     "output_type": "execute_result"
    }
   ],
   "source": [
    "krige = config.interpolator(\n",
    "    dimensions=dims,\n",
    "    **config.interpolator_params\n",
    ")\n",
    "krige.fit(train_by_times.loc[time, dims], y=train_by_times.loc[time, target])\n",
    "krige.predict(test_by_times.loc[time, dims], with_error=False), test_by_times.loc[time, target].values"
   ]
  },
  {
   "cell_type": "code",
   "execution_count": null,
   "metadata": {},
   "outputs": [],
   "source": [
    "params = parameters_to_search[0]\n",
    "\n",
    "scores = {}\n",
    "results = []\n",
    "for model in tqdm(config.search_parameters.model):\n",
    "    model = model(latlon=True, rescale=gs.EARTH_RADIUS)\n",
    "    # model = params[\"model\"](latlon=True, rescale=gs.EARTH_RADIUS)\n",
    "    # num_bins = params[\"num_bins\"]\n",
    "    # bins = np.arange(params[\"num_bins\"])\n",
    "    x = train_by_times.loc[time,dims]\n",
    "    y = train_by_times.loc[time,target]\n",
    "    lat, lon = x.values[:,1],x.values[:,0]\n",
    "    bin_center, gamma = gs.vario_estimate((x.values[:,1],x.values[:,0]),train_by_times.loc[time,target].values, latlon=True)\n",
    "    _, __, r2 = model.fit_variogram(bin_center, gamma, return_r2=True)\n",
    "    # krige = gs.krige.Krige(model=model, x.values, y.values, latlon=True)\n",
    "    scores[f\"{model.__class__.__name__}\"] = r2\n",
    "    # if params[\"num_bins\"] == 60:\n",
    "    fig, ax = plt.subplots(1,1,figsize=(10,10))\n",
    "    ax.scatter(bin_center, gamma, color=\"k\", label=\"data\")\n",
    "    model.plot(\"vario_yadrenko\", ax=ax, x_max=bin_center[-1]+np.std(bin_center))\n",
    "    ax.set_title(f\"{model.__class__.__name__} Variogram R2={r2:.2f}\")\n",
    "\n",
    "    krige = gs.krige.Krige(model=model, cond_pos=(lat, lon), cond_val=y.values)\n",
    "    lat_tst, lon_tst = test_by_times.loc[time,dims].values[:,1],test_by_times.loc[time,dims].values[:,0]\n",
    "    y_pred, err = krige((lat_tst, lon_tst))\n",
    "    metrics = compute_metrics(y_pred, test_by_times.loc[time,target].values)\n",
    "    metrics[\"model\"] = model.__class__.__name__\n",
    "    results.append(metrics)\n",
    "\n",
    "results_df = pd.DataFrame(results).sort_values(\"rmse\",ascending=True).set_index(\"model\").round(3)\n",
    "print(\"Best models (sorted):\\n\",sorted(scores,key=scores.get, reverse=True))\n",
    "results_df"
   ]
  },
  {
   "cell_type": "code",
   "execution_count": 45,
   "metadata": {},
   "outputs": [
    {
     "name": "stdout",
     "output_type": "stream",
     "text": [
      "Linear(latlon=True, var=0.142, len_scale=6.52e+02, nugget=3.74e-15, rescale=6.37e+03)\n"
     ]
    },
    {
     "data": {
      "text/plain": [
       "<Figure size 432x288 with 0 Axes>"
      ]
     },
     "metadata": {},
     "output_type": "display_data"
    },
    {
     "data": {
      "image/png": "[encoded data removed]",
      "text/plain": [
       "<Figure size 432x288 with 1 Axes>"
      ]
     },
     "metadata": {
      "needs_background": "light"
     },
     "output_type": "display_data"
    },
    {
     "data": {
      "image/png": "[encoded data removed]",
      "text/plain": [
       "<Figure size 864x576 with 4 Axes>"
      ]
     },
     "metadata": {
      "needs_background": "light"
     },
     "output_type": "display_data"
    }
   ],
   "source": [
    "plt.set_cmap('jet')\n",
    "x = train_by_times.loc[time,dims]\n",
    "lat, lon = x.values[:,1],x.values[:,0]\n",
    "y = train_by_times.loc[time,target]\n",
    "bins = gs.standard_bins((lon,lat),latlon=True)\n",
    "bin_c, vario = gs.vario_estimate((x.values[:,1],x.values[:,0]),train_by_times.loc[time,target].values,latlon=True)\n",
    "model = gs.Linear(latlon=True, rescale=gs.EARTH_RADIUS)\n",
    "model.fit_variogram(bin_c, vario)\n",
    "ax = model.plot(\"vario_yadrenko\")#, x_max=bins[-1])\n",
    "ax.scatter(bin_c, vario)\n",
    "ax.set(xlabel=\"Distance\", ylabel=\"Spatial Variance\", title=f\"{model.__class__.__name__} Variogram\")\n",
    "print(model)\n",
    "uk = gs.krige.Ordinary(\n",
    "    model=model,\n",
    "    cond_pos=(x.values[:,1],x.values[:,0]),\n",
    "    cond_val=train_by_times.loc[time,target].values,\n",
    "    # drift_functions=north_south_drift,\n",
    ")\n",
    "xmin, ymin, xmax, ymax = area.bounds\n",
    "grid_lats, grid_lons = np.linspace(ymin, ymax, 100), np.linspace(xmin, xmax, 100)\n",
    "uk.set_pos((grid_lats, grid_lons), mesh_type=\"structured\")\n",
    "uk(return_var=False, store=\"field\")\n",
    "uk(only_mean=True, store=\"mean_field\")\n",
    "\n",
    "levels = np.linspace(0, 4, 64)\n",
    "fig, ax = plt.subplots(1, 3, figsize=(12, 8), sharey=True)\n",
    "sca = ax[0].scatter(lon, lat, c=y, vmin=0, vmax=4, s=10)\n",
    "co1 = ax[1].contourf(grid_lons, grid_lats, uk[\"field\"], levels)\n",
    "co2 = ax[2].contourf(grid_lons, grid_lats, uk[\"mean_field\"], levels)\n",
    "\n",
    "[df_countries.plot(ax=ax[i],alpha=0.5) for i in range(3)]\n",
    "[ax[i].set_xlim([xmin, xmax]) for i in range(3)]\n",
    "[ax[i].set_ylim([ymin, ymax]) for i in range(3)]\n",
    "[ax[i].set_xlabel(\"Lon in deg\") for i in range(3)]\n",
    "ax[0].set_ylabel(\"Lat in deg\")\n",
    "\n",
    "ax[0].set_title(f\"Wave Height observations\\n({pd.Timestamp(time):%b %d, %Y at %H:%M})\")\n",
    "ax[1].set_title(\"Kriging Interpolated\\nvalues\")\n",
    "ax[2].set_title(\"Estimated mean\\n\")\n",
    "\n",
    "fmt = dict(orientation=\"horizontal\", shrink=0.5, fraction=0.1, pad=0.1)\n",
    "fig.colorbar(co2, ax=ax, **fmt).set_label(\"Wave height in meters\")\n",
    "# fig.tight_layout()"
   ]
  },
  {
   "cell_type": "code",
   "execution_count": 46,
   "metadata": {},
   "outputs": [
    {
     "data": {
      "text/html": [
       "<div>\n",
       "<style scoped>\n",
       "    .dataframe tbody tr th:only-of-type {\n",
       "        vertical-align: middle;\n",
       "    }\n",
       "\n",
       "    .dataframe tbody tr th {\n",
       "        vertical-align: top;\n",
       "    }\n",
       "\n",
       "    .dataframe thead th {\n",
       "        text-align: right;\n",
       "    }\n",
       "</style>\n",
       "<table border=\"1\" class=\"dataframe\">\n",
       "  <thead>\n",
       "    <tr style=\"text-align: right;\">\n",
       "      <th></th>\n",
       "      <th></th>\n",
       "      <th>y_pred</th>\n",
       "      <th>y_true</th>\n",
       "    </tr>\n",
       "    <tr>\n",
       "      <th>time</th>\n",
       "      <th>location_id</th>\n",
       "      <th></th>\n",
       "      <th></th>\n",
       "    </tr>\n",
       "  </thead>\n",
       "  <tbody>\n",
       "    <tr>\n",
       "      <th rowspan=\"2\" valign=\"top\">2020-05-10 05:00:00</th>\n",
       "      <th>42019</th>\n",
       "      <td>1.697355</td>\n",
       "      <td>2.17</td>\n",
       "    </tr>\n",
       "    <tr>\n",
       "      <th>42040</th>\n",
       "      <td>0.870666</td>\n",
       "      <td>1.05</td>\n",
       "    </tr>\n",
       "  </tbody>\n",
       "</table>\n",
       "</div>"
      ],
      "text/plain": [
       "                                   y_pred  y_true\n",
       "time                location_id                  \n",
       "2020-05-10 05:00:00 42019        1.697355    2.17\n",
       "                    42040        0.870666    1.05"
      ]
     },
     "execution_count": 46,
     "metadata": {},
     "output_type": "execute_result"
    }
   ],
   "source": [
    "pred, ss = krige.model.execute(\n",
    "    \"points\", \n",
    "    test_by_times.loc[time,dims].values[:,0],test_by_times.loc[time,dims].values[:,1]\n",
    ")\n",
    "pd.DataFrame({target:pred},index=test_by_times.loc[time].index)\\\n",
    "    .join(test_by_times[target],rsuffix=\"_true\")\\\n",
    "        .rename(columns={target:\"y_pred\", f\"{target}_true\":\"y_true\"})"
   ]
  },
  {
   "cell_type": "code",
   "execution_count": 77,
   "metadata": {},
   "outputs": [
    {
     "name": "stdout",
     "output_type": "stream",
     "text": [
      "Variogram fitted: spherical\n"
     ]
    },
    {
     "data": {
      "text/html": [
       "<div>\n",
       "<style scoped>\n",
       "    .dataframe tbody tr th:only-of-type {\n",
       "        vertical-align: middle;\n",
       "    }\n",
       "\n",
       "    .dataframe tbody tr th {\n",
       "        vertical-align: top;\n",
       "    }\n",
       "\n",
       "    .dataframe thead th {\n",
       "        text-align: right;\n",
       "    }\n",
       "</style>\n",
       "<table border=\"1\" class=\"dataframe\">\n",
       "  <thead>\n",
       "    <tr style=\"text-align: right;\">\n",
       "      <th></th>\n",
       "      <th></th>\n",
       "      <th>y_pred</th>\n",
       "      <th>y_true</th>\n",
       "    </tr>\n",
       "    <tr>\n",
       "      <th>time</th>\n",
       "      <th>location_id</th>\n",
       "      <th></th>\n",
       "      <th></th>\n",
       "    </tr>\n",
       "  </thead>\n",
       "  <tbody>\n",
       "    <tr>\n",
       "      <th rowspan=\"2\" valign=\"top\">2020-05-10 05:00:00</th>\n",
       "      <th>42019</th>\n",
       "      <td>1.677907</td>\n",
       "      <td>2.17</td>\n",
       "    </tr>\n",
       "    <tr>\n",
       "      <th>42040</th>\n",
       "      <td>0.843030</td>\n",
       "      <td>1.05</td>\n",
       "    </tr>\n",
       "  </tbody>\n",
       "</table>\n",
       "</div>"
      ],
      "text/plain": [
       "                                   y_pred  y_true\n",
       "time                location_id                  \n",
       "2020-05-10 05:00:00 42019        1.677907    2.17\n",
       "                    42040        0.843030    1.05"
      ]
     },
     "execution_count": 77,
     "metadata": {},
     "output_type": "execute_result"
    }
   ],
   "source": [
    "V = skg.Variogram(train_by_times.loc[time,dims], train_by_times.loc[time,target])\n",
    "# V.model = \"gaussian\"\n",
    "print(\"Variogram fitted:\",V.model.__name__)\n",
    "kr = V.to_gs_krige()\n",
    "kr.set_pos((test_by_times.loc[time,dims].values[:,0],test_by_times.loc[time,dims].values[:,1]),mesh_type=\"unstructured\")\n",
    "kr(return_var=False, store=\"field\")\n",
    "kr(only_mean=True, store=\"mean_field\")\n",
    "pred= kr[\"field\"]\n",
    "pd.DataFrame({target:pred},index=test_by_times.loc[time].index)\\\n",
    "    .join(test_by_times[target],rsuffix=\"_true\")\\\n",
    "        .rename(columns={target:\"y_pred\", f\"{target}_true\":\"y_true\"})"
   ]
  },
  {
   "cell_type": "code",
   "execution_count": 76,
   "metadata": {},
   "outputs": [
    {
     "data": {
      "text/plain": [
       "array([1.69139376, 0.8791894 ])"
      ]
     },
     "execution_count": 76,
     "metadata": {},
     "output_type": "execute_result"
    }
   ],
   "source": [
    "from skgstat import OrdinaryKriging\n",
    "\n",
    "ok = OrdinaryKriging(V, min_points=5, max_points=20, mode='exact')\n",
    "ok.transform(test_by_times.loc[time,dims].values)"
   ]
  }
 ],
 "metadata": {
  "interpreter": {
   "hash": "5156605a370da4264d35700d255afe940b4002408cb66ca14decdceceba1912f"
  },
  "kernelspec": {
   "display_name": "Python 3.8.13 ('.venv': venv)",
   "language": "python",
   "name": "python3"
  },
  "language_info": {
   "codemirror_mode": {
    "name": "ipython",
    "version": 3
   },
   "file_extension": ".py",
   "mimetype": "text/x-python",
   "name": "python",
   "nbconvert_exporter": "python",
   "pygments_lexer": "ipython3",
   "version": "3.8.13"
  },
  "orig_nbformat": 4
 },
 "nbformat": 4,
 "nbformat_minor": 2
}
